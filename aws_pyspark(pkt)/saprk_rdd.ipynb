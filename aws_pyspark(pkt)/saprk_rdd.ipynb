{
 "cells": [
  {
   "cell_type": "code",
   "execution_count": 1,
   "metadata": {},
   "outputs": [],
   "source": [
    "from pyspark import SparkConf,SparkContext"
   ]
  },
  {
   "cell_type": "code",
   "execution_count": 2,
   "metadata": {},
   "outputs": [],
   "source": [
    "conf = SparkConf().setAppName('readfile')"
   ]
  },
  {
   "cell_type": "code",
   "execution_count": 3,
   "metadata": {},
   "outputs": [],
   "source": [
    "# commnad\n",
    "sc = SparkContext.getOrCreate(conf=conf)"
   ]
  },
  {
   "cell_type": "code",
   "execution_count": 4,
   "metadata": {},
   "outputs": [
    {
     "data": {
      "text/html": [
       "\n",
       "        <div>\n",
       "            <p><b>SparkContext</b></p>\n",
       "\n",
       "            <p><a href=\"http://avinash:4040\">Spark UI</a></p>\n",
       "\n",
       "            <dl>\n",
       "              <dt>Version</dt>\n",
       "                <dd><code>v3.0.3</code></dd>\n",
       "              <dt>Master</dt>\n",
       "                <dd><code>local[*]</code></dd>\n",
       "              <dt>AppName</dt>\n",
       "                <dd><code>readfile</code></dd>\n",
       "            </dl>\n",
       "        </div>\n",
       "        "
      ],
      "text/plain": [
       "<SparkContext master=local[*] appName=readfile>"
      ]
     },
     "execution_count": 4,
     "metadata": {},
     "output_type": "execute_result"
    }
   ],
   "source": [
    "sc"
   ]
  },
  {
   "cell_type": "code",
   "execution_count": 5,
   "metadata": {},
   "outputs": [],
   "source": [
    "rdd = sc.textFile('sample.txt')"
   ]
  },
  {
   "cell_type": "code",
   "execution_count": 6,
   "metadata": {},
   "outputs": [
    {
     "data": {
      "text/plain": [
       "['1 2 3 4 5', '3 5 6 8 9', '10 12 11 13 15', '11 13 12']"
      ]
     },
     "execution_count": 6,
     "metadata": {},
     "output_type": "execute_result"
    }
   ],
   "source": [
    "rdd.collect()"
   ]
  },
  {
   "cell_type": "markdown",
   "metadata": {},
   "source": [
    "## 1.map"
   ]
  },
  {
   "cell_type": "code",
   "execution_count": 7,
   "metadata": {},
   "outputs": [
    {
     "data": {
      "text/plain": [
       "[['1', '2', '3', '4', '5'],\n",
       " ['3', '5', '6', '8', '9'],\n",
       " ['10', '12', '11', '13', '15'],\n",
       " ['11', '13', '12']]"
      ]
     },
     "execution_count": 7,
     "metadata": {},
     "output_type": "execute_result"
    }
   ],
   "source": [
    "## map\n",
    "rdd2 = rdd.map(lambda x: x.split())\n",
    "rdd2.collect()\n"
   ]
  },
  {
   "cell_type": "code",
   "execution_count": 8,
   "metadata": {},
   "outputs": [
    {
     "data": {
      "text/plain": [
       "[['1', '2', '3', '4', '5'],\n",
       " ['3', '5', '6', '8', '9'],\n",
       " ['10', '12', '11', '13', '15'],\n",
       " ['11', '13', '12']]"
      ]
     },
     "execution_count": 8,
     "metadata": {},
     "output_type": "execute_result"
    }
   ],
   "source": [
    "def foo(x):\n",
    "    return x.split(\" \")\n",
    "\n",
    "rdd3 = rdd.map(foo)\n",
    "rdd3.collect()"
   ]
  },
  {
   "cell_type": "code",
   "execution_count": 9,
   "metadata": {},
   "outputs": [
    {
     "data": {
      "text/plain": [
       "[1, 2, 7, 7]"
      ]
     },
     "execution_count": 9,
     "metadata": {},
     "output_type": "execute_result"
    }
   ],
   "source": [
    "str1='I am avinash godbole'\n",
    "[len(word) for word in str1.split( )]"
   ]
  },
  {
   "cell_type": "code",
   "execution_count": 10,
   "metadata": {},
   "outputs": [
    {
     "data": {
      "text/plain": [
       "[[2, 3, 3, 4], [4, 3, 3, 5], [5]]"
      ]
     },
     "execution_count": 10,
     "metadata": {},
     "output_type": "execute_result"
    }
   ],
   "source": [
    "### quize 1\n",
    "quiz_text = sc.textFile('Data/quiz1.txt')\n",
    "word_count=quiz_text.map(lambda x: [len(word) for word in x.split()])\n",
    "word_count.collect()"
   ]
  },
  {
   "cell_type": "markdown",
   "metadata": {},
   "source": [
    "### 1.flatmap"
   ]
  },
  {
   "cell_type": "code",
   "execution_count": 11,
   "metadata": {},
   "outputs": [
    {
     "data": {
      "text/plain": [
       "[['Hi', 'how', 'are', 'you?'], ['Hope', 'you', 'are', 'doing'], ['great']]"
      ]
     },
     "execution_count": 11,
     "metadata": {},
     "output_type": "execute_result"
    }
   ],
   "source": [
    "quiz_text.map(lambda x: x.split()).collect()"
   ]
  },
  {
   "cell_type": "code",
   "execution_count": 12,
   "metadata": {},
   "outputs": [
    {
     "data": {
      "text/plain": [
       "['Hi', 'how', 'are', 'you?', 'Hope', 'you', 'are', 'doing', 'great']"
      ]
     },
     "execution_count": 12,
     "metadata": {},
     "output_type": "execute_result"
    }
   ],
   "source": [
    "quiz_text.flatMap(lambda x: x.split()).collect()"
   ]
  },
  {
   "cell_type": "markdown",
   "metadata": {},
   "source": [
    "## 2.filter"
   ]
  },
  {
   "cell_type": "code",
   "execution_count": 19,
   "metadata": {},
   "outputs": [],
   "source": [
    "# filter\n",
    "text = '''the mango company dog animal\n",
    "cat dog ant mango mic laptop\n",
    "chair switch mobile mango am charger cover\n",
    "amanda any mango alarm ant'''\n",
    "\n",
    "with open('filter.txt','w') as f:\n",
    "    f.write(text)"
   ]
  },
  {
   "cell_type": "code",
   "execution_count": 13,
   "metadata": {},
   "outputs": [
    {
     "data": {
      "text/plain": [
       "['the mango company dog animal',\n",
       " 'cat dog ant mango mic laptop',\n",
       " 'chair switch mobile mango am charger cover',\n",
       " 'amanda any mango alarm ant']"
      ]
     },
     "execution_count": 13,
     "metadata": {},
     "output_type": "execute_result"
    }
   ],
   "source": [
    "rdd1= sc.textFile('filter.txt')\n",
    "rdd1.collect()"
   ]
  },
  {
   "cell_type": "code",
   "execution_count": 14,
   "metadata": {},
   "outputs": [
    {
     "data": {
      "text/plain": [
       "['the',\n",
       " 'mango',\n",
       " 'dog',\n",
       " 'dog',\n",
       " 'mango',\n",
       " 'mic',\n",
       " 'laptop',\n",
       " 'switch',\n",
       " 'mobile',\n",
       " 'mango',\n",
       " 'mango']"
      ]
     },
     "execution_count": 14,
     "metadata": {},
     "output_type": "execute_result"
    }
   ],
   "source": [
    "def filt(x):\n",
    "    if x[0]=='a' or x[0]=='c':\n",
    "        print(x[0])\n",
    "        return False\n",
    "    else:\n",
    "        return True\n",
    "\n",
    "rdd2 = rdd1.flatMap(lambda x: x.split(\" \")).filter(filt)\n",
    "rdd2.collect()"
   ]
  },
  {
   "cell_type": "code",
   "execution_count": 15,
   "metadata": {},
   "outputs": [
    {
     "data": {
      "text/plain": [
       "['the',\n",
       " 'mango',\n",
       " 'dog',\n",
       " 'dog',\n",
       " 'mango',\n",
       " 'mic',\n",
       " 'laptop',\n",
       " 'switch',\n",
       " 'mobile',\n",
       " 'mango',\n",
       " 'mango']"
      ]
     },
     "execution_count": 15,
     "metadata": {},
     "output_type": "execute_result"
    }
   ],
   "source": [
    "def word(x):\n",
    "    wo =[]\n",
    "    for i in x.split():\n",
    "        if i[0]!='a' and i[0]!='c':\n",
    "            wo.append(i)\n",
    "\n",
    "    return wo \n",
    "\n",
    "rdd3 = rdd1.flatMap(word)\n",
    "rdd3.collect()     "
   ]
  },
  {
   "cell_type": "code",
   "execution_count": 26,
   "metadata": {},
   "outputs": [
    {
     "data": {
      "text/plain": [
       "['mango', 'laptop', 'switch', 'mobile', 'the', 'dog', 'mic']"
      ]
     },
     "execution_count": 26,
     "metadata": {},
     "output_type": "execute_result"
    }
   ],
   "source": [
    "rdd3.distinct().collect()"
   ]
  },
  {
   "cell_type": "markdown",
   "metadata": {},
   "source": [
    "### distinct"
   ]
  },
  {
   "cell_type": "code",
   "execution_count": 16,
   "metadata": {},
   "outputs": [
    {
     "data": {
      "text/plain": [
       "['1', '4', '8', '9', '10', '12', '2', '3', '5', '6', '11', '13', '15']"
      ]
     },
     "execution_count": 16,
     "metadata": {},
     "output_type": "execute_result"
    }
   ],
   "source": [
    "# Distinct method\n",
    "\n",
    "rdd.flatMap(lambda x : x.split()).distinct().collect()"
   ]
  },
  {
   "cell_type": "markdown",
   "metadata": {},
   "source": [
    "## 3. Groupby key"
   ]
  },
  {
   "cell_type": "code",
   "execution_count": 18,
   "metadata": {},
   "outputs": [
    {
     "data": {
      "text/plain": [
       "[('mango', [5, 5, 5, 5]),\n",
       " ('cat', [3]),\n",
       " ('ant', [3, 3]),\n",
       " ('laptop', [6]),\n",
       " ('chair', [5]),\n",
       " ('switch', [6]),\n",
       " ('mobile', [6]),\n",
       " ('am', [2]),\n",
       " ('the', [3]),\n",
       " ('company', [7]),\n",
       " ('dog', [3, 3]),\n",
       " ('animal', [6]),\n",
       " ('mic', [3]),\n",
       " ('charger', [7]),\n",
       " ('cover', [5]),\n",
       " ('amanda', [6]),\n",
       " ('any', [3]),\n",
       " ('alarm', [5])]"
      ]
     },
     "execution_count": 18,
     "metadata": {},
     "output_type": "execute_result"
    }
   ],
   "source": [
    "# GropbyKey\n",
    "rdd1.flatMap(lambda x: x.split(' ')).map(lambda x: (x,len(x)))\\\n",
    "    .groupByKey().mapValues(list).collect()"
   ]
  },
  {
   "cell_type": "markdown",
   "metadata": {},
   "source": [
    "## 4.ReduceByKey"
   ]
  },
  {
   "cell_type": "code",
   "execution_count": 26,
   "metadata": {},
   "outputs": [
    {
     "data": {
      "text/plain": [
       "[('mango', 20),\n",
       " ('cat', 3),\n",
       " ('ant', 6),\n",
       " ('laptop', 6),\n",
       " ('chair', 5),\n",
       " ('switch', 6),\n",
       " ('mobile', 6),\n",
       " ('am', 2),\n",
       " ('the', 3),\n",
       " ('company', 7),\n",
       " ('dog', 6),\n",
       " ('animal', 6),\n",
       " ('mic', 3),\n",
       " ('charger', 7),\n",
       " ('cover', 5),\n",
       " ('amanda', 6),\n",
       " ('any', 3),\n",
       " ('alarm', 5)]"
      ]
     },
     "execution_count": 26,
     "metadata": {},
     "output_type": "execute_result"
    }
   ],
   "source": [
    "# reduceByKey\n",
    "rdd1.flatMap(lambda x: x.split()).map(lambda x: (x,len(x)))\\\n",
    "    .reduceByKey(lambda x,y:x+y).collect()"
   ]
  },
  {
   "cell_type": "code",
   "execution_count": 27,
   "metadata": {},
   "outputs": [
    {
     "data": {
      "text/plain": [
       "[('mango', 4),\n",
       " ('cat', 1),\n",
       " ('ant', 2),\n",
       " ('laptop', 1),\n",
       " ('chair', 1),\n",
       " ('switch', 1),\n",
       " ('mobile', 1),\n",
       " ('am', 1),\n",
       " ('the', 1),\n",
       " ('company', 1),\n",
       " ('dog', 2),\n",
       " ('animal', 1),\n",
       " ('mic', 1),\n",
       " ('charger', 1),\n",
       " ('cover', 1),\n",
       " ('amanda', 1),\n",
       " ('any', 1),\n",
       " ('alarm', 1)]"
      ]
     },
     "execution_count": 27,
     "metadata": {},
     "output_type": "execute_result"
    }
   ],
   "source": [
    "# quiz count word\n",
    "rdd1.flatMap(lambda x: x.split(\" \")).map(lambda x : (x,1))\\\n",
    "    .reduceByKey(lambda x,y:x+y).collect()"
   ]
  },
  {
   "cell_type": "code",
   "execution_count": 30,
   "metadata": {},
   "outputs": [
    {
     "data": {
      "text/plain": [
       "23"
      ]
     },
     "execution_count": 30,
     "metadata": {},
     "output_type": "execute_result"
    }
   ],
   "source": [
    "# Count\n",
    "rdd1.flatMap(lambda x: x.split()).count()\n"
   ]
  },
  {
   "cell_type": "code",
   "execution_count": 31,
   "metadata": {},
   "outputs": [
    {
     "data": {
      "text/plain": [
       "defaultdict(int,\n",
       "            {'the': 1,\n",
       "             'mango': 4,\n",
       "             'company': 1,\n",
       "             'dog': 2,\n",
       "             'animal': 1,\n",
       "             'cat': 1,\n",
       "             'ant': 2,\n",
       "             'mic': 1,\n",
       "             'laptop': 1,\n",
       "             'chair': 1,\n",
       "             'switch': 1,\n",
       "             'mobile': 1,\n",
       "             'am': 1,\n",
       "             'charger': 1,\n",
       "             'cover': 1,\n",
       "             'amanda': 1,\n",
       "             'any': 1,\n",
       "             'alarm': 1})"
      ]
     },
     "execution_count": 31,
     "metadata": {},
     "output_type": "execute_result"
    }
   ],
   "source": [
    "# CountByValue\n",
    "rdd1.flatMap(lambda x:x.split()).countByValue()"
   ]
  },
  {
   "cell_type": "markdown",
   "metadata": {},
   "source": [
    "## 5.saveAsTextFile"
   ]
  },
  {
   "cell_type": "code",
   "execution_count": 30,
   "metadata": {},
   "outputs": [],
   "source": [
    "rdd1.saveAsTextFile('rdd2.txt')"
   ]
  },
  {
   "cell_type": "markdown",
   "metadata": {},
   "source": [
    "## 6. repartition"
   ]
  },
  {
   "cell_type": "code",
   "execution_count": 19,
   "metadata": {},
   "outputs": [
    {
     "data": {
      "text/plain": [
       "2"
      ]
     },
     "execution_count": 19,
     "metadata": {},
     "output_type": "execute_result"
    }
   ],
   "source": [
    "## repartition responsible for increasing/decresing of partition number\n",
    "rdd1.getNumPartitions()"
   ]
  },
  {
   "cell_type": "code",
   "execution_count": 20,
   "metadata": {},
   "outputs": [],
   "source": [
    "rdd2=rdd1.repartition(4)"
   ]
  },
  {
   "cell_type": "code",
   "execution_count": 21,
   "metadata": {},
   "outputs": [],
   "source": [
    "rdd2.saveAsTextFile('parti4')"
   ]
  },
  {
   "cell_type": "code",
   "execution_count": 22,
   "metadata": {},
   "outputs": [
    {
     "data": {
      "text/plain": [
       "['amanda any mango alarm ant',\n",
       " 'the mango company dog animal',\n",
       " 'cat dog ant mango mic laptop',\n",
       " 'chair switch mobile mango am charger cover']"
      ]
     },
     "execution_count": 22,
     "metadata": {},
     "output_type": "execute_result"
    }
   ],
   "source": [
    "rdd3=sc.textFile('Parti4')\n",
    "rdd3.collect()"
   ]
  },
  {
   "cell_type": "code",
   "execution_count": 23,
   "metadata": {},
   "outputs": [],
   "source": [
    "# coalesce only reponsible for decreasing the partition (not increase the paartition)\n",
    "rdd_2=rdd2.coalesce(2)"
   ]
  },
  {
   "cell_type": "code",
   "execution_count": 24,
   "metadata": {},
   "outputs": [
    {
     "data": {
      "text/plain": [
       "2"
      ]
     },
     "execution_count": 24,
     "metadata": {},
     "output_type": "execute_result"
    }
   ],
   "source": [
    "rdd_2.getNumPartitions()"
   ]
  },
  {
   "cell_type": "code",
   "execution_count": 50,
   "metadata": {},
   "outputs": [],
   "source": [
    "rdd_mov = sc.textFile('movie_ratings.csv')"
   ]
  },
  {
   "cell_type": "code",
   "execution_count": 61,
   "metadata": {},
   "outputs": [],
   "source": [
    "rdd_key = rdd_mov.map(lambda x : (x.split(',')[0],(int(x.split(',')[1]),1)))\n",
    "move_avg = rdd_key.reduceByKey(lambda x,y: (x[0]+y[0], x[1]+y[1]))\\\n",
    "    .map(lambda x: (x[0],x[1][0]//x[1][1]))"
   ]
  },
  {
   "cell_type": "code",
   "execution_count": 62,
   "metadata": {},
   "outputs": [
    {
     "data": {
      "text/plain": [
       "[('The Shawshank Redemption', 3),\n",
       " ('12 Angry Men', 2),\n",
       " ('The Godfather', 4),\n",
       " ('The Matrix', 4),\n",
       " ('Pulp Fiction', 3)]"
      ]
     },
     "execution_count": 62,
     "metadata": {},
     "output_type": "execute_result"
    }
   ],
   "source": [
    "move_avg.collect()"
   ]
  },
  {
   "cell_type": "code",
   "execution_count": 105,
   "metadata": {},
   "outputs": [],
   "source": [
    "# avg quiz \n",
    "rdd_city = sc.textFile('average_quiz_sample.csv')\n",
    "rdd_2 = rdd_city.map(lambda x : (x.split(',')[0],(float(x.split(',')[2]),1)))\n",
    "rdd_3 = rdd_2.reduceByKey(lambda x ,y :( x[0]+y[0],x[1]+y[1]))\n",
    "rdd_4 = rdd_3.map(lambda x : (x[0], x[1][0]/x[1][1]))"
   ]
  },
  {
   "cell_type": "code",
   "execution_count": 106,
   "metadata": {},
   "outputs": [
    {
     "data": {
      "text/plain": [
       "[('JAN', 2.5), ('FEB', 1.25), ('MAR', 2.0)]"
      ]
     },
     "execution_count": 106,
     "metadata": {},
     "output_type": "execute_result"
    }
   ],
   "source": [
    "rdd_4 .collect()"
   ]
  },
  {
   "cell_type": "code",
   "execution_count": 107,
   "metadata": {},
   "outputs": [
    {
     "data": {
      "text/plain": [
       "['JAN,NY,3.0',\n",
       " 'JAN,PA,1.0',\n",
       " 'JAN,NJ,2.0',\n",
       " 'JAN,CT,4.0',\n",
       " 'FEB,PA,1.0',\n",
       " 'FEB,NJ,1.0',\n",
       " 'FEB,NY,2.0',\n",
       " 'FEB,VT,1.0',\n",
       " 'MAR,NJ,2.0',\n",
       " 'MAR,NY,1.0',\n",
       " 'MAR,VT,2.0',\n",
       " 'MAR,PA,3.0']"
      ]
     },
     "execution_count": 107,
     "metadata": {},
     "output_type": "execute_result"
    }
   ],
   "source": [
    "rdd_city.collect()"
   ]
  },
  {
   "cell_type": "code",
   "execution_count": 111,
   "metadata": {},
   "outputs": [
    {
     "data": {
      "text/plain": [
       "[('The Shawshank Redemption', 2),\n",
       " ('12 Angry Men', 1),\n",
       " ('The Godfather', 3),\n",
       " ('The Matrix', 4),\n",
       " ('Pulp Fiction', 2)]"
      ]
     },
     "execution_count": 111,
     "metadata": {},
     "output_type": "execute_result"
    }
   ],
   "source": [
    "# min max\n",
    "rdd_mov1 = rdd_mov.map(lambda x : (x.split(',')[0],int(x.split(',')[1])))\n",
    "rdd_min = rdd_mov1.reduceByKey(lambda x,y: x if x < y else y)\n",
    "rdd_min.collect()"
   ]
  },
  {
   "cell_type": "code",
   "execution_count": 112,
   "metadata": {},
   "outputs": [
    {
     "data": {
      "text/plain": [
       "[('The Shawshank Redemption', 5),\n",
       " ('12 Angry Men', 4),\n",
       " ('The Godfather', 5),\n",
       " ('The Matrix', 5),\n",
       " ('Pulp Fiction', 5)]"
      ]
     },
     "execution_count": 112,
     "metadata": {},
     "output_type": "execute_result"
    }
   ],
   "source": [
    "# max\n",
    "rdd_max = rdd_mov1.reduceByKey(lambda x,y: x if x > y else y)\n",
    "rdd_max.collect()"
   ]
  },
  {
   "cell_type": "code",
   "execution_count": 113,
   "metadata": {},
   "outputs": [],
   "source": [
    "sc.stop()"
   ]
  },
  {
   "cell_type": "code",
   "execution_count": 25,
   "metadata": {
    "ExecuteTime": {
     "end_time": "2022-08-11T12:15:43.601256Z",
     "start_time": "2022-08-11T12:14:55.932892Z"
    }
   },
   "outputs": [],
   "source": [
    "import pyspark\n",
    "from pyspark.sql.types import IntegerType\n",
    "from pyspark.sql import SparkSession\n",
    "\n",
    "# def print_hi(name):\n",
    "#     # Use a breakpoint in the code line below to debug your script.\n",
    "#     print(f'Hi, {name}')  # Press Ctrl+F8 to toggle the breakpoint.\n",
    "#     my_list = [1, 2, 3]\n",
    "#     spark = SparkSession.builder.appName('my name').enableHiveSupport().getOrCreate()\n",
    "#     df = spark.createDataFrame(my_list, IntegerType())\n",
    "#     df.show()\n",
    "#     df.createOrReplaceTempView(\"temptable1\")\n",
    "#     spark.sql(\"create table as select * from temptable1\")\n",
    "#     print('ok')\n",
    "\n",
    "# if __name__ == \"__main__\":\n",
    "#     print_hi('avi')"
   ]
  },
  {
   "cell_type": "code",
   "execution_count": 35,
   "metadata": {},
   "outputs": [],
   "source": [
    "sc.stop()"
   ]
  },
  {
   "cell_type": "code",
   "execution_count": null,
   "metadata": {},
   "outputs": [],
   "source": []
  }
 ],
 "metadata": {
  "kernelspec": {
   "display_name": "Python 3",
   "language": "python",
   "name": "python3"
  },
  "language_info": {
   "codemirror_mode": {
    "name": "ipython",
    "version": 3
   },
   "file_extension": ".py",
   "mimetype": "text/x-python",
   "name": "python",
   "nbconvert_exporter": "python",
   "pygments_lexer": "ipython3",
   "version": "3.8.5"
  },
  "toc": {
   "base_numbering": 1,
   "nav_menu": {},
   "number_sections": true,
   "sideBar": true,
   "skip_h1_title": false,
   "title_cell": "Table of Contents",
   "title_sidebar": "Contents",
   "toc_cell": false,
   "toc_position": {},
   "toc_section_display": true,
   "toc_window_display": false
  },
  "vscode": {
   "interpreter": {
    "hash": "ad2bdc8ecc057115af97d19610ffacc2b4e99fae6737bb82f5d7fb13d2f2c186"
   }
  }
 },
 "nbformat": 4,
 "nbformat_minor": 2
}
