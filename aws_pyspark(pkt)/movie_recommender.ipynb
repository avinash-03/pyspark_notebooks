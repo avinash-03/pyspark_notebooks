{
 "cells": [
  {
   "cell_type": "code",
   "execution_count": 2,
   "metadata": {},
   "outputs": [],
   "source": [
    "from pyspark.sql import SparkSession"
   ]
  },
  {
   "cell_type": "code",
   "execution_count": 3,
   "metadata": {},
   "outputs": [],
   "source": [
    "spark = SparkSession.builder.appName('movie').getOrCreate()"
   ]
  },
  {
   "cell_type": "code",
   "execution_count": 5,
   "metadata": {},
   "outputs": [
    {
     "name": "stdout",
     "output_type": "stream",
     "text": [
      "root\n",
      " |-- movieId: integer (nullable = true)\n",
      " |-- title: string (nullable = true)\n",
      " |-- genres: string (nullable = true)\n",
      "\n",
      "root\n",
      " |-- userId: integer (nullable = true)\n",
      " |-- movieId: integer (nullable = true)\n",
      " |-- rating: double (nullable = true)\n",
      " |-- timestamp: integer (nullable = true)\n",
      "\n"
     ]
    }
   ],
   "source": [
    "movie = spark.read\\\n",
    "            .options(header=True,inferschema=True)\\\n",
    "            .csv(\"data/movies.csv\")\n",
    "\n",
    "rating = spark.read.options(header=True,inferschema=True).csv(\"data/ratings.csv\")\n",
    "\n",
    "movie.printSchema()\n",
    "rating.printSchema()\n"
   ]
  },
  {
   "cell_type": "code",
   "execution_count": 7,
   "metadata": {},
   "outputs": [],
   "source": [
    "rate = rating.join(movie,\"movieId\",\"left\")"
   ]
  },
  {
   "cell_type": "code",
   "execution_count": 8,
   "metadata": {},
   "outputs": [
    {
     "name": "stdout",
     "output_type": "stream",
     "text": [
      "+-------+------+------+---------+-----------------------------------------+-------------------------------------------+\n",
      "|movieId|userId|rating|timestamp|title                                    |genres                                     |\n",
      "+-------+------+------+---------+-----------------------------------------+-------------------------------------------+\n",
      "|1      |1     |4.0   |964982703|Toy Story (1995)                         |Adventure|Animation|Children|Comedy|Fantasy|\n",
      "|3      |1     |4.0   |964981247|Grumpier Old Men (1995)                  |Comedy|Romance                             |\n",
      "|6      |1     |4.0   |964982224|Heat (1995)                              |Action|Crime|Thriller                      |\n",
      "|47     |1     |5.0   |964983815|Seven (a.k.a. Se7en) (1995)              |Mystery|Thriller                           |\n",
      "|50     |1     |5.0   |964982931|Usual Suspects, The (1995)               |Crime|Mystery|Thriller                     |\n",
      "|70     |1     |3.0   |964982400|From Dusk Till Dawn (1996)               |Action|Comedy|Horror|Thriller              |\n",
      "|101    |1     |5.0   |964980868|Bottle Rocket (1996)                     |Adventure|Comedy|Crime|Romance             |\n",
      "|110    |1     |4.0   |964982176|Braveheart (1995)                        |Action|Drama|War                           |\n",
      "|151    |1     |5.0   |964984041|Rob Roy (1995)                           |Action|Drama|Romance|War                   |\n",
      "|157    |1     |5.0   |964984100|Canadian Bacon (1995)                    |Comedy|War                                 |\n",
      "|163    |1     |5.0   |964983650|Desperado (1995)                         |Action|Romance|Western                     |\n",
      "|216    |1     |5.0   |964981208|Billy Madison (1995)                     |Comedy                                     |\n",
      "|223    |1     |3.0   |964980985|Clerks (1994)                            |Comedy                                     |\n",
      "|231    |1     |5.0   |964981179|Dumb & Dumber (Dumb and Dumber) (1994)   |Adventure|Comedy                           |\n",
      "|235    |1     |4.0   |964980908|Ed Wood (1994)                           |Comedy|Drama                               |\n",
      "|260    |1     |5.0   |964981680|Star Wars: Episode IV - A New Hope (1977)|Action|Adventure|Sci-Fi                    |\n",
      "|296    |1     |3.0   |964982967|Pulp Fiction (1994)                      |Comedy|Crime|Drama|Thriller                |\n",
      "|316    |1     |3.0   |964982310|Stargate (1994)                          |Action|Adventure|Sci-Fi                    |\n",
      "|333    |1     |5.0   |964981179|Tommy Boy (1995)                         |Comedy                                     |\n",
      "|349    |1     |4.0   |964982563|Clear and Present Danger (1994)          |Action|Crime|Drama|Thriller                |\n",
      "+-------+------+------+---------+-----------------------------------------+-------------------------------------------+\n",
      "only showing top 20 rows\n",
      "\n"
     ]
    }
   ],
   "source": [
    "rate.show(truncate=False)"
   ]
  },
  {
   "cell_type": "code",
   "execution_count": 9,
   "metadata": {},
   "outputs": [],
   "source": [
    "train,test = rate.randomSplit([0.8,0.2])"
   ]
  },
  {
   "cell_type": "code",
   "execution_count": 10,
   "metadata": {},
   "outputs": [],
   "source": [
    "from pyspark.ml.recommendation import ALS\n",
    "als = ALS(userCol='userId',itemCol='movieId',ratingCol='rating',nonnegative=True,coldStartStrategy=\"drop\",implicitPrefs=False)"
   ]
  },
  {
   "cell_type": "code",
   "execution_count": 11,
   "metadata": {},
   "outputs": [],
   "source": [
    "from pyspark.ml.evaluation import RegressionEvaluator\n",
    "from pyspark.ml.tuning import ParamGridBuilder,CrossValidator"
   ]
  },
  {
   "cell_type": "code",
   "execution_count": 12,
   "metadata": {},
   "outputs": [],
   "source": [
    "param_grid = ParamGridBuilder() \\\n",
    "    .addGrid(als.rank,[10, 50, 100, 150]) \\\n",
    "        .addGrid(als.regParam,[0.01,0.05,0.1,0.15]) \\\n",
    "            .build()"
   ]
  },
  {
   "cell_type": "code",
   "execution_count": 13,
   "metadata": {},
   "outputs": [],
   "source": [
    "regressor = RegressionEvaluator(\n",
    "    metricName='rmse',\n",
    "    labelCol='rating',\n",
    "    predictionCol='prediction'\n",
    ")"
   ]
  },
  {
   "cell_type": "code",
   "execution_count": 14,
   "metadata": {},
   "outputs": [],
   "source": [
    "cv = CrossValidator(estimator=als,estimatorParamMaps=param_grid,evaluator=regressor,numFolds=5)"
   ]
  },
  {
   "cell_type": "code",
   "execution_count": 15,
   "metadata": {},
   "outputs": [
    {
     "ename": "KeyboardInterrupt",
     "evalue": "",
     "output_type": "error",
     "traceback": [
      "\u001b[1;31m---------------------------------------------------------------------------\u001b[0m",
      "\u001b[1;31mIndexError\u001b[0m                                Traceback (most recent call last)",
      "File \u001b[1;32mc:\\ProgramData\\Anaconda3\\lib\\multiprocessing\\pool.py:851\u001b[0m, in \u001b[0;36mIMapIterator.next\u001b[1;34m(self, timeout)\u001b[0m\n\u001b[0;32m    850\u001b[0m \u001b[39mtry\u001b[39;00m:\n\u001b[1;32m--> 851\u001b[0m     item \u001b[39m=\u001b[39m \u001b[39mself\u001b[39;49m\u001b[39m.\u001b[39;49m_items\u001b[39m.\u001b[39;49mpopleft()\n\u001b[0;32m    852\u001b[0m \u001b[39mexcept\u001b[39;00m \u001b[39mIndexError\u001b[39;00m:\n",
      "\u001b[1;31mIndexError\u001b[0m: pop from an empty deque",
      "\nDuring handling of the above exception, another exception occurred:\n",
      "\u001b[1;31mKeyboardInterrupt\u001b[0m                         Traceback (most recent call last)",
      "\u001b[1;32mc:\\Users\\Avinash Godbole\\Desktop\\Programm File\\pyspark_code\\aws_pyspark(pkt)\\movie_recommender.ipynb Cell 12\u001b[0m in \u001b[0;36m1\n\u001b[1;32m----> <a href='vscode-notebook-cell:/c%3A/Users/Avinash%20Godbole/Desktop/Programm%20File/pyspark_code/aws_pyspark%28pkt%29/movie_recommender.ipynb#X20sZmlsZQ%3D%3D?line=0'>1</a>\u001b[0m model \u001b[39m=\u001b[39m cv\u001b[39m.\u001b[39;49mfit(train)\n\u001b[0;32m      <a href='vscode-notebook-cell:/c%3A/Users/Avinash%20Godbole/Desktop/Programm%20File/pyspark_code/aws_pyspark%28pkt%29/movie_recommender.ipynb#X20sZmlsZQ%3D%3D?line=1'>2</a>\u001b[0m \u001b[39m# best_model = cv.bestModel\u001b[39;00m\n\u001b[0;32m      <a href='vscode-notebook-cell:/c%3A/Users/Avinash%20Godbole/Desktop/Programm%20File/pyspark_code/aws_pyspark%28pkt%29/movie_recommender.ipynb#X20sZmlsZQ%3D%3D?line=2'>3</a>\u001b[0m \u001b[39m# testPrediction = best_model.transform(test)\u001b[39;00m\n\u001b[0;32m      <a href='vscode-notebook-cell:/c%3A/Users/Avinash%20Godbole/Desktop/Programm%20File/pyspark_code/aws_pyspark%28pkt%29/movie_recommender.ipynb#X20sZmlsZQ%3D%3D?line=3'>4</a>\u001b[0m \u001b[39m# Rmse = regressor.evaluate(test)\u001b[39;00m\n\u001b[0;32m      <a href='vscode-notebook-cell:/c%3A/Users/Avinash%20Godbole/Desktop/Programm%20File/pyspark_code/aws_pyspark%28pkt%29/movie_recommender.ipynb#X20sZmlsZQ%3D%3D?line=4'>5</a>\u001b[0m \u001b[39m# print(Rmse)\u001b[39;00m\n",
      "File \u001b[1;32mC:\\spark\\spark3\\python\\pyspark\\ml\\base.py:129\u001b[0m, in \u001b[0;36mEstimator.fit\u001b[1;34m(self, dataset, params)\u001b[0m\n\u001b[0;32m    127\u001b[0m         \u001b[39mreturn\u001b[39;00m \u001b[39mself\u001b[39m\u001b[39m.\u001b[39mcopy(params)\u001b[39m.\u001b[39m_fit(dataset)\n\u001b[0;32m    128\u001b[0m     \u001b[39melse\u001b[39;00m:\n\u001b[1;32m--> 129\u001b[0m         \u001b[39mreturn\u001b[39;00m \u001b[39mself\u001b[39;49m\u001b[39m.\u001b[39;49m_fit(dataset)\n\u001b[0;32m    130\u001b[0m \u001b[39melse\u001b[39;00m:\n\u001b[0;32m    131\u001b[0m     \u001b[39mraise\u001b[39;00m \u001b[39mValueError\u001b[39;00m(\u001b[39m\"\u001b[39m\u001b[39mParams must be either a param map or a list/tuple of param maps, \u001b[39m\u001b[39m\"\u001b[39m\n\u001b[0;32m    132\u001b[0m                      \u001b[39m\"\u001b[39m\u001b[39mbut got \u001b[39m\u001b[39m%s\u001b[39;00m\u001b[39m.\u001b[39m\u001b[39m\"\u001b[39m \u001b[39m%\u001b[39m \u001b[39mtype\u001b[39m(params))\n",
      "File \u001b[1;32mC:\\spark\\spark3\\python\\pyspark\\ml\\tuning.py:436\u001b[0m, in \u001b[0;36mCrossValidator._fit\u001b[1;34m(self, dataset)\u001b[0m\n\u001b[0;32m    433\u001b[0m train \u001b[39m=\u001b[39m df\u001b[39m.\u001b[39mfilter(\u001b[39m~\u001b[39mcondition)\u001b[39m.\u001b[39mcache()\n\u001b[0;32m    435\u001b[0m tasks \u001b[39m=\u001b[39m _parallelFitTasks(est, train, eva, validation, epm, collectSubModelsParam)\n\u001b[1;32m--> 436\u001b[0m \u001b[39mfor\u001b[39;00m j, metric, subModel \u001b[39min\u001b[39;00m pool\u001b[39m.\u001b[39mimap_unordered(\u001b[39mlambda\u001b[39;00m f: f(), tasks):\n\u001b[0;32m    437\u001b[0m     metrics[j] \u001b[39m+\u001b[39m\u001b[39m=\u001b[39m (metric \u001b[39m/\u001b[39m nFolds)\n\u001b[0;32m    438\u001b[0m     \u001b[39mif\u001b[39;00m collectSubModelsParam:\n",
      "File \u001b[1;32mc:\\ProgramData\\Anaconda3\\lib\\multiprocessing\\pool.py:856\u001b[0m, in \u001b[0;36mIMapIterator.next\u001b[1;34m(self, timeout)\u001b[0m\n\u001b[0;32m    854\u001b[0m     \u001b[39mself\u001b[39m\u001b[39m.\u001b[39m_pool \u001b[39m=\u001b[39m \u001b[39mNone\u001b[39;00m\n\u001b[0;32m    855\u001b[0m     \u001b[39mraise\u001b[39;00m \u001b[39mStopIteration\u001b[39;00m \u001b[39mfrom\u001b[39;00m \u001b[39mNone\u001b[39m\n\u001b[1;32m--> 856\u001b[0m \u001b[39mself\u001b[39;49m\u001b[39m.\u001b[39;49m_cond\u001b[39m.\u001b[39;49mwait(timeout)\n\u001b[0;32m    857\u001b[0m \u001b[39mtry\u001b[39;00m:\n\u001b[0;32m    858\u001b[0m     item \u001b[39m=\u001b[39m \u001b[39mself\u001b[39m\u001b[39m.\u001b[39m_items\u001b[39m.\u001b[39mpopleft()\n",
      "File \u001b[1;32mc:\\ProgramData\\Anaconda3\\lib\\threading.py:302\u001b[0m, in \u001b[0;36mCondition.wait\u001b[1;34m(self, timeout)\u001b[0m\n\u001b[0;32m    300\u001b[0m \u001b[39mtry\u001b[39;00m:    \u001b[39m# restore state no matter what (e.g., KeyboardInterrupt)\u001b[39;00m\n\u001b[0;32m    301\u001b[0m     \u001b[39mif\u001b[39;00m timeout \u001b[39mis\u001b[39;00m \u001b[39mNone\u001b[39;00m:\n\u001b[1;32m--> 302\u001b[0m         waiter\u001b[39m.\u001b[39;49macquire()\n\u001b[0;32m    303\u001b[0m         gotit \u001b[39m=\u001b[39m \u001b[39mTrue\u001b[39;00m\n\u001b[0;32m    304\u001b[0m     \u001b[39melse\u001b[39;00m:\n",
      "\u001b[1;31mKeyboardInterrupt\u001b[0m: "
     ]
    }
   ],
   "source": [
    "model = cv.fit(train)\n",
    "# best_model = cv.bestModel\n",
    "# testPrediction = best_model.transform(test)\n",
    "# Rmse = regressor.evaluate(test)\n",
    "# print(Rmse)"
   ]
  },
  {
   "cell_type": "code",
   "execution_count": 34,
   "metadata": {},
   "outputs": [],
   "source": [
    "best_model=model.bestModel"
   ]
  },
  {
   "cell_type": "code",
   "execution_count": 36,
   "metadata": {},
   "outputs": [
    {
     "name": "stdout",
     "output_type": "stream",
     "text": [
      "0.8651490998420742\n"
     ]
    }
   ],
   "source": [
    "testPrediction = best_model.transform(test)\n",
    "Rmse = regressor.evaluate(testPrediction)\n",
    "print(Rmse)"
   ]
  },
  {
   "cell_type": "code",
   "execution_count": 37,
   "metadata": {},
   "outputs": [],
   "source": [
    "recommendation = best_model.recommendForAllUsers(5)"
   ]
  },
  {
   "cell_type": "code",
   "execution_count": 38,
   "metadata": {},
   "outputs": [],
   "source": [
    "df = recommendation"
   ]
  },
  {
   "cell_type": "code",
   "execution_count": 41,
   "metadata": {},
   "outputs": [
    {
     "name": "stdout",
     "output_type": "stream",
     "text": [
      "+------+--------------------+\n",
      "|userId|     recommendations|\n",
      "+------+--------------------+\n",
      "|   471|[[68945, 4.738127...|\n",
      "|   463|[[170355, 4.77379...|\n",
      "|   496|[[6818, 4.5608644...|\n",
      "|   148|[[170355, 4.89657...|\n",
      "|   540|[[170355, 5.34455...|\n",
      "|   392|[[68945, 4.673846...|\n",
      "|   243|[[67618, 5.613619...|\n",
      "|    31|[[33649, 5.117580...|\n",
      "|   516|[[4429, 4.7351284...|\n",
      "|   580|[[170355, 4.72950...|\n",
      "|   251|[[68945, 5.74595]...|\n",
      "|   451|[[68945, 5.340492...|\n",
      "|    85|[[1140, 4.850751]...|\n",
      "|   137|[[68945, 4.957126...|\n",
      "|    65|[[68945, 4.836951...|\n",
      "|   458|[[67618, 5.161386...|\n",
      "|   481|[[25906, 3.908367...|\n",
      "|    53|[[68945, 6.789389...|\n",
      "|   255|[[3525, 3.8541474...|\n",
      "|   588|[[170355, 4.65545...|\n",
      "+------+--------------------+\n",
      "only showing top 20 rows\n",
      "\n"
     ]
    }
   ],
   "source": [
    "df.show(\n",
    "    \n",
    ")"
   ]
  },
  {
   "cell_type": "code",
   "execution_count": 42,
   "metadata": {},
   "outputs": [],
   "source": [
    "from pyspark.sql.functions import col,explode\n",
    "df2 = df.withColumn('movieid_rating',explode('recommendations'))"
   ]
  },
  {
   "cell_type": "code",
   "execution_count": 43,
   "metadata": {},
   "outputs": [
    {
     "name": "stdout",
     "output_type": "stream",
     "text": [
      "+------+--------------------+-------------------+\n",
      "|userId|     recommendations|     movieid_rating|\n",
      "+------+--------------------+-------------------+\n",
      "|   471|[[68945, 4.738127...| [68945, 4.7381277]|\n",
      "|   471|[[68945, 4.738127...|[170355, 4.7381277]|\n",
      "|   471|[[68945, 4.738127...|  [3379, 4.7381277]|\n",
      "|   471|[[68945, 4.738127...| [33649, 4.4885697]|\n",
      "|   471|[[68945, 4.738127...| [171495, 4.488084]|\n",
      "|   463|[[170355, 4.77379...|[170355, 4.7737927]|\n",
      "|   463|[[170355, 4.77379...| [68945, 4.7737927]|\n",
      "|   463|[[170355, 4.77379...|  [3379, 4.7737927]|\n",
      "|   463|[[170355, 4.77379...|  [33649, 4.572375]|\n",
      "|   463|[[170355, 4.77379...| [171495, 4.529392]|\n",
      "|   496|[[6818, 4.5608644...|  [6818, 4.5608644]|\n",
      "|   496|[[6818, 4.5608644...|[170355, 4.3681946]|\n",
      "|   496|[[6818, 4.5608644...| [68945, 4.3681946]|\n",
      "|   496|[[6818, 4.5608644...|  [3379, 4.3681946]|\n",
      "|   496|[[6818, 4.5608644...| [99764, 4.3654785]|\n",
      "|   148|[[170355, 4.89657...|[170355, 4.8965735]|\n",
      "|   148|[[170355, 4.89657...| [68945, 4.8965735]|\n",
      "|   148|[[170355, 4.89657...|  [3379, 4.8965735]|\n",
      "|   148|[[170355, 4.89657...| [33649, 4.7929807]|\n",
      "|   148|[[170355, 4.89657...|[171495, 4.5731144]|\n",
      "+------+--------------------+-------------------+\n",
      "only showing top 20 rows\n",
      "\n"
     ]
    }
   ],
   "source": [
    "df2.show()"
   ]
  },
  {
   "cell_type": "code",
   "execution_count": 45,
   "metadata": {},
   "outputs": [
    {
     "name": "stdout",
     "output_type": "stream",
     "text": [
      "+------+-------+---------+\n",
      "|userId|movieId|   rating|\n",
      "+------+-------+---------+\n",
      "|   471|  68945|4.7381277|\n",
      "|   471| 170355|4.7381277|\n",
      "|   471|   3379|4.7381277|\n",
      "|   471|  33649|4.4885697|\n",
      "|   471| 171495| 4.488084|\n",
      "|   463| 170355|4.7737927|\n",
      "|   463|  68945|4.7737927|\n",
      "|   463|   3379|4.7737927|\n",
      "|   463|  33649| 4.572375|\n",
      "|   463| 171495| 4.529392|\n",
      "|   496|   6818|4.5608644|\n",
      "|   496| 170355|4.3681946|\n",
      "|   496|  68945|4.3681946|\n",
      "|   496|   3379|4.3681946|\n",
      "|   496|  99764|4.3654785|\n",
      "|   148| 170355|4.8965735|\n",
      "|   148|  68945|4.8965735|\n",
      "|   148|   3379|4.8965735|\n",
      "|   148|  33649|4.7929807|\n",
      "|   148| 171495|4.5731144|\n",
      "+------+-------+---------+\n",
      "only showing top 20 rows\n",
      "\n"
     ]
    }
   ],
   "source": [
    "df2.select('userId',col('movieid_rating.movieId'),col('movieid_rating.rating')).show()"
   ]
  },
  {
   "cell_type": "code",
   "execution_count": 50,
   "metadata": {},
   "outputs": [
    {
     "data": {
      "text/plain": [
       "100836"
      ]
     },
     "execution_count": 50,
     "metadata": {},
     "output_type": "execute_result"
    }
   ],
   "source": [
    "rating.count()"
   ]
  },
  {
   "cell_type": "code",
   "execution_count": 51,
   "metadata": {},
   "outputs": [],
   "source": [
    "spark.stop()"
   ]
  },
  {
   "cell_type": "code",
   "execution_count": null,
   "metadata": {},
   "outputs": [],
   "source": []
  }
 ],
 "metadata": {
  "kernelspec": {
   "display_name": "Python 3.9.2 64-bit",
   "language": "python",
   "name": "python3"
  },
  "language_info": {
   "codemirror_mode": {
    "name": "ipython",
    "version": 3
   },
   "file_extension": ".py",
   "mimetype": "text/x-python",
   "name": "python",
   "nbconvert_exporter": "python",
   "pygments_lexer": "ipython3",
   "version": "3.8.5"
  },
  "orig_nbformat": 4,
  "vscode": {
   "interpreter": {
    "hash": "11938c6bc6919ae2720b4d5011047913343b08a43b18698fd82dedb0d4417594"
   }
  }
 },
 "nbformat": 4,
 "nbformat_minor": 2
}
