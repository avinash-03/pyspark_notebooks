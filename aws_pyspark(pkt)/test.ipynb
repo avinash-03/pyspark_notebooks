{
 "cells": [
  {
   "cell_type": "code",
   "execution_count": 1,
   "metadata": {},
   "outputs": [],
   "source": [
    "import pandas as pd "
   ]
  },
  {
   "cell_type": "code",
   "execution_count": 2,
   "metadata": {},
   "outputs": [],
   "source": [
    "df = pd.read_csv('data/OfficeData.csv')"
   ]
  },
  {
   "cell_type": "code",
   "execution_count": 4,
   "metadata": {},
   "outputs": [
    {
     "name": "stdout",
     "output_type": "stream",
     "text": [
      "  employee_name department state  salary  age  bonus\n",
      "0         James      Sales    NY   90000   34  10000\n",
      "1       Michael      Sales    NY   86000   56  20000\n",
      "2        Robert      Sales    CA   81000   30  23000\n",
      "3         Maria    Finance    CA   90000   24  23000\n",
      "4         Raman    Finance    CA   99000   40  24000\n",
      "5         Scott    Finance    NY   83000   36  19000\n",
      "6           Jen    Finance    NY   79000   53  15000\n",
      "7          Jeff  Marketing    CA   80000   25  18000\n",
      "8         Kumar  Marketing    NY   91000   50  21000\n"
     ]
    }
   ],
   "source": [
    "#print schema\n",
    "print(df)"
   ]
  },
  {
   "cell_type": "code",
   "execution_count": 12,
   "metadata": {},
   "outputs": [],
   "source": [
    "# show departmentwise sum of salary\n",
    "df2 = df.groupby('department').sum().reset_index()"
   ]
  },
  {
   "cell_type": "code",
   "execution_count": 13,
   "metadata": {},
   "outputs": [
    {
     "name": "stdout",
     "output_type": "stream",
     "text": [
      "  department  salary  age  bonus\n",
      "0    Finance  351000  153  81000\n",
      "1  Marketing  171000   75  39000\n",
      "2      Sales  257000  120  53000\n"
     ]
    }
   ],
   "source": [
    "print(df2)"
   ]
  },
  {
   "cell_type": "code",
   "execution_count": null,
   "metadata": {},
   "outputs": [],
   "source": []
  }
 ],
 "metadata": {
  "kernelspec": {
   "display_name": "Python 3.9.2 64-bit",
   "language": "python",
   "name": "python3"
  },
  "language_info": {
   "codemirror_mode": {
    "name": "ipython",
    "version": 3
   },
   "file_extension": ".py",
   "mimetype": "text/x-python",
   "name": "python",
   "nbconvert_exporter": "python",
   "pygments_lexer": "ipython3",
   "version": "3.9.2"
  },
  "orig_nbformat": 4,
  "vscode": {
   "interpreter": {
    "hash": "11938c6bc6919ae2720b4d5011047913343b08a43b18698fd82dedb0d4417594"
   }
  }
 },
 "nbformat": 4,
 "nbformat_minor": 2
}
