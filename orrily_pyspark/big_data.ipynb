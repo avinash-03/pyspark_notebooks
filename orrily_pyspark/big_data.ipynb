{
 "cells": [
  {
   "cell_type": "code",
   "execution_count": 1,
   "metadata": {},
   "outputs": [],
   "source": [
    "from pyspark.sql import SparkSession\n",
    "from pyspark.sql.functions import avg, explode\n",
    "from pyspark.sql.types import IntegerType\n",
    "import pyspark.sql.functions as F \n"
   ]
  },
  {
   "cell_type": "code",
   "execution_count": 2,
   "metadata": {},
   "outputs": [],
   "source": [
    "spark = SparkSession.builder.appName('orrily').getOrCreate()"
   ]
  },
  {
   "cell_type": "code",
   "execution_count": 3,
   "metadata": {},
   "outputs": [
    {
     "data": {
      "text/html": [
       "\n",
       "            <div>\n",
       "                <p><b>SparkSession - in-memory</b></p>\n",
       "                \n",
       "        <div>\n",
       "            <p><b>SparkContext</b></p>\n",
       "\n",
       "            <p><a href=\"http://avinash:4040\">Spark UI</a></p>\n",
       "\n",
       "            <dl>\n",
       "              <dt>Version</dt>\n",
       "                <dd><code>v3.0.3</code></dd>\n",
       "              <dt>Master</dt>\n",
       "                <dd><code>local[*]</code></dd>\n",
       "              <dt>AppName</dt>\n",
       "                <dd><code>orrily</code></dd>\n",
       "            </dl>\n",
       "        </div>\n",
       "        \n",
       "            </div>\n",
       "        "
      ],
      "text/plain": [
       "<pyspark.sql.session.SparkSession at 0x2363635a970>"
      ]
     },
     "execution_count": 3,
     "metadata": {},
     "output_type": "execute_result"
    }
   ],
   "source": [
    "spark"
   ]
  },
  {
   "cell_type": "markdown",
   "metadata": {},
   "source": [
    "# SEction 1 Fundamental\n",
    "# chapter 1. itro to spark and pyspark"
   ]
  },
  {
   "cell_type": "code",
   "execution_count": 4,
   "metadata": {},
   "outputs": [],
   "source": [
    "tuples = [('A',7),('A',8),('A',-4),\n",
    "        ('B',3),('B',9),(\"B\",-1),\n",
    "        (\"C\",1),(\"C\",5)]"
   ]
  },
  {
   "cell_type": "code",
   "execution_count": 6,
   "metadata": {},
   "outputs": [],
   "source": [
    "rdd = spark.sparkContext.parallelize(tuples)"
   ]
  },
  {
   "cell_type": "code",
   "execution_count": 7,
   "metadata": {},
   "outputs": [
    {
     "data": {
      "text/plain": [
       "[('A', 7), ('A', 8), ('B', 3), ('B', 9), ('C', 1), ('C', 5)]"
      ]
     },
     "execution_count": 7,
     "metadata": {},
     "output_type": "execute_result"
    }
   ],
   "source": [
    "# drop negatives values\n",
    "positive = rdd.filter(lambda x: x[1]>0)\n",
    "positive.collect()"
   ]
  },
  {
   "cell_type": "code",
   "execution_count": 10,
   "metadata": {},
   "outputs": [
    {
     "data": {
      "text/plain": [
       "PythonRDD[15] at RDD at PythonRDD.scala:53"
      ]
     },
     "execution_count": 10,
     "metadata": {},
     "output_type": "execute_result"
    }
   ],
   "source": [
    "# find suma and average per key using groupBykey\n",
    "\n",
    "sum_and_avg = positive.groupByKey().mapValues(lambda v: (sum(v),float(sum(v)/len(v))))\n",
    "sum_and_avg"
   ]
  },
  {
   "cell_type": "code",
   "execution_count": 11,
   "metadata": {},
   "outputs": [],
   "source": [
    "# using reduceByKey\n",
    "# 1. create (sum,count) per key\n",
    "sum_count = positive.mapValues(lambda x: (x,1))\n",
    "sum_count_agg = sum_count.reduceByKey(lambda x,y:(x[0]+y[0],x[1]+y[1]))"
   ]
  },
  {
   "cell_type": "code",
   "execution_count": 12,
   "metadata": {},
   "outputs": [],
   "source": [
    "sum_avg = sum_count_agg.mapValues(lambda v: (v[0],float(v[0]/v[1])))"
   ]
  },
  {
   "cell_type": "code",
   "execution_count": 19,
   "metadata": {},
   "outputs": [],
   "source": [
    "# create a Dataframe using Saprksession"
   ]
  },
  {
   "cell_type": "code",
   "execution_count": 5,
   "metadata": {},
   "outputs": [],
   "source": [
    "df = spark.read.csv('data/emp.csv',header=True,inferSchema=True)"
   ]
  },
  {
   "cell_type": "code",
   "execution_count": 6,
   "metadata": {},
   "outputs": [
    {
     "name": "stdout",
     "output_type": "stream",
     "text": [
      "+-----+----+-----+\n",
      "| dept|name|hours|\n",
      "+-----+----+-----+\n",
      "|Sales|Barb|   40|\n",
      "|Sales| Dan|   20|\n",
      "|   IT|Alex|   22|\n",
      "|   IT|Jane|   24|\n",
      "|   HR|Alex|   20|\n",
      "|   HR|Mary|   30|\n",
      "+-----+----+-----+\n",
      "\n"
     ]
    }
   ],
   "source": [
    "df.show()"
   ]
  },
  {
   "cell_type": "code",
   "execution_count": 7,
   "metadata": {},
   "outputs": [
    {
     "ename": "TypeError",
     "evalue": "unsupported operand type(s) for +: 'int' and 'str'",
     "output_type": "error",
     "traceback": [
      "\u001b[1;31m---------------------------------------------------------------------------\u001b[0m",
      "\u001b[1;31mTypeError\u001b[0m                                 Traceback (most recent call last)",
      "\u001b[1;32m<ipython-input-7-6942634cc805>\u001b[0m in \u001b[0;36m<module>\u001b[1;34m\u001b[0m\n\u001b[0;32m      1\u001b[0m \u001b[0maverages\u001b[0m \u001b[1;33m=\u001b[0m \u001b[0mdf\u001b[0m\u001b[1;33m.\u001b[0m\u001b[0mgroupBy\u001b[0m\u001b[1;33m(\u001b[0m\u001b[1;34m'dept'\u001b[0m\u001b[1;33m)\u001b[0m\u001b[0;31m\\\u001b[0m\u001b[1;33m\u001b[0m\u001b[1;33m\u001b[0m\u001b[0m\n\u001b[1;32m----> 2\u001b[1;33m     \u001b[1;33m.\u001b[0m\u001b[0magg\u001b[0m\u001b[1;33m(\u001b[0m\u001b[0mavg\u001b[0m\u001b[1;33m(\u001b[0m\u001b[1;34m'hours'\u001b[0m\u001b[1;33m)\u001b[0m\u001b[1;33m.\u001b[0m\u001b[0malias\u001b[0m\u001b[1;33m(\u001b[0m\u001b[1;34m'average'\u001b[0m\u001b[1;33m)\u001b[0m\u001b[1;33m,\u001b[0m\u001b[0msum\u001b[0m\u001b[1;33m(\u001b[0m\u001b[1;34m'hours'\u001b[0m\u001b[1;33m)\u001b[0m\u001b[1;33m.\u001b[0m\u001b[0malias\u001b[0m\u001b[1;33m(\u001b[0m\u001b[1;34m\"Total\"\u001b[0m\u001b[1;33m)\u001b[0m\u001b[1;33m)\u001b[0m\u001b[1;33m\u001b[0m\u001b[1;33m\u001b[0m\u001b[0m\n\u001b[0m",
      "\u001b[1;31mTypeError\u001b[0m: unsupported operand type(s) for +: 'int' and 'str'"
     ]
    }
   ],
   "source": [
    "averages = df.groupBy('dept')\\\n",
    "    .agg(avg('hours').alias('average'),sum('hours').alias(\"Total\"))"
   ]
  },
  {
   "cell_type": "code",
   "execution_count": 12,
   "metadata": {},
   "outputs": [
    {
     "name": "stdout",
     "output_type": "stream",
     "text": [
      "+-----+-------+-----+\n",
      "| dept|average|Total|\n",
      "+-----+-------+-----+\n",
      "|Sales|   30.0|   60|\n",
      "|   HR|   25.0|   50|\n",
      "|   IT|   23.0|   46|\n",
      "+-----+-------+-----+\n",
      "\n"
     ]
    }
   ],
   "source": [
    "averages.show()"
   ]
  },
  {
   "cell_type": "code",
   "execution_count": 8,
   "metadata": {},
   "outputs": [
    {
     "data": {
      "text/html": [
       "\n",
       "            <div>\n",
       "                <p><b>SparkSession - in-memory</b></p>\n",
       "                \n",
       "        <div>\n",
       "            <p><b>SparkContext</b></p>\n",
       "\n",
       "            <p><a href=\"http://avinash:4040\">Spark UI</a></p>\n",
       "\n",
       "            <dl>\n",
       "              <dt>Version</dt>\n",
       "                <dd><code>v3.0.3</code></dd>\n",
       "              <dt>Master</dt>\n",
       "                <dd><code>local[*]</code></dd>\n",
       "              <dt>AppName</dt>\n",
       "                <dd><code>orrily</code></dd>\n",
       "            </dl>\n",
       "        </div>\n",
       "        \n",
       "            </div>\n",
       "        "
      ],
      "text/plain": [
       "<pyspark.sql.session.SparkSession at 0x134ffdcb9a0>"
      ]
     },
     "execution_count": 8,
     "metadata": {},
     "output_type": "execute_result"
    }
   ],
   "source": [
    "spark"
   ]
  },
  {
   "cell_type": "markdown",
   "metadata": {},
   "source": [
    "# chapter 2 Transformation and action"
   ]
  },
  {
   "cell_type": "code",
   "execution_count": 9,
   "metadata": {},
   "outputs": [
    {
     "data": {
      "text/plain": [
       "['>seq1',\n",
       " 'cGTAaccaataaaaaaacaagcttaacctaattc',\n",
       " '>seq2',\n",
       " 'agcttagTTTGGatctggccgggg',\n",
       " '>seq3',\n",
       " 'gcggatttactcCCCCCAAAAANNaggggagagcccagataaatggagtctgtgcgtccaca',\n",
       " 'gaattcgcacca',\n",
       " 'AATAAAACCTCACCCAT',\n",
       " 'agagcccagaatttactcCCC',\n",
       " '>seq4',\n",
       " 'gcggatttactcaggggagagcccagGGataaatggagtctgtgcgtccaca',\n",
       " 'gaattcgcacca']"
      ]
     },
     "execution_count": 9,
     "metadata": {},
     "output_type": "execute_result"
    }
   ],
   "source": [
    "# Gnome\n",
    "input_path = 'data/sample.fasta'\n",
    "records_rdd = spark.read.text(input_path)\\\n",
    "    .rdd.map(lambda x: x[0])\n",
    "\n",
    "records_rdd.collect()"
   ]
  },
  {
   "cell_type": "code",
   "execution_count": 10,
   "metadata": {},
   "outputs": [],
   "source": [
    "sc = spark.sparkContext\n",
    "records_rdd = sc.textFile(input_path)"
   ]
  },
  {
   "cell_type": "code",
   "execution_count": 11,
   "metadata": {},
   "outputs": [
    {
     "data": {
      "text/plain": [
       "['>seq1',\n",
       " 'cGTAaccaataaaaaaacaagcttaacctaattc',\n",
       " '>seq2',\n",
       " 'agcttagTTTGGatctggccgggg',\n",
       " '>seq3',\n",
       " 'gcggatttactcCCCCCAAAAANNaggggagagcccagataaatggagtctgtgcgtccaca',\n",
       " 'gaattcgcacca',\n",
       " 'AATAAAACCTCACCCAT',\n",
       " 'agagcccagaatttactcCCC',\n",
       " '>seq4',\n",
       " 'gcggatttactcaggggagagcccagGGataaatggagtctgtgcgtccaca',\n",
       " 'gaattcgcacca']"
      ]
     },
     "execution_count": 11,
     "metadata": {},
     "output_type": "execute_result"
    }
   ],
   "source": [
    "records_rdd.collect()"
   ]
  },
  {
   "cell_type": "code",
   "execution_count": 12,
   "metadata": {},
   "outputs": [],
   "source": [
    "# 2. Define mapper function\n",
    "def process_FASTA_record(fasta_record):\n",
    "    key_value_list = []\n",
    "    if (fasta_record.startswith(\">\")):\n",
    "        # z counts the number of FASTA sequences \n",
    "        key_value_list.append(('z',1))\n",
    "    else:\n",
    "        chars = fasta_record.lower()\n",
    "        for c in chars:\n",
    "            key_value_list.append((c,1))\n",
    "    \n",
    "    print(key_value_list)\n",
    "    return key_value_list"
   ]
  },
  {
   "cell_type": "code",
   "execution_count": 13,
   "metadata": {},
   "outputs": [],
   "source": [
    "pairs_rdd = records_rdd.flatMap(lambda rec: process_FASTA_record(rec))"
   ]
  },
  {
   "cell_type": "code",
   "execution_count": 14,
   "metadata": {},
   "outputs": [
    {
     "data": {
      "text/plain": [
       "2"
      ]
     },
     "execution_count": 14,
     "metadata": {},
     "output_type": "execute_result"
    }
   ],
   "source": [
    "pairs_rdd.getNumPartitions()"
   ]
  },
  {
   "cell_type": "code",
   "execution_count": 15,
   "metadata": {},
   "outputs": [],
   "source": [
    "# reduce by key\n",
    "frequency_rdd = pairs_rdd.reduceByKey(lambda x,y:x+y)"
   ]
  },
  {
   "cell_type": "code",
   "execution_count": 16,
   "metadata": {},
   "outputs": [
    {
     "data": {
      "text/plain": [
       "[('c', 61), ('g', 53), ('z', 4), ('t', 45), ('a', 73), ('n', 2)]"
      ]
     },
     "execution_count": 16,
     "metadata": {},
     "output_type": "execute_result"
    }
   ],
   "source": [
    "frequency_rdd.collect()"
   ]
  },
  {
   "cell_type": "code",
   "execution_count": 17,
   "metadata": {},
   "outputs": [],
   "source": [
    "# group by key\n",
    "grouped_rdd = pairs_rdd.groupByKey()\n",
    "frequency_df = grouped_rdd.mapValues(lambda val:sum(val))"
   ]
  },
  {
   "cell_type": "code",
   "execution_count": 18,
   "metadata": {},
   "outputs": [
    {
     "data": {
      "text/plain": [
       "PythonRDD[31] at RDD at PythonRDD.scala:53"
      ]
     },
     "execution_count": 18,
     "metadata": {},
     "output_type": "execute_result"
    }
   ],
   "source": [
    "frequency_df"
   ]
  },
  {
   "cell_type": "code",
   "execution_count": 58,
   "metadata": {},
   "outputs": [],
   "source": [
    "# hashmap solution\n",
    "# parameter : fasta_record: string, a single FSTA record\n",
    "# output: a list of (dna_letter, frequency)\n",
    "\n",
    "from collections import defaultdict\n",
    "\n",
    "\n",
    "def process_FASTA_as_hashmap(fasta_record):\n",
    "    if (fasta_record.startswith(\">\")):\n",
    "        return [('z',1)]\n",
    "    hashmap = defaultdict(int)\n",
    "    chars = fasta_record.lower()\n",
    "    for c in chars:\n",
    "        hashmap[c]+=1\n",
    "    print('hashmap=',hashmap)\n",
    "    key_value_list = [(k,v) for k,v in hashmap.items()]\n",
    "    print(\"key_value_lsit=\",key_value_list)\n",
    "    return key_value_list\n",
    "\n",
    "def test(fast_rec):\n",
    "    if fast_rec.startswith(\">\"):\n",
    "        return [('z',1)]\n",
    "    else:\n",
    "        return list(fast_rec.lower())\n"
   ]
  },
  {
   "cell_type": "code",
   "execution_count": 25,
   "metadata": {},
   "outputs": [
    {
     "data": {
      "text/plain": [
       "['>seq1',\n",
       " 'cGTAaccaataaaaaaacaagcttaacctaattc',\n",
       " '>seq2',\n",
       " 'agcttagTTTGGatctggccgggg',\n",
       " '>seq3',\n",
       " 'gcggatttactcCCCCCAAAAANNaggggagagcccagataaatggagtctgtgcgtccaca',\n",
       " 'gaattcgcacca',\n",
       " 'AATAAAACCTCACCCAT',\n",
       " 'agagcccagaatttactcCCC',\n",
       " '>seq4',\n",
       " 'gcggatttactcaggggagagcccagGGataaatggagtctgtgcgtccaca',\n",
       " 'gaattcgcacca']"
      ]
     },
     "execution_count": 25,
     "metadata": {},
     "output_type": "execute_result"
    }
   ],
   "source": [
    "records_rdd.collect()"
   ]
  },
  {
   "cell_type": "code",
   "execution_count": 57,
   "metadata": {},
   "outputs": [
    {
     "ename": "Py4JJavaError",
     "evalue": "An error occurred while calling z:org.apache.spark.api.python.PythonRDD.collectAndServe.\n: org.apache.spark.SparkException: Job aborted due to stage failure: Task 0 in stage 28.0 failed 1 times, most recent failure: Lost task 0.0 in stage 28.0 (TID 56, avinash, executor driver): org.apache.spark.api.python.PythonException: Traceback (most recent call last):\n  File \"C:\\spark\\spark3\\python\\lib\\pyspark.zip\\pyspark\\worker.py\", line 605, in main\n  File \"C:\\spark\\spark3\\python\\lib\\pyspark.zip\\pyspark\\worker.py\", line 595, in process\n  File \"C:\\spark\\spark3\\python\\pyspark\\rdd.py\", line 2596, in pipeline_func\n    return func(split, prev_func(split, iterator))\n  File \"C:\\spark\\spark3\\python\\pyspark\\rdd.py\", line 2596, in pipeline_func\n    return func(split, prev_func(split, iterator))\n  File \"C:\\spark\\spark3\\python\\pyspark\\rdd.py\", line 425, in func\n    return f(iterator)\n  File \"C:\\spark\\spark3\\python\\pyspark\\rdd.py\", line 1946, in combineLocally\n    merger.mergeValues(iterator)\n  File \"C:\\spark\\spark3\\python\\lib\\pyspark.zip\\pyspark\\shuffle.py\", line 238, in mergeValues\n    for k, v in iterator:\n  File \"C:\\spark\\spark3\\python\\lib\\pyspark.zip\\pyspark\\util.py\", line 107, in wrapper\n    return f(*args, **kwargs)\n  File \"<ipython-input-56-7b38a6767932>\", line 16, in process_FASTA_as_hashmap\nAttributeError: 'collections.defaultdict' object has no attribute 'iteritems'\n\r\n\tat org.apache.spark.api.python.BasePythonRunner$ReaderIterator.handlePythonException(PythonRunner.scala:503)\r\n\tat org.apache.spark.api.python.PythonRunner$$anon$3.read(PythonRunner.scala:638)\r\n\tat org.apache.spark.api.python.PythonRunner$$anon$3.read(PythonRunner.scala:621)\r\n\tat org.apache.spark.api.python.BasePythonRunner$ReaderIterator.hasNext(PythonRunner.scala:456)\r\n\tat org.apache.spark.InterruptibleIterator.hasNext(InterruptibleIterator.scala:37)\r\n\tat scala.collection.Iterator$GroupedIterator.fill(Iterator.scala:1209)\r\n\tat scala.collection.Iterator$GroupedIterator.hasNext(Iterator.scala:1215)\r\n\tat scala.collection.Iterator$$anon$10.hasNext(Iterator.scala:458)\r\n\tat org.apache.spark.shuffle.sort.BypassMergeSortShuffleWriter.write(BypassMergeSortShuffleWriter.java:132)\r\n\tat org.apache.spark.shuffle.ShuffleWriteProcessor.write(ShuffleWriteProcessor.scala:59)\r\n\tat org.apache.spark.scheduler.ShuffleMapTask.runTask(ShuffleMapTask.scala:99)\r\n\tat org.apache.spark.scheduler.ShuffleMapTask.runTask(ShuffleMapTask.scala:52)\r\n\tat org.apache.spark.scheduler.Task.run(Task.scala:127)\r\n\tat org.apache.spark.executor.Executor$TaskRunner.$anonfun$run$3(Executor.scala:463)\r\n\tat org.apache.spark.util.Utils$.tryWithSafeFinally(Utils.scala:1377)\r\n\tat org.apache.spark.executor.Executor$TaskRunner.run(Executor.scala:466)\r\n\tat java.base/java.util.concurrent.ThreadPoolExecutor.runWorker(ThreadPoolExecutor.java:1130)\r\n\tat java.base/java.util.concurrent.ThreadPoolExecutor$Worker.run(ThreadPoolExecutor.java:630)\r\n\tat java.base/java.lang.Thread.run(Thread.java:832)\r\n\nDriver stacktrace:\r\n\tat org.apache.spark.scheduler.DAGScheduler.failJobAndIndependentStages(DAGScheduler.scala:2059)\r\n\tat org.apache.spark.scheduler.DAGScheduler.$anonfun$abortStage$2(DAGScheduler.scala:2008)\r\n\tat org.apache.spark.scheduler.DAGScheduler.$anonfun$abortStage$2$adapted(DAGScheduler.scala:2007)\r\n\tat scala.collection.mutable.ResizableArray.foreach(ResizableArray.scala:62)\r\n\tat scala.collection.mutable.ResizableArray.foreach$(ResizableArray.scala:55)\r\n\tat scala.collection.mutable.ArrayBuffer.foreach(ArrayBuffer.scala:49)\r\n\tat org.apache.spark.scheduler.DAGScheduler.abortStage(DAGScheduler.scala:2007)\r\n\tat org.apache.spark.scheduler.DAGScheduler.$anonfun$handleTaskSetFailed$1(DAGScheduler.scala:973)\r\n\tat org.apache.spark.scheduler.DAGScheduler.$anonfun$handleTaskSetFailed$1$adapted(DAGScheduler.scala:973)\r\n\tat scala.Option.foreach(Option.scala:407)\r\n\tat org.apache.spark.scheduler.DAGScheduler.handleTaskSetFailed(DAGScheduler.scala:973)\r\n\tat org.apache.spark.scheduler.DAGSchedulerEventProcessLoop.doOnReceive(DAGScheduler.scala:2239)\r\n\tat org.apache.spark.scheduler.DAGSchedulerEventProcessLoop.onReceive(DAGScheduler.scala:2188)\r\n\tat org.apache.spark.scheduler.DAGSchedulerEventProcessLoop.onReceive(DAGScheduler.scala:2177)\r\n\tat org.apache.spark.util.EventLoop$$anon$1.run(EventLoop.scala:49)\r\n\tat org.apache.spark.scheduler.DAGScheduler.runJob(DAGScheduler.scala:775)\r\n\tat org.apache.spark.SparkContext.runJob(SparkContext.scala:2114)\r\n\tat org.apache.spark.SparkContext.runJob(SparkContext.scala:2135)\r\n\tat org.apache.spark.SparkContext.runJob(SparkContext.scala:2154)\r\n\tat org.apache.spark.SparkContext.runJob(SparkContext.scala:2179)\r\n\tat org.apache.spark.rdd.RDD.$anonfun$collect$1(RDD.scala:1004)\r\n\tat org.apache.spark.rdd.RDDOperationScope$.withScope(RDDOperationScope.scala:151)\r\n\tat org.apache.spark.rdd.RDDOperationScope$.withScope(RDDOperationScope.scala:112)\r\n\tat org.apache.spark.rdd.RDD.withScope(RDD.scala:388)\r\n\tat org.apache.spark.rdd.RDD.collect(RDD.scala:1003)\r\n\tat org.apache.spark.api.python.PythonRDD$.collectAndServe(PythonRDD.scala:168)\r\n\tat org.apache.spark.api.python.PythonRDD.collectAndServe(PythonRDD.scala)\r\n\tat jdk.internal.reflect.GeneratedMethodAccessor79.invoke(Unknown Source)\r\n\tat java.base/jdk.internal.reflect.DelegatingMethodAccessorImpl.invoke(DelegatingMethodAccessorImpl.java:43)\r\n\tat java.base/java.lang.reflect.Method.invoke(Method.java:564)\r\n\tat py4j.reflection.MethodInvoker.invoke(MethodInvoker.java:244)\r\n\tat py4j.reflection.ReflectionEngine.invoke(ReflectionEngine.java:357)\r\n\tat py4j.Gateway.invoke(Gateway.java:282)\r\n\tat py4j.commands.AbstractCommand.invokeMethod(AbstractCommand.java:132)\r\n\tat py4j.commands.CallCommand.execute(CallCommand.java:79)\r\n\tat py4j.GatewayConnection.run(GatewayConnection.java:238)\r\n\tat java.base/java.lang.Thread.run(Thread.java:832)\r\nCaused by: org.apache.spark.api.python.PythonException: Traceback (most recent call last):\n  File \"C:\\spark\\spark3\\python\\lib\\pyspark.zip\\pyspark\\worker.py\", line 605, in main\n  File \"C:\\spark\\spark3\\python\\lib\\pyspark.zip\\pyspark\\worker.py\", line 595, in process\n  File \"C:\\spark\\spark3\\python\\pyspark\\rdd.py\", line 2596, in pipeline_func\n    return func(split, prev_func(split, iterator))\n  File \"C:\\spark\\spark3\\python\\pyspark\\rdd.py\", line 2596, in pipeline_func\n    return func(split, prev_func(split, iterator))\n  File \"C:\\spark\\spark3\\python\\pyspark\\rdd.py\", line 425, in func\n    return f(iterator)\n  File \"C:\\spark\\spark3\\python\\pyspark\\rdd.py\", line 1946, in combineLocally\n    merger.mergeValues(iterator)\n  File \"C:\\spark\\spark3\\python\\lib\\pyspark.zip\\pyspark\\shuffle.py\", line 238, in mergeValues\n    for k, v in iterator:\n  File \"C:\\spark\\spark3\\python\\lib\\pyspark.zip\\pyspark\\util.py\", line 107, in wrapper\n    return f(*args, **kwargs)\n  File \"<ipython-input-56-7b38a6767932>\", line 16, in process_FASTA_as_hashmap\nAttributeError: 'collections.defaultdict' object has no attribute 'iteritems'\n\r\n\tat org.apache.spark.api.python.BasePythonRunner$ReaderIterator.handlePythonException(PythonRunner.scala:503)\r\n\tat org.apache.spark.api.python.PythonRunner$$anon$3.read(PythonRunner.scala:638)\r\n\tat org.apache.spark.api.python.PythonRunner$$anon$3.read(PythonRunner.scala:621)\r\n\tat org.apache.spark.api.python.BasePythonRunner$ReaderIterator.hasNext(PythonRunner.scala:456)\r\n\tat org.apache.spark.InterruptibleIterator.hasNext(InterruptibleIterator.scala:37)\r\n\tat scala.collection.Iterator$GroupedIterator.fill(Iterator.scala:1209)\r\n\tat scala.collection.Iterator$GroupedIterator.hasNext(Iterator.scala:1215)\r\n\tat scala.collection.Iterator$$anon$10.hasNext(Iterator.scala:458)\r\n\tat org.apache.spark.shuffle.sort.BypassMergeSortShuffleWriter.write(BypassMergeSortShuffleWriter.java:132)\r\n\tat org.apache.spark.shuffle.ShuffleWriteProcessor.write(ShuffleWriteProcessor.scala:59)\r\n\tat org.apache.spark.scheduler.ShuffleMapTask.runTask(ShuffleMapTask.scala:99)\r\n\tat org.apache.spark.scheduler.ShuffleMapTask.runTask(ShuffleMapTask.scala:52)\r\n\tat org.apache.spark.scheduler.Task.run(Task.scala:127)\r\n\tat org.apache.spark.executor.Executor$TaskRunner.$anonfun$run$3(Executor.scala:463)\r\n\tat org.apache.spark.util.Utils$.tryWithSafeFinally(Utils.scala:1377)\r\n\tat org.apache.spark.executor.Executor$TaskRunner.run(Executor.scala:466)\r\n\tat java.base/java.util.concurrent.ThreadPoolExecutor.runWorker(ThreadPoolExecutor.java:1130)\r\n\tat java.base/java.util.concurrent.ThreadPoolExecutor$Worker.run(ThreadPoolExecutor.java:630)\r\n\t... 1 more\r\n",
     "output_type": "error",
     "traceback": [
      "\u001b[1;31m---------------------------------------------------------------------------\u001b[0m",
      "\u001b[1;31mPy4JJavaError\u001b[0m                             Traceback (most recent call last)",
      "\u001b[1;32m<ipython-input-57-aa7dd68c7fcb>\u001b[0m in \u001b[0;36m<module>\u001b[1;34m\u001b[0m\n\u001b[0;32m      1\u001b[0m \u001b[0mpairs_rdd\u001b[0m \u001b[1;33m=\u001b[0m \u001b[0mrecords_rdd\u001b[0m\u001b[1;33m.\u001b[0m\u001b[0mflatMap\u001b[0m\u001b[1;33m(\u001b[0m\u001b[0mprocess_FASTA_as_hashmap\u001b[0m\u001b[1;33m)\u001b[0m\u001b[1;33m\u001b[0m\u001b[1;33m\u001b[0m\u001b[0m\n\u001b[0;32m      2\u001b[0m \u001b[0mfrequency_rdd\u001b[0m \u001b[1;33m=\u001b[0m \u001b[0mpairs_rdd\u001b[0m\u001b[1;33m.\u001b[0m\u001b[0mreduceByKey\u001b[0m\u001b[1;33m(\u001b[0m\u001b[1;32mlambda\u001b[0m \u001b[0mx\u001b[0m\u001b[1;33m,\u001b[0m\u001b[0my\u001b[0m\u001b[1;33m:\u001b[0m\u001b[0mx\u001b[0m\u001b[1;33m+\u001b[0m\u001b[0my\u001b[0m\u001b[1;33m)\u001b[0m\u001b[1;33m\u001b[0m\u001b[1;33m\u001b[0m\u001b[0m\n\u001b[1;32m----> 3\u001b[1;33m \u001b[0mfrequency_rdd\u001b[0m\u001b[1;33m.\u001b[0m\u001b[0mcollect\u001b[0m\u001b[1;33m(\u001b[0m\u001b[1;33m)\u001b[0m\u001b[1;33m\u001b[0m\u001b[1;33m\u001b[0m\u001b[0m\n\u001b[0m",
      "\u001b[1;32mC:\\spark\\spark3\\python\\pyspark\\rdd.py\u001b[0m in \u001b[0;36mcollect\u001b[1;34m(self)\u001b[0m\n\u001b[0;32m    887\u001b[0m         \"\"\"\n\u001b[0;32m    888\u001b[0m         \u001b[1;32mwith\u001b[0m \u001b[0mSCCallSiteSync\u001b[0m\u001b[1;33m(\u001b[0m\u001b[0mself\u001b[0m\u001b[1;33m.\u001b[0m\u001b[0mcontext\u001b[0m\u001b[1;33m)\u001b[0m \u001b[1;32mas\u001b[0m \u001b[0mcss\u001b[0m\u001b[1;33m:\u001b[0m\u001b[1;33m\u001b[0m\u001b[1;33m\u001b[0m\u001b[0m\n\u001b[1;32m--> 889\u001b[1;33m             \u001b[0msock_info\u001b[0m \u001b[1;33m=\u001b[0m \u001b[0mself\u001b[0m\u001b[1;33m.\u001b[0m\u001b[0mctx\u001b[0m\u001b[1;33m.\u001b[0m\u001b[0m_jvm\u001b[0m\u001b[1;33m.\u001b[0m\u001b[0mPythonRDD\u001b[0m\u001b[1;33m.\u001b[0m\u001b[0mcollectAndServe\u001b[0m\u001b[1;33m(\u001b[0m\u001b[0mself\u001b[0m\u001b[1;33m.\u001b[0m\u001b[0m_jrdd\u001b[0m\u001b[1;33m.\u001b[0m\u001b[0mrdd\u001b[0m\u001b[1;33m(\u001b[0m\u001b[1;33m)\u001b[0m\u001b[1;33m)\u001b[0m\u001b[1;33m\u001b[0m\u001b[1;33m\u001b[0m\u001b[0m\n\u001b[0m\u001b[0;32m    890\u001b[0m         \u001b[1;32mreturn\u001b[0m \u001b[0mlist\u001b[0m\u001b[1;33m(\u001b[0m\u001b[0m_load_from_socket\u001b[0m\u001b[1;33m(\u001b[0m\u001b[0msock_info\u001b[0m\u001b[1;33m,\u001b[0m \u001b[0mself\u001b[0m\u001b[1;33m.\u001b[0m\u001b[0m_jrdd_deserializer\u001b[0m\u001b[1;33m)\u001b[0m\u001b[1;33m)\u001b[0m\u001b[1;33m\u001b[0m\u001b[1;33m\u001b[0m\u001b[0m\n\u001b[0;32m    891\u001b[0m \u001b[1;33m\u001b[0m\u001b[0m\n",
      "\u001b[1;32mC:\\spark\\spark3\\python\\lib\\py4j-0.10.9-src.zip\\py4j\\java_gateway.py\u001b[0m in \u001b[0;36m__call__\u001b[1;34m(self, *args)\u001b[0m\n\u001b[0;32m   1302\u001b[0m \u001b[1;33m\u001b[0m\u001b[0m\n\u001b[0;32m   1303\u001b[0m         \u001b[0manswer\u001b[0m \u001b[1;33m=\u001b[0m \u001b[0mself\u001b[0m\u001b[1;33m.\u001b[0m\u001b[0mgateway_client\u001b[0m\u001b[1;33m.\u001b[0m\u001b[0msend_command\u001b[0m\u001b[1;33m(\u001b[0m\u001b[0mcommand\u001b[0m\u001b[1;33m)\u001b[0m\u001b[1;33m\u001b[0m\u001b[1;33m\u001b[0m\u001b[0m\n\u001b[1;32m-> 1304\u001b[1;33m         return_value = get_return_value(\n\u001b[0m\u001b[0;32m   1305\u001b[0m             answer, self.gateway_client, self.target_id, self.name)\n\u001b[0;32m   1306\u001b[0m \u001b[1;33m\u001b[0m\u001b[0m\n",
      "\u001b[1;32mC:\\spark\\spark3\\python\\pyspark\\sql\\utils.py\u001b[0m in \u001b[0;36mdeco\u001b[1;34m(*a, **kw)\u001b[0m\n\u001b[0;32m    126\u001b[0m     \u001b[1;32mdef\u001b[0m \u001b[0mdeco\u001b[0m\u001b[1;33m(\u001b[0m\u001b[1;33m*\u001b[0m\u001b[0ma\u001b[0m\u001b[1;33m,\u001b[0m \u001b[1;33m**\u001b[0m\u001b[0mkw\u001b[0m\u001b[1;33m)\u001b[0m\u001b[1;33m:\u001b[0m\u001b[1;33m\u001b[0m\u001b[1;33m\u001b[0m\u001b[0m\n\u001b[0;32m    127\u001b[0m         \u001b[1;32mtry\u001b[0m\u001b[1;33m:\u001b[0m\u001b[1;33m\u001b[0m\u001b[1;33m\u001b[0m\u001b[0m\n\u001b[1;32m--> 128\u001b[1;33m             \u001b[1;32mreturn\u001b[0m \u001b[0mf\u001b[0m\u001b[1;33m(\u001b[0m\u001b[1;33m*\u001b[0m\u001b[0ma\u001b[0m\u001b[1;33m,\u001b[0m \u001b[1;33m**\u001b[0m\u001b[0mkw\u001b[0m\u001b[1;33m)\u001b[0m\u001b[1;33m\u001b[0m\u001b[1;33m\u001b[0m\u001b[0m\n\u001b[0m\u001b[0;32m    129\u001b[0m         \u001b[1;32mexcept\u001b[0m \u001b[0mpy4j\u001b[0m\u001b[1;33m.\u001b[0m\u001b[0mprotocol\u001b[0m\u001b[1;33m.\u001b[0m\u001b[0mPy4JJavaError\u001b[0m \u001b[1;32mas\u001b[0m \u001b[0me\u001b[0m\u001b[1;33m:\u001b[0m\u001b[1;33m\u001b[0m\u001b[1;33m\u001b[0m\u001b[0m\n\u001b[0;32m    130\u001b[0m             \u001b[0mconverted\u001b[0m \u001b[1;33m=\u001b[0m \u001b[0mconvert_exception\u001b[0m\u001b[1;33m(\u001b[0m\u001b[0me\u001b[0m\u001b[1;33m.\u001b[0m\u001b[0mjava_exception\u001b[0m\u001b[1;33m)\u001b[0m\u001b[1;33m\u001b[0m\u001b[1;33m\u001b[0m\u001b[0m\n",
      "\u001b[1;32mC:\\spark\\spark3\\python\\lib\\py4j-0.10.9-src.zip\\py4j\\protocol.py\u001b[0m in \u001b[0;36mget_return_value\u001b[1;34m(answer, gateway_client, target_id, name)\u001b[0m\n\u001b[0;32m    324\u001b[0m             \u001b[0mvalue\u001b[0m \u001b[1;33m=\u001b[0m \u001b[0mOUTPUT_CONVERTER\u001b[0m\u001b[1;33m[\u001b[0m\u001b[0mtype\u001b[0m\u001b[1;33m]\u001b[0m\u001b[1;33m(\u001b[0m\u001b[0manswer\u001b[0m\u001b[1;33m[\u001b[0m\u001b[1;36m2\u001b[0m\u001b[1;33m:\u001b[0m\u001b[1;33m]\u001b[0m\u001b[1;33m,\u001b[0m \u001b[0mgateway_client\u001b[0m\u001b[1;33m)\u001b[0m\u001b[1;33m\u001b[0m\u001b[1;33m\u001b[0m\u001b[0m\n\u001b[0;32m    325\u001b[0m             \u001b[1;32mif\u001b[0m \u001b[0manswer\u001b[0m\u001b[1;33m[\u001b[0m\u001b[1;36m1\u001b[0m\u001b[1;33m]\u001b[0m \u001b[1;33m==\u001b[0m \u001b[0mREFERENCE_TYPE\u001b[0m\u001b[1;33m:\u001b[0m\u001b[1;33m\u001b[0m\u001b[1;33m\u001b[0m\u001b[0m\n\u001b[1;32m--> 326\u001b[1;33m                 raise Py4JJavaError(\n\u001b[0m\u001b[0;32m    327\u001b[0m                     \u001b[1;34m\"An error occurred while calling {0}{1}{2}.\\n\"\u001b[0m\u001b[1;33m.\u001b[0m\u001b[1;33m\u001b[0m\u001b[1;33m\u001b[0m\u001b[0m\n\u001b[0;32m    328\u001b[0m                     format(target_id, \".\", name), value)\n",
      "\u001b[1;31mPy4JJavaError\u001b[0m: An error occurred while calling z:org.apache.spark.api.python.PythonRDD.collectAndServe.\n: org.apache.spark.SparkException: Job aborted due to stage failure: Task 0 in stage 28.0 failed 1 times, most recent failure: Lost task 0.0 in stage 28.0 (TID 56, avinash, executor driver): org.apache.spark.api.python.PythonException: Traceback (most recent call last):\n  File \"C:\\spark\\spark3\\python\\lib\\pyspark.zip\\pyspark\\worker.py\", line 605, in main\n  File \"C:\\spark\\spark3\\python\\lib\\pyspark.zip\\pyspark\\worker.py\", line 595, in process\n  File \"C:\\spark\\spark3\\python\\pyspark\\rdd.py\", line 2596, in pipeline_func\n    return func(split, prev_func(split, iterator))\n  File \"C:\\spark\\spark3\\python\\pyspark\\rdd.py\", line 2596, in pipeline_func\n    return func(split, prev_func(split, iterator))\n  File \"C:\\spark\\spark3\\python\\pyspark\\rdd.py\", line 425, in func\n    return f(iterator)\n  File \"C:\\spark\\spark3\\python\\pyspark\\rdd.py\", line 1946, in combineLocally\n    merger.mergeValues(iterator)\n  File \"C:\\spark\\spark3\\python\\lib\\pyspark.zip\\pyspark\\shuffle.py\", line 238, in mergeValues\n    for k, v in iterator:\n  File \"C:\\spark\\spark3\\python\\lib\\pyspark.zip\\pyspark\\util.py\", line 107, in wrapper\n    return f(*args, **kwargs)\n  File \"<ipython-input-56-7b38a6767932>\", line 16, in process_FASTA_as_hashmap\nAttributeError: 'collections.defaultdict' object has no attribute 'iteritems'\n\r\n\tat org.apache.spark.api.python.BasePythonRunner$ReaderIterator.handlePythonException(PythonRunner.scala:503)\r\n\tat org.apache.spark.api.python.PythonRunner$$anon$3.read(PythonRunner.scala:638)\r\n\tat org.apache.spark.api.python.PythonRunner$$anon$3.read(PythonRunner.scala:621)\r\n\tat org.apache.spark.api.python.BasePythonRunner$ReaderIterator.hasNext(PythonRunner.scala:456)\r\n\tat org.apache.spark.InterruptibleIterator.hasNext(InterruptibleIterator.scala:37)\r\n\tat scala.collection.Iterator$GroupedIterator.fill(Iterator.scala:1209)\r\n\tat scala.collection.Iterator$GroupedIterator.hasNext(Iterator.scala:1215)\r\n\tat scala.collection.Iterator$$anon$10.hasNext(Iterator.scala:458)\r\n\tat org.apache.spark.shuffle.sort.BypassMergeSortShuffleWriter.write(BypassMergeSortShuffleWriter.java:132)\r\n\tat org.apache.spark.shuffle.ShuffleWriteProcessor.write(ShuffleWriteProcessor.scala:59)\r\n\tat org.apache.spark.scheduler.ShuffleMapTask.runTask(ShuffleMapTask.scala:99)\r\n\tat org.apache.spark.scheduler.ShuffleMapTask.runTask(ShuffleMapTask.scala:52)\r\n\tat org.apache.spark.scheduler.Task.run(Task.scala:127)\r\n\tat org.apache.spark.executor.Executor$TaskRunner.$anonfun$run$3(Executor.scala:463)\r\n\tat org.apache.spark.util.Utils$.tryWithSafeFinally(Utils.scala:1377)\r\n\tat org.apache.spark.executor.Executor$TaskRunner.run(Executor.scala:466)\r\n\tat java.base/java.util.concurrent.ThreadPoolExecutor.runWorker(ThreadPoolExecutor.java:1130)\r\n\tat java.base/java.util.concurrent.ThreadPoolExecutor$Worker.run(ThreadPoolExecutor.java:630)\r\n\tat java.base/java.lang.Thread.run(Thread.java:832)\r\n\nDriver stacktrace:\r\n\tat org.apache.spark.scheduler.DAGScheduler.failJobAndIndependentStages(DAGScheduler.scala:2059)\r\n\tat org.apache.spark.scheduler.DAGScheduler.$anonfun$abortStage$2(DAGScheduler.scala:2008)\r\n\tat org.apache.spark.scheduler.DAGScheduler.$anonfun$abortStage$2$adapted(DAGScheduler.scala:2007)\r\n\tat scala.collection.mutable.ResizableArray.foreach(ResizableArray.scala:62)\r\n\tat scala.collection.mutable.ResizableArray.foreach$(ResizableArray.scala:55)\r\n\tat scala.collection.mutable.ArrayBuffer.foreach(ArrayBuffer.scala:49)\r\n\tat org.apache.spark.scheduler.DAGScheduler.abortStage(DAGScheduler.scala:2007)\r\n\tat org.apache.spark.scheduler.DAGScheduler.$anonfun$handleTaskSetFailed$1(DAGScheduler.scala:973)\r\n\tat org.apache.spark.scheduler.DAGScheduler.$anonfun$handleTaskSetFailed$1$adapted(DAGScheduler.scala:973)\r\n\tat scala.Option.foreach(Option.scala:407)\r\n\tat org.apache.spark.scheduler.DAGScheduler.handleTaskSetFailed(DAGScheduler.scala:973)\r\n\tat org.apache.spark.scheduler.DAGSchedulerEventProcessLoop.doOnReceive(DAGScheduler.scala:2239)\r\n\tat org.apache.spark.scheduler.DAGSchedulerEventProcessLoop.onReceive(DAGScheduler.scala:2188)\r\n\tat org.apache.spark.scheduler.DAGSchedulerEventProcessLoop.onReceive(DAGScheduler.scala:2177)\r\n\tat org.apache.spark.util.EventLoop$$anon$1.run(EventLoop.scala:49)\r\n\tat org.apache.spark.scheduler.DAGScheduler.runJob(DAGScheduler.scala:775)\r\n\tat org.apache.spark.SparkContext.runJob(SparkContext.scala:2114)\r\n\tat org.apache.spark.SparkContext.runJob(SparkContext.scala:2135)\r\n\tat org.apache.spark.SparkContext.runJob(SparkContext.scala:2154)\r\n\tat org.apache.spark.SparkContext.runJob(SparkContext.scala:2179)\r\n\tat org.apache.spark.rdd.RDD.$anonfun$collect$1(RDD.scala:1004)\r\n\tat org.apache.spark.rdd.RDDOperationScope$.withScope(RDDOperationScope.scala:151)\r\n\tat org.apache.spark.rdd.RDDOperationScope$.withScope(RDDOperationScope.scala:112)\r\n\tat org.apache.spark.rdd.RDD.withScope(RDD.scala:388)\r\n\tat org.apache.spark.rdd.RDD.collect(RDD.scala:1003)\r\n\tat org.apache.spark.api.python.PythonRDD$.collectAndServe(PythonRDD.scala:168)\r\n\tat org.apache.spark.api.python.PythonRDD.collectAndServe(PythonRDD.scala)\r\n\tat jdk.internal.reflect.GeneratedMethodAccessor79.invoke(Unknown Source)\r\n\tat java.base/jdk.internal.reflect.DelegatingMethodAccessorImpl.invoke(DelegatingMethodAccessorImpl.java:43)\r\n\tat java.base/java.lang.reflect.Method.invoke(Method.java:564)\r\n\tat py4j.reflection.MethodInvoker.invoke(MethodInvoker.java:244)\r\n\tat py4j.reflection.ReflectionEngine.invoke(ReflectionEngine.java:357)\r\n\tat py4j.Gateway.invoke(Gateway.java:282)\r\n\tat py4j.commands.AbstractCommand.invokeMethod(AbstractCommand.java:132)\r\n\tat py4j.commands.CallCommand.execute(CallCommand.java:79)\r\n\tat py4j.GatewayConnection.run(GatewayConnection.java:238)\r\n\tat java.base/java.lang.Thread.run(Thread.java:832)\r\nCaused by: org.apache.spark.api.python.PythonException: Traceback (most recent call last):\n  File \"C:\\spark\\spark3\\python\\lib\\pyspark.zip\\pyspark\\worker.py\", line 605, in main\n  File \"C:\\spark\\spark3\\python\\lib\\pyspark.zip\\pyspark\\worker.py\", line 595, in process\n  File \"C:\\spark\\spark3\\python\\pyspark\\rdd.py\", line 2596, in pipeline_func\n    return func(split, prev_func(split, iterator))\n  File \"C:\\spark\\spark3\\python\\pyspark\\rdd.py\", line 2596, in pipeline_func\n    return func(split, prev_func(split, iterator))\n  File \"C:\\spark\\spark3\\python\\pyspark\\rdd.py\", line 425, in func\n    return f(iterator)\n  File \"C:\\spark\\spark3\\python\\pyspark\\rdd.py\", line 1946, in combineLocally\n    merger.mergeValues(iterator)\n  File \"C:\\spark\\spark3\\python\\lib\\pyspark.zip\\pyspark\\shuffle.py\", line 238, in mergeValues\n    for k, v in iterator:\n  File \"C:\\spark\\spark3\\python\\lib\\pyspark.zip\\pyspark\\util.py\", line 107, in wrapper\n    return f(*args, **kwargs)\n  File \"<ipython-input-56-7b38a6767932>\", line 16, in process_FASTA_as_hashmap\nAttributeError: 'collections.defaultdict' object has no attribute 'iteritems'\n\r\n\tat org.apache.spark.api.python.BasePythonRunner$ReaderIterator.handlePythonException(PythonRunner.scala:503)\r\n\tat org.apache.spark.api.python.PythonRunner$$anon$3.read(PythonRunner.scala:638)\r\n\tat org.apache.spark.api.python.PythonRunner$$anon$3.read(PythonRunner.scala:621)\r\n\tat org.apache.spark.api.python.BasePythonRunner$ReaderIterator.hasNext(PythonRunner.scala:456)\r\n\tat org.apache.spark.InterruptibleIterator.hasNext(InterruptibleIterator.scala:37)\r\n\tat scala.collection.Iterator$GroupedIterator.fill(Iterator.scala:1209)\r\n\tat scala.collection.Iterator$GroupedIterator.hasNext(Iterator.scala:1215)\r\n\tat scala.collection.Iterator$$anon$10.hasNext(Iterator.scala:458)\r\n\tat org.apache.spark.shuffle.sort.BypassMergeSortShuffleWriter.write(BypassMergeSortShuffleWriter.java:132)\r\n\tat org.apache.spark.shuffle.ShuffleWriteProcessor.write(ShuffleWriteProcessor.scala:59)\r\n\tat org.apache.spark.scheduler.ShuffleMapTask.runTask(ShuffleMapTask.scala:99)\r\n\tat org.apache.spark.scheduler.ShuffleMapTask.runTask(ShuffleMapTask.scala:52)\r\n\tat org.apache.spark.scheduler.Task.run(Task.scala:127)\r\n\tat org.apache.spark.executor.Executor$TaskRunner.$anonfun$run$3(Executor.scala:463)\r\n\tat org.apache.spark.util.Utils$.tryWithSafeFinally(Utils.scala:1377)\r\n\tat org.apache.spark.executor.Executor$TaskRunner.run(Executor.scala:466)\r\n\tat java.base/java.util.concurrent.ThreadPoolExecutor.runWorker(ThreadPoolExecutor.java:1130)\r\n\tat java.base/java.util.concurrent.ThreadPoolExecutor$Worker.run(ThreadPoolExecutor.java:630)\r\n\t... 1 more\r\n"
     ]
    }
   ],
   "source": [
    "pairs_rdd = records_rdd.flatMap(process_FASTA_as_hashmap)\n",
    "frequency_rdd = pairs_rdd.reduceByKey(lambda x,y:x+y)\n",
    "frequency_rdd.collect()"
   ]
  },
  {
   "cell_type": "code",
   "execution_count": 36,
   "metadata": {},
   "outputs": [
    {
     "data": {
      "text/plain": [
       "{'c': 61, 'g': 53, 'z': 4, 't': 45, 'a': 73, 'n': 2}"
      ]
     },
     "execution_count": 36,
     "metadata": {},
     "output_type": "execute_result"
    }
   ],
   "source": [
    "# in hashmp format\n",
    "frequency_rdd.collectAsMap()"
   ]
  },
  {
   "cell_type": "code",
   "execution_count": 37,
   "metadata": {},
   "outputs": [
    {
     "ename": "TypeError",
     "evalue": "collectWithJobGroup() missing 2 required positional arguments: 'groupId' and 'description'",
     "output_type": "error",
     "traceback": [
      "\u001b[1;31m---------------------------------------------------------------------------\u001b[0m",
      "\u001b[1;31mTypeError\u001b[0m                                 Traceback (most recent call last)",
      "\u001b[1;32m<ipython-input-37-c94cdf52539c>\u001b[0m in \u001b[0;36m<module>\u001b[1;34m\u001b[0m\n\u001b[1;32m----> 1\u001b[1;33m \u001b[0mfrequency_rdd\u001b[0m\u001b[1;33m.\u001b[0m\u001b[0mcollectWithJobGroup\u001b[0m\u001b[1;33m(\u001b[0m\u001b[1;33m)\u001b[0m\u001b[1;33m\u001b[0m\u001b[1;33m\u001b[0m\u001b[0m\n\u001b[0m",
      "\u001b[1;31mTypeError\u001b[0m: collectWithJobGroup() missing 2 required positional arguments: 'groupId' and 'description'"
     ]
    }
   ],
   "source": [
    "# solution 3\n",
    "\n",
    "\n"
   ]
  },
  {
   "cell_type": "code",
   "execution_count": 38,
   "metadata": {},
   "outputs": [],
   "source": [
    "records = spark.sparkContext.textFile('data/sample.fasta')\n"
   ]
  },
  {
   "cell_type": "code",
   "execution_count": 39,
   "metadata": {},
   "outputs": [],
   "source": [
    "# partitions  \n",
    "# use sc.parallelize to create rdd from list,\n",
    "numbers = [1,2,3,4,5,6,7,8,9,10]\n",
    "num_partition = 3\n",
    "rdd = sc.parallelize(numbers,num_partition)"
   ]
  },
  {
   "cell_type": "code",
   "execution_count": 40,
   "metadata": {},
   "outputs": [
    {
     "data": {
      "text/plain": [
       "[1, 2, 3, 4, 5, 6, 7, 8, 9, 10]"
      ]
     },
     "execution_count": 40,
     "metadata": {},
     "output_type": "execute_result"
    }
   ],
   "source": [
    "rdd.collect()"
   ]
  },
  {
   "cell_type": "code",
   "execution_count": 41,
   "metadata": {},
   "outputs": [
    {
     "data": {
      "text/plain": [
       "3"
      ]
     },
     "execution_count": 41,
     "metadata": {},
     "output_type": "execute_result"
    }
   ],
   "source": [
    "rdd.getNumPartitions()"
   ]
  },
  {
   "cell_type": "code",
   "execution_count": 46,
   "metadata": {},
   "outputs": [],
   "source": [
    "def scan(iterator):\n",
    "    print(list(iterator))\n",
    "    \n",
    "(rdd.foreachPartition(scan))"
   ]
  },
  {
   "cell_type": "code",
   "execution_count": 47,
   "metadata": {},
   "outputs": [
    {
     "data": {
      "text/plain": [
       "[6, 15, 34]"
      ]
     },
     "execution_count": 47,
     "metadata": {},
     "output_type": "execute_result"
    }
   ],
   "source": [
    "def adder(iterator):\n",
    "    yield sum(iterator)\n",
    "\n",
    "rdd.mapPartitions(adder).collect()"
   ]
  },
  {
   "cell_type": "code",
   "execution_count": 55,
   "metadata": {},
   "outputs": [
    {
     "data": {
      "text/plain": [
       "[('c', 61), ('g', 53), ('Z', 4), ('t', 45), ('a', 73), ('n', 2)]"
      ]
     },
     "execution_count": 55,
     "metadata": {},
     "output_type": "execute_result"
    }
   ],
   "source": [
    "# Solution 3 create hashmap per partition rather than record\n",
    "from collections import defaultdict\n",
    "def process_FASTA_partition(iterator):\n",
    "    hashmap = defaultdict(int)\n",
    "    for fasta_record in iterator:\n",
    "        if fasta_record.startswith(\">\"):\n",
    "            hashmap['Z']+=1\n",
    "        else:\n",
    "            chars = fasta_record.lower()\n",
    "            for c in chars:\n",
    "                hashmap[c]+=1 \n",
    "    print('hashmap=',hashmap)\n",
    "    key_value_list = [(k,v) for k,v in hashmap.items()]\n",
    "    print(\"key_value_list\",key_value_list)\n",
    "    return key_value_list\n",
    "\n",
    "\n",
    "records = spark.sparkContext.textFile('data/sample.fasta')\n",
    "pairs_rdd = records.mapPartitions(process_FASTA_partition)\n",
    "frequency_rdd = pairs_rdd.reduceByKey(lambda a,b:a+b)\n",
    "frequency_rdd.collect()"
   ]
  },
  {
   "cell_type": "code",
   "execution_count": 60,
   "metadata": {},
   "outputs": [
    {
     "data": {
      "text/html": [
       "\n",
       "            <div>\n",
       "                <p><b>SparkSession - in-memory</b></p>\n",
       "                \n",
       "        <div>\n",
       "            <p><b>SparkContext</b></p>\n",
       "\n",
       "            <p><a href=\"http://avinash:4040\">Spark UI</a></p>\n",
       "\n",
       "            <dl>\n",
       "              <dt>Version</dt>\n",
       "                <dd><code>v3.0.3</code></dd>\n",
       "              <dt>Master</dt>\n",
       "                <dd><code>local[*]</code></dd>\n",
       "              <dt>AppName</dt>\n",
       "                <dd><code>orrily</code></dd>\n",
       "            </dl>\n",
       "        </div>\n",
       "        \n",
       "            </div>\n",
       "        "
      ],
      "text/plain": [
       "<pyspark.sql.session.SparkSession at 0x134ffdcb9a0>"
      ]
     },
     "execution_count": 60,
     "metadata": {},
     "output_type": "execute_result"
    }
   ],
   "source": [
    "spark"
   ]
  },
  {
   "cell_type": "markdown",
   "metadata": {},
   "source": [
    "# Chapter 3 Mapper Transformation"
   ]
  },
  {
   "cell_type": "code",
   "execution_count": 61,
   "metadata": {},
   "outputs": [
    {
     "data": {
      "text/plain": [
       "[1, -1, -2, 3, 4]"
      ]
     },
     "execution_count": 61,
     "metadata": {},
     "output_type": "execute_result"
    }
   ],
   "source": [
    "# map\n",
    "def mapper_func(x):\n",
    "    if (x>0):\n",
    "        return x+5\n",
    "    else:\n",
    "        return 0\n",
    "\n",
    "# spark: sparksession\n",
    "data = [1,-1,-2,3,4]\n",
    "rdd = spark.sparkContext.parallelize(data)\n",
    "rdd.collect()"
   ]
  },
  {
   "cell_type": "code",
   "execution_count": 62,
   "metadata": {},
   "outputs": [
    {
     "data": {
      "text/plain": [
       "[6, 0, 0, 8, 9]"
      ]
     },
     "execution_count": 62,
     "metadata": {},
     "output_type": "execute_result"
    }
   ],
   "source": [
    "rdd2 = rdd.map(mapper_func) # or rdd2 = rdd.map(lambda x: mapper_func(x)) \n",
    "\n",
    "rdd2.collect()  # rdd2 = rdd.map(lambda x : x+5 if x> 0 else 0)"
   ]
  },
  {
   "cell_type": "code",
   "execution_count": 63,
   "metadata": {},
   "outputs": [
    {
     "data": {
      "text/plain": [
       "[2, 0, 0, 6, 8]"
      ]
     },
     "execution_count": 63,
     "metadata": {},
     "output_type": "execute_result"
    }
   ],
   "source": [
    "rdd3 = rdd.map(lambda x : x*2 if x> 0 else 0)\n",
    "rdd3.collect()"
   ]
  },
  {
   "cell_type": "code",
   "execution_count": 64,
   "metadata": {},
   "outputs": [
    {
     "data": {
      "text/plain": [
       "[(1, 6), (-1, 0), (-2, 0), (3, 8), (4, 9)]"
      ]
     },
     "execution_count": 64,
     "metadata": {},
     "output_type": "execute_result"
    }
   ],
   "source": [
    "rdd4 = rdd.map(lambda x: (x,mapper_func(x)))\n",
    "rdd4.collect()"
   ]
  },
  {
   "cell_type": "code",
   "execution_count": 65,
   "metadata": {},
   "outputs": [
    {
     "data": {
      "text/plain": [
       "[('a', 2), ('b', -1), ('d', 2), ('e', 3)]"
      ]
     },
     "execution_count": 65,
     "metadata": {},
     "output_type": "execute_result"
    }
   ],
   "source": [
    "# define a simple mapper function\n",
    "pairs = [('a',2),('b',-1),('d',2),('e',3)]\n",
    "rdd = spark.sparkContext.parallelize(pairs)\n",
    "rdd.collect()"
   ]
  },
  {
   "cell_type": "code",
   "execution_count": 66,
   "metadata": {},
   "outputs": [
    {
     "data": {
      "text/plain": [
       "[('a', 2, 102), ('b', -1, 99), ('d', 2, 102), ('e', 3, 103)]"
      ]
     },
     "execution_count": 66,
     "metadata": {},
     "output_type": "execute_result"
    }
   ],
   "source": [
    "rdd2 = rdd.map(lambda x: (x[0],x[1],x[1]+100))\n",
    "rdd2.collect()"
   ]
  },
  {
   "cell_type": "code",
   "execution_count": 67,
   "metadata": {},
   "outputs": [
    {
     "data": {
      "text/plain": [
       "['a,10,11', 'b,8,19', 'c,20,21', 'c,2,8']"
      ]
     },
     "execution_count": 67,
     "metadata": {},
     "output_type": "execute_result"
    }
   ],
   "source": [
    "def create_key_value(string):\n",
    "    tokens = string.split(\",\")\n",
    "    return (tokens[0],(tokens[1],tokens[2]))\n",
    "\n",
    "strings = ['a,10,11','b,8,19','c,20,21','c,2,8']\n",
    "rdd = spark.sparkContext.parallelize(strings)\n",
    "rdd.collect()"
   ]
  },
  {
   "cell_type": "code",
   "execution_count": 68,
   "metadata": {},
   "outputs": [],
   "source": [
    "rdd2 = rdd.map(create_key_value)"
   ]
  },
  {
   "cell_type": "code",
   "execution_count": 69,
   "metadata": {},
   "outputs": [
    {
     "data": {
      "text/plain": [
       "[('a', ('10', '11')),\n",
       " ('b', ('8', '19')),\n",
       " ('c', ('20', '21')),\n",
       " ('c', ('2', '8'))]"
      ]
     },
     "execution_count": 69,
     "metadata": {},
     "output_type": "execute_result"
    }
   ],
   "source": [
    "rdd2.collect()"
   ]
  },
  {
   "cell_type": "code",
   "execution_count": 73,
   "metadata": {},
   "outputs": [
    {
     "data": {
      "text/plain": [
       "['1,Alex,30,124',\n",
       " '2,Bert,32,234',\n",
       " '3,Curt,28,312',\n",
       " '4,Don,32,180',\n",
       " '5,Mary,30,100',\n",
       " '6,Jane,28,212',\n",
       " '7,Joe,28,128',\n",
       " '8,Al,40,600']"
      ]
     },
     "execution_count": 73,
     "metadata": {},
     "output_type": "execute_result"
    }
   ],
   "source": []
  },
  {
   "cell_type": "code",
   "execution_count": 74,
   "metadata": {},
   "outputs": [
    {
     "data": {
      "text/plain": [
       "['1,Alex,30,124',\n",
       " '2,Bert,32,234',\n",
       " '3,Curt,28,312',\n",
       " '4,Don,32,180',\n",
       " '5,Mary,30,100',\n",
       " '6,Jane,28,212',\n",
       " '7,Joe,28,128',\n",
       " '8,Al,40,600']"
      ]
     },
     "execution_count": 74,
     "metadata": {},
     "output_type": "execute_result"
    }
   ],
   "source": [
    "def parse_record(record):\n",
    "    tokens = record.split(\",\")\n",
    "    age = int(tokens[2])\n",
    "    number_of_friends = int(tokens[3])\n",
    "    return (age,number_of_friends)\n",
    "\n",
    "\n",
    "user_path = 'data/student.csv'\n",
    "users = spark.sparkContext.textFile(user_path)\n",
    "users.collect()\n"
   ]
  },
  {
   "cell_type": "code",
   "execution_count": 75,
   "metadata": {},
   "outputs": [
    {
     "data": {
      "text/plain": [
       "[(30, 124),\n",
       " (32, 234),\n",
       " (28, 312),\n",
       " (32, 180),\n",
       " (30, 100),\n",
       " (28, 212),\n",
       " (28, 128),\n",
       " (40, 600)]"
      ]
     },
     "execution_count": 75,
     "metadata": {},
     "output_type": "execute_result"
    }
   ],
   "source": [
    "pairs = users.map(parse_record)\n",
    "pairs.collect()"
   ]
  },
  {
   "cell_type": "code",
   "execution_count": 76,
   "metadata": {},
   "outputs": [],
   "source": [
    "# average friends per year age  # mapvaleus (k,v)-> only applicatbel on values\n",
    "total_by_age = pairs.mapValues(lambda x: (x,1))\\\n",
    "    .reduceByKey(lambda x,y:(x[0]+y[0],x[1]+y[1]))"
   ]
  },
  {
   "cell_type": "code",
   "execution_count": 79,
   "metadata": {},
   "outputs": [
    {
     "data": {
      "text/plain": [
       "[(30, (224, 2)), (32, (414, 2)), (28, (652, 3)), (40, (600, 1))]"
      ]
     },
     "execution_count": 79,
     "metadata": {},
     "output_type": "execute_result"
    }
   ],
   "source": [
    "total_by_age.collect()"
   ]
  },
  {
   "cell_type": "code",
   "execution_count": 81,
   "metadata": {},
   "outputs": [
    {
     "data": {
      "text/plain": [
       "[(30, 112), (32, 207), (28, 217), (40, 600)]"
      ]
     },
     "execution_count": 81,
     "metadata": {},
     "output_type": "execute_result"
    }
   ],
   "source": [
    "average_by_age = total_by_age.mapValues(lambda x: x[0]//x[1])\n",
    "average_by_age.collect()"
   ]
  },
  {
   "cell_type": "code",
   "execution_count": 83,
   "metadata": {},
   "outputs": [
    {
     "name": "stdout",
     "output_type": "stream",
     "text": [
      "root\n",
      " |-- name: string (nullable = true)\n",
      " |-- amount: long (nullable = true)\n",
      " |-- education: string (nullable = true)\n",
      "\n"
     ]
    }
   ],
   "source": [
    "# DataFrame Mapper does not have map() function\n",
    "\n",
    "tuples3 = [ ('alex', 440, 'PHD'), ('jane', 420, 'PHD'),\n",
    "('bob', 280, 'MS'), ('betty', 200, 'MS'),\n",
    "('ted', 180, 'BS'), ('mary', 100, 'BS') ]\n",
    "\n",
    "df = spark.createDataFrame(tuples3,['name','amount','education'])\n",
    "df.printSchema()"
   ]
  },
  {
   "cell_type": "code",
   "execution_count": 84,
   "metadata": {},
   "outputs": [
    {
     "name": "stdout",
     "output_type": "stream",
     "text": [
      "+-----+------+---------+\n",
      "| name|amount|education|\n",
      "+-----+------+---------+\n",
      "| alex|   440|      PHD|\n",
      "| jane|   420|      PHD|\n",
      "|  bob|   280|       MS|\n",
      "|betty|   200|       MS|\n",
      "|  ted|   180|       BS|\n",
      "| mary|   100|       BS|\n",
      "+-----+------+---------+\n",
      "\n"
     ]
    }
   ],
   "source": [
    "df.show()"
   ]
  },
  {
   "cell_type": "code",
   "execution_count": 85,
   "metadata": {},
   "outputs": [],
   "source": [
    "# to show new column with 10% bounus\n",
    "df2 = df.rdd.map(lambda x:(x['name'],x['amount'],x['education'],x['amount']/10))\\\n",
    "    .toDF(['name','amount','education','bonus'])\n",
    "\n",
    "df2.show()"
   ]
  },
  {
   "cell_type": "code",
   "execution_count": 87,
   "metadata": {},
   "outputs": [
    {
     "name": "stdout",
     "output_type": "stream",
     "text": [
      "+-----+------+---------+-----+\n",
      "| name|amount|education|bonus|\n",
      "+-----+------+---------+-----+\n",
      "| alex|   440|      PHD| 44.0|\n",
      "| jane|   420|      PHD| 42.0|\n",
      "|  bob|   280|       MS| 28.0|\n",
      "|betty|   200|       MS| 20.0|\n",
      "|  ted|   180|       BS| 18.0|\n",
      "| mary|   100|       BS| 10.0|\n",
      "+-----+------+---------+-----+\n",
      "\n"
     ]
    }
   ],
   "source": [
    "# easy way to add new column withColumn\n",
    "df4 = df.withColumn('bonus',df.amount/10)\n",
    "df4.show()"
   ]
  },
  {
   "cell_type": "code",
   "execution_count": 92,
   "metadata": {},
   "outputs": [],
   "source": [
    "# bonus amount for PHD student 30% and MS 20%\n",
    "def compute_bonus(amount,education):\n",
    "    if education=='PHD': return int(amount*0.30)\n",
    "    if education=='MS': return int(amount*0.20)\n",
    "    return int(amount*0.10)\n",
    "\n",
    "# register your python function as UDF \n",
    "from pyspark.sql.functions import udf\n",
    "compute_bonus_udf = udf(lambda amount,education: compute_bonus(amount,education),IntegerType())"
   ]
  },
  {
   "cell_type": "code",
   "execution_count": 93,
   "metadata": {},
   "outputs": [
    {
     "name": "stdout",
     "output_type": "stream",
     "text": [
      "+-----+------+---------+-----+\n",
      "| name|amount|education|bonus|\n",
      "+-----+------+---------+-----+\n",
      "| alex|   440|      PHD|  132|\n",
      "| jane|   420|      PHD|  126|\n",
      "|  bob|   280|       MS|   56|\n",
      "|betty|   200|       MS|   40|\n",
      "|  ted|   180|       BS|   18|\n",
      "| mary|   100|       BS|   10|\n",
      "+-----+------+---------+-----+\n",
      "\n"
     ]
    }
   ],
   "source": [
    "df5 = df.withColumn('bonus',compute_bonus_udf(df.amount,df.education))\n",
    "df5.show()"
   ]
  },
  {
   "cell_type": "code",
   "execution_count": 94,
   "metadata": {},
   "outputs": [],
   "source": [
    "# Dataframe does not have flatmap but have explode fucniton\n",
    "# explode\n",
    "some_data = [\n",
    "('alex', ['Java','Scala', 'Python']),\n",
    "('jane', ['Cobol','Snobol']),\n",
    "('bob', ['C++',]),\n",
    "('ted', []),\n",
    "('max', [])\n",
    "]"
   ]
  },
  {
   "cell_type": "code",
   "execution_count": 95,
   "metadata": {},
   "outputs": [],
   "source": [
    "df = spark.createDataFrame(\n",
    "data=some_data, schema = ['name', 'known_languages'])"
   ]
  },
  {
   "cell_type": "code",
   "execution_count": 97,
   "metadata": {},
   "outputs": [
    {
     "name": "stdout",
     "output_type": "stream",
     "text": [
      "+----+---------------------+\n",
      "|name|known_languages      |\n",
      "+----+---------------------+\n",
      "|alex|[Java, Scala, Python]|\n",
      "|jane|[Cobol, Snobol]      |\n",
      "|bob |[C++]                |\n",
      "|ted |[]                   |\n",
      "|max |[]                   |\n",
      "+----+---------------------+\n",
      "\n"
     ]
    }
   ],
   "source": [
    "df.show(truncate=False)"
   ]
  },
  {
   "cell_type": "code",
   "execution_count": 100,
   "metadata": {},
   "outputs": [
    {
     "name": "stdout",
     "output_type": "stream",
     "text": [
      "+----+--------+\n",
      "|name|language|\n",
      "+----+--------+\n",
      "|alex|Java    |\n",
      "|alex|Scala   |\n",
      "|alex|Python  |\n",
      "|jane|Cobol   |\n",
      "|jane|Snobol  |\n",
      "|bob |C++     |\n",
      "+----+--------+\n",
      "\n"
     ]
    }
   ],
   "source": [
    "exploded_column = df.select(df.name,explode(df.known_languages).alias('language'))\n",
    "exploded_column.show(truncate=False)"
   ]
  },
  {
   "cell_type": "code",
   "execution_count": 101,
   "metadata": {},
   "outputs": [],
   "source": [
    "some_data = [\n",
    "... ('alex', ['Java','Scala', 'Python'], ['MS', 'PHD']),\n",
    "... ('jane', ['Cobol','Snobol'], ['BS', 'MS']),\n",
    "... ('bob', ['C++'], ['BS', 'MS', 'PHD']),\n",
    "... ('ted', [], ['BS', 'MS']),\n",
    "... ('max', ['FORTRAN'], []),\n",
    "... ('dan', [], [])\n",
    "... ]"
   ]
  },
  {
   "cell_type": "code",
   "execution_count": 107,
   "metadata": {},
   "outputs": [],
   "source": [
    "# exploding mutliple column (cannot explode 2 column at time)\n",
    "df = spark.createDataFrame(some_data,['name','languges','degree'])"
   ]
  },
  {
   "cell_type": "code",
   "execution_count": 109,
   "metadata": {},
   "outputs": [
    {
     "name": "stdout",
     "output_type": "stream",
     "text": [
      "+----+---------------------+-------------+\n",
      "|name|languges             |degree       |\n",
      "+----+---------------------+-------------+\n",
      "|alex|[Java, Scala, Python]|[MS, PHD]    |\n",
      "|jane|[Cobol, Snobol]      |[BS, MS]     |\n",
      "|bob |[C++]                |[BS, MS, PHD]|\n",
      "|ted |[]                   |[BS, MS]     |\n",
      "|max |[FORTRAN]            |[]           |\n",
      "|dan |[]                   |[]           |\n",
      "+----+---------------------+-------------+\n",
      "\n"
     ]
    }
   ],
   "source": [
    "df.show(truncate=0)"
   ]
  },
  {
   "cell_type": "code",
   "execution_count": 113,
   "metadata": {},
   "outputs": [],
   "source": [
    "explode_1 = df.select(df.name,explode(df.languges).alias('language'),df.degree)"
   ]
  },
  {
   "cell_type": "code",
   "execution_count": 114,
   "metadata": {},
   "outputs": [
    {
     "name": "stdout",
     "output_type": "stream",
     "text": [
      "+----+--------+-------------+\n",
      "|name|language|degree       |\n",
      "+----+--------+-------------+\n",
      "|alex|Java    |[MS, PHD]    |\n",
      "|alex|Scala   |[MS, PHD]    |\n",
      "|alex|Python  |[MS, PHD]    |\n",
      "|jane|Cobol   |[BS, MS]     |\n",
      "|jane|Snobol  |[BS, MS]     |\n",
      "|bob |C++     |[BS, MS, PHD]|\n",
      "|max |FORTRAN |[]           |\n",
      "+----+--------+-------------+\n",
      "\n"
     ]
    }
   ],
   "source": [
    "explode_1.show(truncate=0)"
   ]
  },
  {
   "cell_type": "code",
   "execution_count": 117,
   "metadata": {},
   "outputs": [
    {
     "name": "stdout",
     "output_type": "stream",
     "text": [
      "+----+--------+------+\n",
      "|name|language|degree|\n",
      "+----+--------+------+\n",
      "|alex|    Java|    MS|\n",
      "|alex|    Java|   PHD|\n",
      "|alex|   Scala|    MS|\n",
      "|alex|   Scala|   PHD|\n",
      "|alex|  Python|    MS|\n",
      "|alex|  Python|   PHD|\n",
      "|jane|   Cobol|    BS|\n",
      "|jane|   Cobol|    MS|\n",
      "|jane|  Snobol|    BS|\n",
      "|jane|  Snobol|    MS|\n",
      "| bob|     C++|    BS|\n",
      "| bob|     C++|    MS|\n",
      "| bob|     C++|   PHD|\n",
      "+----+--------+------+\n",
      "\n"
     ]
    }
   ],
   "source": [
    "explode_2 = explode_1.select(explode_1.name,explode_1.language,explode(explode_1.degree).alias('degree'))\n",
    "explode_2.show()"
   ]
  },
  {
   "cell_type": "markdown",
   "metadata": {},
   "source": [
    "# chapter4 Reduction in spark\n",
    " \n",
    "- reduceByKey()\n",
    "- combineByKey()\n",
    "- groupByKey()\n",
    "- aggregateByKey()"
   ]
  },
  {
   "cell_type": "code",
   "execution_count": 4,
   "metadata": {},
   "outputs": [
    {
     "data": {
      "text/plain": [
       "[('alex', 2),\n",
       " ('alex', 4),\n",
       " ('alex', 8),\n",
       " ('jane', 3),\n",
       " ('jane', 7),\n",
       " ('rafa', 1),\n",
       " ('rafa', 3),\n",
       " ('rafa', 5),\n",
       " ('rafa', 6),\n",
       " ('clint', 9)]"
      ]
     },
     "execution_count": 4,
     "metadata": {},
     "output_type": "execute_result"
    }
   ],
   "source": [
    "data =[\n",
    "('alex', 2), ('alex', 4), ('alex', 8),\n",
    "('jane', 3), ('jane', 7),\n",
    "('rafa', 1), ('rafa', 3), ('rafa', 5), ('rafa', 6),\n",
    "('clint', 9)\n",
    "]\n",
    "\n",
    "\n",
    "key_value_pairs = spark.sparkContext.parallelize(data)\n",
    "key_value_pairs.collect()"
   ]
  },
  {
   "cell_type": "code",
   "execution_count": 121,
   "metadata": {},
   "outputs": [
    {
     "data": {
      "text/plain": [
       "[('clint', 9), ('alex', 14), ('jane', 10), ('rafa', 15)]"
      ]
     },
     "execution_count": 121,
     "metadata": {},
     "output_type": "execute_result"
    }
   ],
   "source": [
    "## reduceByKey (soruce and target rdd data types are same)\n",
    "sum_per_key = key_value_pairs.reduceByKey(lambda x,y:x+y)\n",
    "sum_per_key.collect()"
   ]
  },
  {
   "cell_type": "code",
   "execution_count": 122,
   "metadata": {},
   "outputs": [
    {
     "data": {
      "text/plain": [
       "[('clint', 9), ('alex', 14), ('jane', 10), ('rafa', 15)]"
      ]
     },
     "execution_count": 122,
     "metadata": {},
     "output_type": "execute_result"
    }
   ],
   "source": [
    "# using add function\n",
    "from operator import add \n",
    "sum_per_key1 = key_value_pairs.reduceByKey(add)\n",
    "sum_per_key1.collect()"
   ]
  },
  {
   "cell_type": "code",
   "execution_count": 123,
   "metadata": {},
   "outputs": [
    {
     "data": {
      "text/plain": [
       "[('clint', 9), ('alex', 14), ('jane', 10), ('rafa', 15)]"
      ]
     },
     "execution_count": 123,
     "metadata": {},
     "output_type": "execute_result"
    }
   ],
   "source": [
    "## groupByKey\n",
    "sum_per_key2 = key_value_pairs.groupByKey().mapValues(lambda x: sum(x))\n",
    "sum_per_key2.collect()"
   ]
  },
  {
   "cell_type": "code",
   "execution_count": 124,
   "metadata": {},
   "outputs": [
    {
     "data": {
      "text/plain": [
       "[('clint', 9), ('alex', 14), ('jane', 10), ('rafa', 15)]"
      ]
     },
     "execution_count": 124,
     "metadata": {},
     "output_type": "execute_result"
    }
   ],
   "source": [
    "## aggregate by key\n",
    "sum_per_key3 = key_value_pairs.aggregateByKey(0,(lambda C,V:C+V),(lambda C1,C2:C1+C2))\n",
    "sum_per_key3.collect()"
   ]
  },
  {
   "cell_type": "code",
   "execution_count": 5,
   "metadata": {},
   "outputs": [
    {
     "data": {
      "text/plain": [
       "[('clint', 9), ('alex', 14), ('jane', 10), ('rafa', 15)]"
      ]
     },
     "execution_count": 5,
     "metadata": {},
     "output_type": "execute_result"
    }
   ],
   "source": [
    "## combineByKey\n",
    "sum_per_key4 = key_value_pairs.combineByKey(\n",
    "    (lambda x:x),\n",
    "    (lambda C,x:C+x),\n",
    "    (lambda C1,C2:C1+C2)\n",
    ")\n",
    "sum_per_key4.collect()"
   ]
  },
  {
   "cell_type": "code",
   "execution_count": 6,
   "metadata": {},
   "outputs": [],
   "source": [
    "# movielens \n",
    "# requirement -> find the average rating for each user \n",
    "\n",
    "## 1st solution reduceByKey\n",
    "\n"
   ]
  },
  {
   "cell_type": "code",
   "execution_count": 4,
   "metadata": {},
   "outputs": [
    {
     "data": {
      "text/plain": [
       "['1,1,4.0,964982703',\n",
       " '1,3,4.0,964981247',\n",
       " '1,6,4.0,964982224',\n",
       " '1,47,5.0,964983815',\n",
       " '1,50,5.0,964982931',\n",
       " '1,70,3.0,964982400',\n",
       " '1,101,5.0,964980868',\n",
       " '1,110,4.0,964982176',\n",
       " '1,151,5.0,964984041',\n",
       " '1,157,5.0,964984100',\n",
       " '1,163,5.0,964983650',\n",
       " '1,216,5.0,964981208',\n",
       " '1,223,3.0,964980985',\n",
       " '1,231,5.0,964981179',\n",
       " '1,235,4.0,964980908',\n",
       " '1,260,5.0,964981680',\n",
       " '1,296,3.0,964982967',\n",
       " '1,316,3.0,964982310',\n",
       " '1,333,5.0,964981179',\n",
       " '1,349,4.0,964982563',\n",
       " '1,356,4.0,964980962',\n",
       " '1,362,5.0,964982588',\n",
       " '1,367,4.0,964981710',\n",
       " '1,423,3.0,964982363',\n",
       " '1,441,4.0,964980868',\n",
       " '1,457,5.0,964981909',\n",
       " '1,480,4.0,964982346',\n",
       " '1,500,3.0,964981208',\n",
       " '1,527,5.0,964984002',\n",
       " '1,543,4.0,964981179',\n",
       " '1,552,4.0,964982653',\n",
       " '1,553,5.0,964984153',\n",
       " '1,590,4.0,964982546',\n",
       " '1,592,4.0,964982271',\n",
       " '1,593,4.0,964983793',\n",
       " '1,596,5.0,964982838',\n",
       " '1,608,5.0,964982931',\n",
       " '1,648,3.0,964982563',\n",
       " '1,661,5.0,964982838',\n",
       " '1,673,3.0,964981775',\n",
       " '1,733,4.0,964982400',\n",
       " '1,736,3.0,964982653',\n",
       " '1,780,3.0,964984086',\n",
       " '1,804,4.0,964980499',\n",
       " '1,919,5.0,964982475',\n",
       " '1,923,5.0,964981529',\n",
       " '1,940,5.0,964982176',\n",
       " '1,943,4.0,964983614',\n",
       " '1,954,5.0,964983219',\n",
       " '1,1009,3.0,964981775',\n",
       " '1,1023,5.0,964982681',\n",
       " '1,1024,5.0,964982876',\n",
       " '1,1025,5.0,964982791',\n",
       " '1,1029,5.0,964982855',\n",
       " '1,1030,3.0,964982903',\n",
       " '1,1031,5.0,964982653',\n",
       " '1,1032,5.0,964982791',\n",
       " '1,1042,4.0,964981179',\n",
       " '1,1049,5.0,964982400',\n",
       " '1,1060,4.0,964980924',\n",
       " '1,1073,5.0,964981680',\n",
       " '1,1080,5.0,964981327',\n",
       " '1,1089,5.0,964982951',\n",
       " '1,1090,4.0,964984018',\n",
       " '1,1092,5.0,964983484',\n",
       " '1,1097,5.0,964981680',\n",
       " '1,1127,4.0,964982513',\n",
       " '1,1136,5.0,964981327',\n",
       " '1,1196,5.0,964981827',\n",
       " '1,1197,5.0,964981872',\n",
       " '1,1198,5.0,964981827',\n",
       " '1,1206,5.0,964983737',\n",
       " '1,1208,4.0,964983250',\n",
       " '1,1210,5.0,964980499',\n",
       " '1,1213,5.0,964982951',\n",
       " '1,1214,4.0,964981855',\n",
       " '1,1219,2.0,964983393',\n",
       " '1,1220,5.0,964981909',\n",
       " '1,1222,5.0,964981909',\n",
       " '1,1224,5.0,964984018',\n",
       " '1,1226,5.0,964983618',\n",
       " '1,1240,5.0,964983723',\n",
       " '1,1256,5.0,964981442',\n",
       " '1,1258,3.0,964983414',\n",
       " '1,1265,4.0,964983599',\n",
       " '1,1270,5.0,964983705',\n",
       " '1,1275,5.0,964982290',\n",
       " '1,1278,5.0,964983414',\n",
       " '1,1282,5.0,964982703',\n",
       " '1,1291,5.0,964981909',\n",
       " '1,1298,5.0,964984086',\n",
       " '1,1348,4.0,964983393',\n",
       " '1,1377,3.0,964982653',\n",
       " '1,1396,3.0,964983017',\n",
       " '1,1408,3.0,964982310',\n",
       " '1,1445,3.0,964984112',\n",
       " '1,1473,4.0,964980875',\n",
       " '1,1500,4.0,964980985',\n",
       " '1,1517,5.0,964981107',\n",
       " '1,1552,4.0,964982620',\n",
       " '1,1573,5.0,964982290',\n",
       " '1,1580,3.0,964981125',\n",
       " '1,1587,5.0,964982346',\n",
       " '1,1617,5.0,964982951',\n",
       " '1,1620,4.0,964983056',\n",
       " '1,1625,5.0,964983504',\n",
       " '1,1644,3.0,964983536',\n",
       " '1,1676,3.0,964982620',\n",
       " '1,1732,5.0,964981125',\n",
       " '1,1777,4.0,964981230',\n",
       " '1,1793,4.0,964981404',\n",
       " '1,1804,5.0,964983034',\n",
       " '1,1805,4.0,964983056',\n",
       " '1,1920,4.0,964981780',\n",
       " '1,1927,5.0,964981497',\n",
       " '1,1954,5.0,964982176',\n",
       " '1,1967,4.0,964981710',\n",
       " '1,2000,4.0,964982211',\n",
       " '1,2005,5.0,964981710',\n",
       " '1,2012,4.0,964984176',\n",
       " '1,2018,5.0,964980523',\n",
       " '1,2028,4.0,964981888',\n",
       " '1,2033,5.0,964982903',\n",
       " '1,2046,4.0,964982563',\n",
       " '1,2048,5.0,964982791',\n",
       " '1,2054,4.0,964981747',\n",
       " '1,2058,5.0,964982400',\n",
       " '1,2078,5.0,964982838',\n",
       " '1,2090,5.0,964982838',\n",
       " '1,2093,3.0,964981710',\n",
       " '1,2094,5.0,964982653',\n",
       " '1,2096,4.0,964982838',\n",
       " '1,2099,4.0,964982588',\n",
       " '1,2105,4.0,964981725',\n",
       " '1,2115,5.0,964982529',\n",
       " '1,2116,5.0,964982876',\n",
       " '1,2137,5.0,964982791',\n",
       " '1,2139,5.0,964982791',\n",
       " '1,2141,5.0,964982838',\n",
       " '1,2143,4.0,964981725',\n",
       " '1,2161,5.0,964981710',\n",
       " '1,2174,4.0,964981680',\n",
       " '1,2193,4.0,964981710',\n",
       " '1,2253,2.0,964981775',\n",
       " '1,2268,4.0,964982989',\n",
       " '1,2273,4.0,964982310',\n",
       " '1,2291,5.0,964983664',\n",
       " '1,2329,5.0,964983263',\n",
       " '1,2338,2.0,964983546',\n",
       " '1,2353,5.0,964983861',\n",
       " '1,2366,4.0,964982462',\n",
       " '1,2387,5.0,964983123',\n",
       " '1,2389,2.0,964983094',\n",
       " '1,2395,5.0,964981093',\n",
       " '1,2406,4.0,964982310',\n",
       " '1,2414,3.0,964982513',\n",
       " '1,2427,5.0,964982242',\n",
       " '1,2450,4.0,964982620',\n",
       " '1,2459,5.0,964983414',\n",
       " '1,2470,5.0,964982588',\n",
       " '1,2478,4.0,964984169',\n",
       " '1,2492,4.0,965719662',\n",
       " '1,2502,5.0,964981278',\n",
       " '1,2528,3.0,964982328',\n",
       " '1,2529,5.0,964982242',\n",
       " '1,2542,5.0,964981265',\n",
       " '1,2571,5.0,964981888',\n",
       " '1,2580,5.0,964983000',\n",
       " '1,2596,5.0,964981144',\n",
       " '1,2616,4.0,964983080',\n",
       " '1,2617,2.0,964982588',\n",
       " '1,2628,4.0,964980523',\n",
       " '1,2640,4.0,964982377',\n",
       " '1,2641,5.0,964982620',\n",
       " '1,2644,4.0,964983393',\n",
       " '1,2648,4.0,964983414',\n",
       " '1,2654,5.0,964983393',\n",
       " '1,2657,3.0,964983426',\n",
       " '1,2692,5.0,964981855',\n",
       " '1,2700,5.0,964980985',\n",
       " '1,2716,5.0,964983414',\n",
       " '1,2761,5.0,964982703',\n",
       " '1,2797,4.0,964981710',\n",
       " '1,2826,4.0,964980523',\n",
       " '1,2858,5.0,964980868',\n",
       " '1,2872,5.0,964981680',\n",
       " '1,2899,5.0,964982703',\n",
       " '1,2916,4.0,964982290',\n",
       " '1,2944,5.0,964981872',\n",
       " '1,2947,5.0,964982176',\n",
       " '1,2948,5.0,964982191',\n",
       " '1,2949,5.0,964981888',\n",
       " '1,2959,5.0,964983282',\n",
       " '1,2985,4.0,964983034',\n",
       " '1,2987,5.0,964982495',\n",
       " '1,2991,5.0,964982271',\n",
       " '1,2993,5.0,964982242',\n",
       " '1,2997,4.0,964980896',\n",
       " '1,3033,5.0,964983762',\n",
       " '1,3034,5.0,964982791',\n",
       " '1,3052,5.0,964981208',\n",
       " '1,3053,5.0,964984086',\n",
       " '1,3062,4.0,964981872',\n",
       " '1,3147,5.0,964983873',\n",
       " '1,3168,4.0,964982495',\n",
       " '1,3176,1.0,964983504',\n",
       " '1,3243,3.0,964981093',\n",
       " '1,3247,3.0,964983108',\n",
       " '1,3253,5.0,964981107',\n",
       " '1,3273,5.0,964983536',\n",
       " '1,3386,5.0,964983484',\n",
       " '1,3439,4.0,964981799',\n",
       " '1,3440,4.0,964981799',\n",
       " '1,3441,5.0,964982328',\n",
       " '1,3448,5.0,964984054',\n",
       " '1,3450,5.0,964981144',\n",
       " '1,3479,4.0,964981725',\n",
       " '1,3489,4.0,964981775',\n",
       " '1,3527,4.0,964982271',\n",
       " '1,3578,5.0,964980668',\n",
       " '1,3617,4.0,964980683',\n",
       " '1,3639,4.0,964982271',\n",
       " '1,3671,5.0,964981589',\n",
       " '1,3702,5.0,964983737',\n",
       " '1,3703,5.0,964981909',\n",
       " '1,3729,5.0,964982363',\n",
       " '1,3740,4.0,964982417',\n",
       " '1,3744,4.0,964980694',\n",
       " '1,3793,5.0,964981855',\n",
       " '1,3809,4.0,964981220',\n",
       " '1,4006,4.0,964982903',\n",
       " '1,5060,5.0,964984002',\n",
       " '2,318,3.0,1445714835',\n",
       " '2,333,4.0,1445715029',\n",
       " '2,1704,4.5,1445715228',\n",
       " '2,3578,4.0,1445714885',\n",
       " '2,6874,4.0,1445714952',\n",
       " '2,8798,3.5,1445714960',\n",
       " '2,46970,4.0,1445715013',\n",
       " '2,48516,4.0,1445715064',\n",
       " '2,58559,4.5,1445715141',\n",
       " '2,60756,5.0,1445714980',\n",
       " '2,68157,4.5,1445715154',\n",
       " '2,71535,3.0,1445714974',\n",
       " '2,74458,4.0,1445714926',\n",
       " '2,77455,3.0,1445714941',\n",
       " '2,79132,4.0,1445714841',\n",
       " '2,80489,4.5,1445715340',\n",
       " '2,80906,5.0,1445715172',\n",
       " '2,86345,4.0,1445715166',\n",
       " '2,89774,5.0,1445715189',\n",
       " '2,91529,3.5,1445714891',\n",
       " '2,91658,2.5,1445714938',\n",
       " '2,99114,3.5,1445714874',\n",
       " '2,106782,5.0,1445714966',\n",
       " '2,109487,3.0,1445715145',\n",
       " '2,112552,4.0,1445714882',\n",
       " '2,114060,2.0,1445715276',\n",
       " '2,115713,3.5,1445714854',\n",
       " '2,122882,5.0,1445715272',\n",
       " '2,131724,5.0,1445714851',\n",
       " '3,31,0.5,1306463578',\n",
       " '3,527,0.5,1306464275',\n",
       " '3,647,0.5,1306463619',\n",
       " '3,688,0.5,1306464228',\n",
       " '3,720,0.5,1306463595',\n",
       " '3,849,5.0,1306463611',\n",
       " '3,914,0.5,1306463567',\n",
       " '3,1093,0.5,1306463627',\n",
       " '3,1124,0.5,1306464216',\n",
       " '3,1263,0.5,1306463569',\n",
       " '3,1272,0.5,1306463624',\n",
       " '3,1275,3.5,1306463323',\n",
       " '3,1302,0.5,1306464189',\n",
       " '3,1371,3.0,1306463561',\n",
       " '3,1587,4.5,1306464003',\n",
       " '3,2018,0.5,1306464175',\n",
       " '3,2080,0.5,1306463572',\n",
       " '3,2090,0.5,1306464261',\n",
       " '3,2105,2.0,1306463559',\n",
       " '3,2288,4.0,1306463631',\n",
       " '3,2424,0.5,1306464293',\n",
       " '3,2851,5.0,1306463925',\n",
       " '3,3024,4.5,1306464054',\n",
       " '3,3210,0.5,1306463638',\n",
       " '3,3703,5.0,1306463603',\n",
       " '3,3949,0.5,1306464245',\n",
       " '3,4518,5.0,1306463770',\n",
       " '3,5048,0.5,1306464284',\n",
       " '3,5181,5.0,1306463718',\n",
       " '3,5746,5.0,1306463708',\n",
       " '3,5764,4.5,1306464021',\n",
       " '3,5919,5.0,1306463825',\n",
       " '3,6238,0.5,1306464204',\n",
       " '3,6835,5.0,1306463670',\n",
       " '3,7899,4.5,1306464036',\n",
       " '3,7991,5.0,1306463684',\n",
       " '3,26409,4.5,1306463993',\n",
       " '3,70946,5.0,1306463815',\n",
       " '3,72378,0.5,1306464164',\n",
       " '4,21,3.0,986935199',\n",
       " '4,32,2.0,945173447',\n",
       " '4,45,3.0,986935047',\n",
       " '4,47,2.0,945173425',\n",
       " '4,52,3.0,964622786',\n",
       " '4,58,3.0,964538444',\n",
       " '4,106,4.0,986848784',\n",
       " '4,125,5.0,964622758',\n",
       " '4,126,1.0,986848920',\n",
       " '4,162,5.0,945078571',\n",
       " '4,171,3.0,945078428',\n",
       " '4,176,5.0,964622565',\n",
       " '4,190,2.0,945079259',\n",
       " '4,215,5.0,945079078',\n",
       " '4,222,1.0,945629040',\n",
       " '4,232,5.0,964622684',\n",
       " '4,235,2.0,945173513',\n",
       " '4,247,3.0,986848894',\n",
       " '4,260,5.0,945079259',\n",
       " '4,265,5.0,964538468',\n",
       " '4,296,1.0,945173350',\n",
       " '4,319,5.0,945079182',\n",
       " '4,342,5.0,964538500',\n",
       " '4,345,4.0,945629063',\n",
       " '4,348,4.0,964622786',\n",
       " '4,351,3.0,986934901',\n",
       " '4,357,3.0,964623306',\n",
       " '4,368,4.0,945078690',\n",
       " '4,417,2.0,945078467',\n",
       " '4,441,1.0,986934915',\n",
       " '4,450,2.0,986848828',\n",
       " '4,457,5.0,945079259',\n",
       " '4,475,5.0,945174290',\n",
       " '4,492,5.0,945079872',\n",
       " '4,509,1.0,945079106',\n",
       " '4,538,5.0,945078636',\n",
       " '4,539,1.0,964538832',\n",
       " '4,553,2.0,945079301',\n",
       " '4,588,4.0,945079670',\n",
       " '4,593,5.0,964539986',\n",
       " '4,595,3.0,986848609',\n",
       " '4,599,2.0,945078587',\n",
       " '4,608,5.0,964540008',\n",
       " '4,648,3.0,945079906',\n",
       " '4,708,4.0,986935230',\n",
       " '4,759,3.0,945078601',\n",
       " '4,800,4.0,945079106',\n",
       " '4,892,4.0,964622714',\n",
       " '4,898,5.0,964623347',\n",
       " '4,899,4.0,945079653',\n",
       " '4,902,4.0,945078446',\n",
       " '4,904,4.0,945079837',\n",
       " '4,908,5.0,945173902',\n",
       " '4,910,5.0,945173989',\n",
       " '4,912,5.0,945173902',\n",
       " '4,914,5.0,945079670',\n",
       " '4,919,5.0,945079521',\n",
       " '4,920,5.0,945173602',\n",
       " '4,930,5.0,964538571',\n",
       " '4,937,3.0,986849085',\n",
       " '4,1025,4.0,945079232',\n",
       " '4,1046,5.0,945173654',\n",
       " '4,1057,3.0,964540578',\n",
       " '4,1060,2.0,986934819',\n",
       " '4,1073,4.0,945079483',\n",
       " '4,1077,5.0,945173692',\n",
       " '4,1079,2.0,945078946',\n",
       " '4,1080,5.0,986934696',\n",
       " '4,1084,5.0,945079259',\n",
       " '4,1086,5.0,964539723',\n",
       " '4,1094,3.0,964538500',\n",
       " '4,1103,5.0,964539723',\n",
       " '4,1136,5.0,986934625',\n",
       " '4,1179,4.0,964539180',\n",
       " '4,1183,1.0,964778513',\n",
       " '4,1188,5.0,964538500',\n",
       " '4,1196,5.0,964538763',\n",
       " '4,1197,5.0,964538763',\n",
       " '4,1198,3.0,964538728',\n",
       " '4,1199,2.0,945078967',\n",
       " '4,1203,5.0,945174025',\n",
       " '4,1211,1.0,964539205',\n",
       " '4,1213,4.0,945079729',\n",
       " '4,1219,4.0,964539961',\n",
       " '4,1225,4.0,964539326',\n",
       " '4,1250,5.0,945174008',\n",
       " '4,1259,4.0,964538728',\n",
       " '4,1265,4.0,964622684',\n",
       " '4,1266,4.0,986849037',\n",
       " '4,1279,2.0,986934832',\n",
       " '4,1282,5.0,945079653',\n",
       " '4,1283,5.0,945078690',\n",
       " '4,1288,4.0,945079653',\n",
       " '4,1291,4.0,964538763',\n",
       " '4,1304,3.0,945078467',\n",
       " '4,1391,1.0,945173766',\n",
       " '4,1449,5.0,945079767',\n",
       " '4,1466,4.0,945173492',\n",
       " '4,1500,4.0,964622830',\n",
       " '4,1517,4.0,945079790',\n",
       " '4,1580,3.0,986935244',\n",
       " '4,1597,1.0,945079906',\n",
       " '4,1617,2.0,945079837',\n",
       " '4,1641,4.0,964622758',\n",
       " '4,1704,1.0,945629015',\n",
       " '4,1719,4.0,945079956',\n",
       " '4,1732,4.0,945079889',\n",
       " '4,1733,5.0,945079143',\n",
       " '4,1734,3.0,964539357',\n",
       " '4,1834,5.0,945174134',\n",
       " '4,1860,2.0,986849001',\n",
       " '4,1883,4.0,964622642',\n",
       " '4,1885,3.0,964622617',\n",
       " '4,1892,2.0,964539431',\n",
       " '4,1895,4.0,945629179',\n",
       " '4,1907,3.0,964540505',\n",
       " '4,1914,4.0,964622714',\n",
       " '4,1916,1.0,986934786',\n",
       " '4,1923,3.0,986934870',\n",
       " '4,1947,5.0,945079653',\n",
       " '4,1966,2.0,964622684',\n",
       " '4,1967,5.0,945078967',\n",
       " '4,1968,4.0,986934786',\n",
       " '4,2019,2.0,945078690',\n",
       " '4,2076,4.0,945079052',\n",
       " '4,2078,5.0,945079521',\n",
       " '4,2109,4.0,986935016',\n",
       " '4,2145,3.0,986935328',\n",
       " '4,2150,5.0,986934738',\n",
       " '4,2174,5.0,964539855',\n",
       " '4,2186,5.0,945174008',\n",
       " '4,2203,4.0,945079729',\n",
       " '4,2204,5.0,964540008',\n",
       " '4,2282,1.0,945629238',\n",
       " '4,2324,1.0,964622590',\n",
       " '4,2336,2.0,964538964',\n",
       " '4,2351,4.0,945078467',\n",
       " '4,2359,4.0,964622590',\n",
       " '4,2390,5.0,945079164',\n",
       " '4,2395,3.0,964623306',\n",
       " '4,2406,4.0,986935302',\n",
       " '4,2467,4.0,945079858',\n",
       " '4,2571,1.0,945173385',\n",
       " '4,2583,5.0,945078863',\n",
       " '4,2599,5.0,964622684',\n",
       " '4,2628,1.0,986848894',\n",
       " '4,2683,4.0,945079790',\n",
       " '4,2692,5.0,945079013',\n",
       " '4,2712,2.0,945078542',\n",
       " '4,2762,4.0,964539986',\n",
       " '4,2763,1.0,964778621',\n",
       " '4,2770,2.0,945173553',\n",
       " '4,2791,5.0,964539628',\n",
       " '4,2843,5.0,945078814',\n",
       " '4,2858,5.0,964539140',\n",
       " '4,2874,4.0,986935016',\n",
       " '4,2921,4.0,945078708',\n",
       " '4,2926,5.0,986934870',\n",
       " '4,2959,2.0,945078528',\n",
       " '4,2973,2.0,945078946',\n",
       " '4,2997,4.0,986848610',\n",
       " '4,3033,4.0,986936200',\n",
       " '4,3044,5.0,945079920',\n",
       " '4,3060,4.0,986934884',\n",
       " '4,3079,3.0,964778197',\n",
       " '4,3083,5.0,964622487',\n",
       " '4,3160,4.0,964539121',\n",
       " '4,3175,1.0,964538930',\n",
       " '4,3176,4.0,964539771',\n",
       " '4,3204,4.0,964539828',\n",
       " '4,3255,4.0,964623306',\n",
       " '4,3317,4.0,986934498',\n",
       " '4,3358,3.0,964622758',\n",
       " '4,3365,5.0,964538329',\n",
       " '4,3386,4.0,964539395',\n",
       " '4,3408,4.0,986849238',\n",
       " '4,3481,2.0,964538243',\n",
       " '4,3489,1.0,986848908',\n",
       " '4,3508,5.0,964538351',\n",
       " '4,3538,2.0,986849212',\n",
       " '4,3591,1.0,986935199',\n",
       " '4,3788,3.0,964539085',\n",
       " '4,3809,3.0,986936207',\n",
       " '4,3851,5.0,986849180',\n",
       " '4,3897,4.0,986934465',\n",
       " '4,3911,3.0,986849149',\n",
       " '4,3967,4.0,986849164',\n",
       " '4,3996,4.0,986849130',\n",
       " '4,4002,3.0,986934819',\n",
       " '4,4014,1.0,986849254',\n",
       " '4,4020,3.0,986848856',\n",
       " '4,4021,4.0,986849180',\n",
       " '4,4027,3.0,986849201',\n",
       " '4,4029,3.0,986849226',\n",
       " '4,4033,4.0,986849149',\n",
       " '4,4034,5.0,986848753',\n",
       " '4,4074,3.0,986848665',\n",
       " '4,4121,4.0,986934901',\n",
       " '4,4144,3.0,986848685',\n",
       " '4,4166,3.0,986848700',\n",
       " '4,4226,2.0,1007569424',\n",
       " '4,4239,5.0,986848685',\n",
       " '4,4246,4.0,1007574542',\n",
       " '4,4252,3.0,1007569465',\n",
       " '4,4260,2.0,1007569424',\n",
       " '4,4273,4.0,1007574470',\n",
       " '4,4308,1.0,1007569465',\n",
       " '4,4347,4.0,1007569586',\n",
       " '4,4381,3.0,1007574509',\n",
       " '4,4641,1.0,1007569586',\n",
       " '4,4741,3.0,1007574532',\n",
       " '4,4765,5.0,1007569445',\n",
       " '4,4881,3.0,1007569445',\n",
       " '4,4896,4.0,1007574532',\n",
       " '4,4902,4.0,1007569465',\n",
       " '4,4967,5.0,1007569424',\n",
       " '5,1,4.0,847434962',\n",
       " '5,21,4.0,847435238',\n",
       " '5,34,4.0,847434881',\n",
       " '5,36,4.0,847435292',\n",
       " '5,39,3.0,847434961',\n",
       " '5,50,4.0,847434881',\n",
       " '5,58,5.0,847435238',\n",
       " '5,110,4.0,847434880',\n",
       " '5,150,3.0,847434748',\n",
       " '5,153,3.0,847434802',\n",
       " '5,232,4.0,847435292',\n",
       " '5,247,5.0,847435337',\n",
       " '5,253,3.0,847435292',\n",
       " '5,261,4.0,847435238',\n",
       " '5,265,3.0,847435129',\n",
       " '5,266,1.0,847435311',\n",
       " '5,290,5.0,847435311',\n",
       " '5,296,5.0,847434748',\n",
       " '5,300,3.0,847435337',\n",
       " '5,316,2.0,847434832',\n",
       " '5,318,3.0,847434880',\n",
       " '5,344,3.0,847434802',\n",
       " '5,349,3.0,847434832',\n",
       " '5,357,2.0,847435238',\n",
       " '5,364,3.0,847434882',\n",
       " '5,367,4.0,847435129',\n",
       " '5,380,2.0,847434748',\n",
       " '5,410,3.0,847435292',\n",
       " '5,457,4.0,847434801',\n",
       " '5,474,4.0,847435337',\n",
       " '5,475,5.0,847435311',\n",
       " '5,515,3.0,847435129',\n",
       " '5,527,5.0,847434960',\n",
       " '5,531,4.0,847435258',\n",
       " '5,534,3.0,847435311',\n",
       " '5,588,4.0,847434801',\n",
       " '5,589,3.0,847435258',\n",
       " '5,590,5.0,847434747',\n",
       " '5,592,3.0,847434747',\n",
       " '5,594,5.0,847435238',\n",
       " '5,595,5.0,847434832',\n",
       " '5,596,5.0,847435292',\n",
       " '5,597,3.0,847434962',\n",
       " '5,608,3.0,847435258',\n",
       " '6,2,4.0,845553522',\n",
       " '6,3,5.0,845554296',\n",
       " '6,4,3.0,845554349',\n",
       " '6,5,5.0,845553938',\n",
       " '6,6,4.0,845553757',\n",
       " '6,7,4.0,845554264',\n",
       " '6,8,3.0,845555281',\n",
       " '6,10,3.0,845553253',\n",
       " '6,11,4.0,845553489',\n",
       " '6,13,3.0,845555588',\n",
       " '6,15,4.0,845554505',\n",
       " '6,16,4.0,845553819',\n",
       " '6,17,4.0,845553559',\n",
       " '6,19,2.0,845553382',\n",
       " '6,21,2.0,845553382',\n",
       " '6,22,5.0,845553875',\n",
       " '6,24,4.0,845554397',\n",
       " '6,25,3.0,845553695',\n",
       " '6,26,4.0,845555362',\n",
       " '6,27,3.0,845555402',\n",
       " '6,31,3.0,845553819',\n",
       " '6,32,4.0,845553426',\n",
       " '6,34,4.0,845553354',\n",
       " '6,36,5.0,845553726',\n",
       " '6,41,4.0,845554962',\n",
       " '6,43,4.0,845555607',\n",
       " '6,45,3.0,845553907',\n",
       " '6,46,4.0,845554551',\n",
       " '6,47,4.0,845553317',\n",
       " '6,50,1.0,845553381',\n",
       " '6,54,4.0,845555402',\n",
       " '6,60,4.0,845554263',\n",
       " '6,61,4.0,845555454',\n",
       " '6,62,4.0,845553660',\n",
       " '6,65,3.0,845555070',\n",
       " '6,66,3.0,845555151',\n",
       " '6,76,4.0,845555317',\n",
       " '6,79,3.0,845554907',\n",
       " '6,86,5.0,845556131',\n",
       " '6,87,3.0,845555300',\n",
       " '6,88,2.0,845555694',\n",
       " '6,89,4.0,845555124',\n",
       " '6,92,4.0,845555454',\n",
       " '6,93,4.0,845554584',\n",
       " '6,95,4.0,845553559',\n",
       " '6,100,3.0,845555151',\n",
       " '6,102,1.0,845555436',\n",
       " '6,104,4.0,845554349',\n",
       " '6,105,3.0,845553757',\n",
       " '6,110,5.0,845553283',\n",
       " '6,112,4.0,845553994',\n",
       " '6,113,3.0,845556257',\n",
       " '6,126,3.0,845555342',\n",
       " '6,135,3.0,845554987',\n",
       " '6,140,3.0,845555024',\n",
       " '6,141,4.0,845553586',\n",
       " '6,145,4.0,845553966',\n",
       " '6,146,4.0,845555607',\n",
       " '6,150,4.0,845553110',\n",
       " '6,151,4.0,845553586',\n",
       " '6,153,3.0,845553146',\n",
       " '6,158,4.0,845553660',\n",
       " '6,159,3.0,845555006',\n",
       " '6,160,5.0,845553457',\n",
       " '6,161,3.0,845553253',\n",
       " '6,163,3.0,845553907',\n",
       " '6,165,3.0,845553146',\n",
       " '6,168,5.0,845553695',\n",
       " '6,170,3.0,845554263',\n",
       " '6,171,3.0,845555402',\n",
       " '6,174,3.0,845554479',\n",
       " '6,177,3.0,845554931',\n",
       " '6,179,1.0,845555362',\n",
       " '6,180,2.0,845555006',\n",
       " '6,181,3.0,845553938',\n",
       " '6,185,3.0,845553283',\n",
       " '6,186,3.0,845553619',\n",
       " '6,189,3.0,845556241',\n",
       " '6,191,2.0,845554931',\n",
       " '6,195,4.0,845554455',\n",
       " '6,196,3.0,845553586',\n",
       " '6,201,3.0,845556290',\n",
       " '6,204,3.0,845553619',\n",
       " '6,205,3.0,845555477',\n",
       " '6,207,4.0,845554024',\n",
       " '6,208,3.0,845553253',\n",
       " '6,209,3.0,845556106',\n",
       " '6,210,4.0,845556310',\n",
       " '6,212,4.0,845556181',\n",
       " '6,216,4.0,845554099',\n",
       " '6,217,3.0,845555382',\n",
       " '6,218,2.0,845553994',\n",
       " '6,219,3.0,845556131',\n",
       " '6,222,4.0,845554024',\n",
       " '6,224,3.0,845553794',\n",
       " '6,225,4.0,845553381',\n",
       " '6,230,5.0,845553966',\n",
       " '6,231,3.0,845553174',\n",
       " '6,234,2.0,845554176',\n",
       " '6,236,4.0,845553559',\n",
       " '6,237,4.0,845553875',\n",
       " '6,239,3.0,845554987',\n",
       " '6,240,3.0,845555571',\n",
       " '6,243,3.0,845555588',\n",
       " '6,248,5.0,845554263',\n",
       " '6,250,4.0,845555588',\n",
       " '6,251,3.0,845556257',\n",
       " '6,252,4.0,845553619',\n",
       " '6,253,3.0,845553283',\n",
       " '6,254,3.0,845555655',\n",
       " '6,256,3.0,845553726',\n",
       " '6,257,5.0,845554176',\n",
       " '6,258,3.0,845555172',\n",
       " '6,261,4.0,845553695',\n",
       " '6,262,5.0,845554551',\n",
       " '6,265,3.0,845553726',\n",
       " '6,266,3.0,845553457',\n",
       " '6,267,3.0,845554376',\n",
       " '6,270,3.0,845555172',\n",
       " '6,271,4.0,845555249',\n",
       " '6,273,3.0,845553875',\n",
       " '6,274,4.0,845555151',\n",
       " '6,276,4.0,845553907',\n",
       " '6,277,5.0,845553844',\n",
       " '6,279,3.0,845555436',\n",
       " '6,281,4.0,845554320',\n",
       " '6,282,3.0,845553522',\n",
       " '6,288,2.0,845553283',\n",
       " '6,289,3.0,845554455',\n",
       " '6,291,3.0,845555571',\n",
       " '6,292,4.0,845553253',\n",
       " '6,293,3.0,845553660',\n",
       " '6,296,2.0,845553110',\n",
       " '6,302,3.0,845555436',\n",
       " '6,303,3.0,845554099',\n",
       " '6,304,4.0,845555546',\n",
       " '6,310,3.0,845556119',\n",
       " '6,312,1.0,845555151',\n",
       " '6,313,3.0,845555546',\n",
       " '6,314,5.0,845554603',\n",
       " '6,315,4.0,845553522',\n",
       " '6,316,5.0,845553174',\n",
       " '6,317,4.0,845553457',\n",
       " '6,318,5.0,845553200',\n",
       " '6,327,1.0,845554062',\n",
       " '6,329,4.0,845553200',\n",
       " '6,330,3.0,845555071',\n",
       " '6,332,3.0,845555046',\n",
       " '6,333,5.0,845553757',\n",
       " '6,336,3.0,845556223',\n",
       " '6,337,5.0,845553586',\n",
       " '6,339,4.0,845553253',\n",
       " '6,340,4.0,845555265',\n",
       " '6,342,3.0,845553938',\n",
       " '6,343,3.0,845555172',\n",
       " '6,344,3.0,845553146',\n",
       " '6,347,3.0,845555300',\n",
       " '6,348,3.0,845553938',\n",
       " '6,349,5.0,845553146',\n",
       " '6,350,5.0,845553489',\n",
       " '6,351,4.0,845554455',\n",
       " '6,352,3.0,845555382',\n",
       " '6,353,4.0,845553726',\n",
       " '6,354,4.0,845555402',\n",
       " '6,355,4.0,845553819',\n",
       " '6,356,5.0,845553200',\n",
       " '6,357,3.0,845553457',\n",
       " '6,358,3.0,845555265',\n",
       " '6,359,3.0,845556412',\n",
       " '6,360,3.0,845555094',\n",
       " '6,361,4.0,845554376',\n",
       " '6,362,3.0,845553994',\n",
       " '6,364,5.0,845553317',\n",
       " '6,366,3.0,845554962',\n",
       " '6,367,4.0,845553317',\n",
       " '6,368,5.0,845553726',\n",
       " '6,370,4.0,845553794',\n",
       " '6,371,3.0,845554141',\n",
       " '6,374,3.0,845554296',\n",
       " '6,377,5.0,845553317',\n",
       " '6,378,3.0,845554987',\n",
       " '6,380,4.0,845553110',\n",
       " '6,381,3.0,845553994',\n",
       " '6,382,3.0,845554397',\n",
       " '6,383,3.0,845554320',\n",
       " '6,405,3.0,845554603',\n",
       " '6,410,3.0,845553354',\n",
       " '6,412,3.0,845554505',\n",
       " '6,415,4.0,845554420',\n",
       " '6,416,3.0,845554962',\n",
       " '6,419,3.0,845554224',\n",
       " '6,426,3.0,845554551',\n",
       " '6,432,5.0,845553489',\n",
       " '6,434,4.0,845553200',\n",
       " '6,435,3.0,845553489',\n",
       " '6,437,3.0,845554505',\n",
       " '6,440,4.0,845553457',\n",
       " '6,445,3.0,845555124',\n",
       " '6,450,4.0,845555024',\n",
       " '6,454,4.0,845553283',\n",
       " '6,455,3.0,845554062',\n",
       " '6,457,5.0,845553174',\n",
       " '6,458,3.0,845555546',\n",
       " '6,460,3.0,845555281',\n",
       " '6,466,2.0,845553844',\n",
       " '6,468,4.0,845553907',\n",
       " '6,469,4.0,845555477',\n",
       " '6,472,3.0,845555632',\n",
       " '6,474,4.0,845553522',\n",
       " '6,475,4.0,845554099',\n",
       " '6,477,4.0,845554141',\n",
       " '6,480,5.0,845553200',\n",
       " '6,485,3.0,845553794',\n",
       " '6,489,3.0,845554505',\n",
       " '6,490,3.0,845554584',\n",
       " '6,491,4.0,845554141',\n",
       " '6,493,3.0,845555172',\n",
       " '6,494,3.0,845554176',\n",
       " '6,497,3.0,845553819',\n",
       " '6,500,5.0,845553354',\n",
       " '6,502,3.0,845554455',\n",
       " '6,505,3.0,845555317',\n",
       " '6,508,4.0,845553586',\n",
       " '6,509,3.0,845553522',\n",
       " '6,510,3.0,845555546',\n",
       " '6,515,4.0,845553794',\n",
       " '6,516,4.0,845554908',\n",
       " '6,520,3.0,845553844',\n",
       " '6,524,3.0,845554479',\n",
       " '6,527,3.0,845553426',\n",
       " '6,531,3.0,845554296',\n",
       " '6,532,3.0,845554224',\n",
       " '6,536,3.0,845556181',\n",
       " '6,537,3.0,845554551',\n",
       " '6,539,3.0,845553426',\n",
       " '6,540,3.0,845554099',\n",
       " '6,542,4.0,845554524',\n",
       " '6,543,3.0,845554099',\n",
       " '6,546,2.0,845554349',\n",
       " '6,548,3.0,845554908',\n",
       " '6,552,3.0,845553875',\n",
       " '6,553,5.0,845553559',\n",
       " '6,569,4.0,845555342',\n",
       " '6,575,3.0,845555070',\n",
       " '6,587,5.0,845553381',\n",
       " '6,588,5.0,845553146',\n",
       " '6,589,3.0,845553317',\n",
       " '6,590,5.0,845553109',\n",
       " '6,592,3.0,845553109',\n",
       " '6,593,4.0,845553174',\n",
       " '6,594,4.0,845553819',\n",
       " '6,595,5.0,845553174',\n",
       " '6,596,3.0,845554141',\n",
       " '6,597,4.0,845553354',\n",
       " '6,606,3.0,845555024',\n",
       " '6,608,3.0,845553844',\n",
       " '6,609,4.0,845555342',\n",
       " '6,616,5.0,845554062',\n",
       " '6,628,3.0,845555300',\n",
       " '6,631,4.0,845555265',\n",
       " '6,637,4.0,845555046',\n",
       " '6,640,1.0,845555362',\n",
       " '6,647,4.0,845555151',\n",
       " '6,662,3.0,845556147',\n",
       " '6,667,3.0,845555342',\n",
       " '6,694,3.0,845555694',\n",
       " '6,697,3.0,845556378',\n",
       " '6,700,4.0,845556147',\n",
       " '6,704,3.0,845555571',\n",
       " '6,708,4.0,845554376',\n",
       " '6,709,5.0,845555249',\n",
       " '6,710,3.0,845556223',\n",
       " '6,711,4.0,845555317',\n",
       " '6,719,2.0,845555694',\n",
       " '6,736,5.0,845553619',\n",
       " '6,747,3.0,845555046',\n",
       " '6,762,1.0,845555006',\n",
       " '6,765,3.0,845555632',\n",
       " '6,775,3.0,845556462',\n",
       " '6,780,5.0,845556915',\n",
       " '6,783,5.0,845554584',\n",
       " '6,795,3.0,845556506',\n",
       " '6,799,3.0,845555656',\n",
       " '6,801,3.0,845556194',\n",
       " '6,802,4.0,845554584',\n",
       " '6,818,3.0,845555514',\n",
       " '6,830,5.0,845556222',\n",
       " '6,835,4.0,845556194',\n",
       " '6,837,3.0,845556241',\n",
       " '6,838,4.0,845555514',\n",
       " '6,839,3.0,845556120',\n",
       " '6,842,3.0,845555675',\n",
       " '6,848,4.0,845556340',\n",
       " '6,852,4.0,845555694',\n",
       " '6,867,3.0,845556412',\n",
       " '6,880,3.0,845556181',\n",
       " '6,881,3.0,845556340',\n",
       " '6,888,3.0,845556448',\n",
       " '6,891,3.0,845556241',\n",
       " '6,979,3.0,845556808',\n",
       " '6,981,3.0,845556567',\n",
       " '6,986,4.0,845556475',\n",
       " '6,991,4.0,845556808',\n",
       " '6,996,4.0,845556323',\n",
       " '6,999,2.0,845556412',\n",
       " '6,1004,4.0,845556506',\n",
       " '6,1006,4.0,845556694',\n",
       " '6,1042,3.0,845556462',\n",
       " '6,1049,5.0,845556694',\n",
       " '6,1061,4.0,845556860',\n",
       " '6,1064,4.0,845556579',\n",
       " '6,1073,3.0,845555571',\n",
       " '6,1082,4.0,845556278',\n",
       " '6,1084,3.0,845555454',\n",
       " '7,1,4.5,1106635946',\n",
       " '7,50,4.5,1106635993',\n",
       " '7,58,3.0,1106635520',\n",
       " '7,150,4.5,1106635925',\n",
       " '7,165,4.0,1106635987',\n",
       " '7,260,5.0,1106635933',\n",
       " '7,356,5.0,1106635915',\n",
       " '7,380,3.0,1106635937',\n",
       " '7,466,5.0,1106635532',\n",
       " '7,480,5.0,1106635917',\n",
       " '7,587,2.0,1106635714',\n",
       " '7,588,3.0,1106635971',\n",
       " '7,589,2.5,1106635940',\n",
       " '7,592,3.0,1106635922',\n",
       " '7,593,5.0,1106635912',\n",
       " '7,595,3.5,1106712636',\n",
       " '7,648,4.0,1106635981',\n",
       " '7,750,4.0,1106636810',\n",
       " '7,780,4.5,1106635943',\n",
       " '7,920,3.0,1106635685',\n",
       " '7,924,4.0,1106712615',\n",
       " '7,1101,4.0,1106635502',\n",
       " '7,1183,1.5,1106712613',\n",
       " '7,1196,4.0,1106635996',\n",
       " '7,1208,4.0,1106635462',\n",
       " '7,1210,4.0,1106635965',\n",
       " '7,1219,5.0,1106635496',\n",
       " '7,1220,4.5,1106635464',\n",
       " '7,1240,5.0,1106712575',\n",
       " '7,1246,1.5,1106635678',\n",
       " '7,1270,5.0,1106635681',\n",
       " '7,1517,3.5,1106635489',\n",
       " '7,1584,5.0,1106635423',\n",
       " '7,1610,4.0,1106635429',\n",
       " '7,1617,3.0,1107127060',\n",
       " '7,1682,3.0,1106635653',\n",
       " '7,1784,0.5,1106635416',\n",
       " '7,1917,4.0,1106635484',\n",
       " '7,1923,1.5,1106635444',\n",
       " '7,1954,4.5,1106635657',\n",
       " '7,2019,5.0,1106713565',\n",
       " '7,2324,2.0,1106712559',\n",
       " '7,2353,3.5,1106635625',\n",
       " '7,2529,5.0,1106635640',\n",
       " '7,2628,1.5,1106712553',\n",
       " '7,2640,3.0,1106635540',\n",
       " '7,2671,4.5,1113542732',\n",
       " '7,2683,2.0,1106635420',\n",
       " '7,2688,2.5,1106713072',\n",
       " '7,2701,1.5,1106713076',\n",
       " '7,2717,3.5,1106713081',\n",
       " '7,2762,4.5,1106635648',\n",
       " '7,2858,4.0,1106712546',\n",
       " '7,3114,4.5,1106635500',\n",
       " '7,3354,1.5,1106713005',\n",
       " '7,3408,4.5,1106712549',\n",
       " '7,3578,1.5,1106636534',\n",
       " '7,3623,1.0,1106712541',\n",
       " '7,3793,3.5,1106635630',\n",
       " '7,3869,5.0,1106635733',\n",
       " '7,3916,4.0,1106636596',\n",
       " '7,3977,2.5,1106635635',\n",
       " '7,3994,3.0,1161738301',\n",
       " '7,4018,4.0,1106712913',\n",
       " '7,4223,2.0,1106635742',\n",
       " '7,4246,2.0,1110855253',\n",
       " '7,4306,4.0,1106635524',\n",
       " '7,4310,0.5,1107127033',\n",
       " '7,4370,4.5,1106712869',\n",
       " '7,4643,1.0,1106635749',\n",
       " '7,4700,1.5,1109746591',\n",
       " '7,4844,1.5,1161738352',\n",
       " '7,4874,3.0,1106635738',\n",
       " '7,4886,4.0,1106636531',\n",
       " '7,4896,4.0,1106636718',\n",
       " '7,4963,4.0,1106636702',\n",
       " '7,4993,4.5,1106636589',\n",
       " '7,4995,4.5,1106636610',\n",
       " '7,5218,3.5,1106712866',\n",
       " '7,5349,3.5,1106636606',\n",
       " '7,5378,0.5,1106635735',\n",
       " '7,5445,4.0,1106636707',\n",
       " '7,5459,3.0,1106712820',\n",
       " '7,5464,3.0,1106636612',\n",
       " '7,5502,1.5,1106635745',\n",
       " '7,5618,5.0,1106713586',\n",
       " '7,5816,4.5,1106635705',\n",
       " '7,5952,4.5,1106636527',\n",
       " '7,5989,4.0,1106636600',\n",
       " '7,5991,4.5,1106712818',\n",
       " '7,6333,4.0,1106636516',\n",
       " '7,6365,4.0,1106712831',\n",
       " '7,6534,0.5,1157949714',\n",
       " '7,6539,4.5,1106636584',\n",
       " '7,6863,4.5,1106712827',\n",
       " '7,6934,2.0,1106712812',\n",
       " '7,7143,4.5,1106636579',\n",
       " '7,7153,4.0,1106636520',\n",
       " '7,7155,3.0,1173051472',\n",
       " '7,7445,4.0,1107473963',\n",
       " '7,8207,4.5,1106713442',\n",
       " '7,8360,3.5,1106636782',\n",
       " '7,8368,2.5,1106636592',\n",
       " '7,8373,2.0,1108602792',\n",
       " '7,8528,4.5,1106636844',\n",
       " '7,8636,4.5,1106636511',\n",
       " '7,8665,3.5,1108602755',\n",
       " '7,8666,1.0,1106779625',\n",
       " '7,8783,1.0,1161738306',\n",
       " '7,8798,4.5,1106636602',\n",
       " '7,8808,1.5,1109746594',\n",
       " '7,8865,1.0,1106713549',\n",
       " '7,8870,3.5,1118025961',\n",
       " '7,8907,1.0,1110757877',\n",
       " '7,8908,4.5,1122333561',\n",
       " '7,8949,4.0,1110757890',\n",
       " '7,8957,4.0,1106636098',\n",
       " '7,8958,3.5,1110173697',\n",
       " '7,8961,4.0,1106636064',\n",
       " '7,8965,1.0,1106636095',\n",
       " '7,8970,2.5,1106636069',\n",
       " '7,8972,2.5,1111552650',\n",
       " '7,8984,4.0,1106636101',\n",
       " '7,27741,3.0,1107474020',\n",
       " '7,30812,3.5,1113353083',\n",
       " '7,30816,2.0,1107127004',\n",
       " ...]"
      ]
     },
     "execution_count": 4,
     "metadata": {},
     "output_type": "execute_result"
    }
   ],
   "source": [
    "# define a function that accepts a csv record \n",
    "# and return a pair of (userId,Rating)\n",
    "# parameter : rating_record (as csv)\n",
    "# rating_record = \"userid,movieid,raiting,timestamp\"\n",
    "\n",
    "\n",
    "\n",
    "def create_pair(rating_record):\n",
    "    record = rating_record.split(',')\n",
    "    return (record[0],float(record[2]))\n",
    "\n",
    "\n",
    "rating_path = 'data/movielens/ratings.csv'\n",
    "rating_rdd = spark.sparkContext.textFile(rating_path)\n",
    "rating = rating_rdd.filter(lambda x: x!='userId,movieId,rating,timestamp')\n",
    "rating.collect()"
   ]
  },
  {
   "cell_type": "code",
   "execution_count": 5,
   "metadata": {},
   "outputs": [
    {
     "data": {
      "text/plain": [
       "100836"
      ]
     },
     "execution_count": 5,
     "metadata": {},
     "output_type": "execute_result"
    }
   ],
   "source": [
    "# load user difined python function\n",
    "ratings = rating.map(create_pair)\n",
    "ratings.count()"
   ]
  },
  {
   "cell_type": "code",
   "execution_count": 13,
   "metadata": {},
   "outputs": [
    {
     "data": {
      "text/plain": [
       "[('1', (1013.0, 232)),\n",
       " ('4', (768.0, 216)),\n",
       " ('8', (168.0, 47)),\n",
       " ('9', (150.0, 46)),\n",
       " ('10', (459.0, 140)),\n",
       " ('12', (140.5, 32)),\n",
       " ('14', (163.0, 48)),\n",
       " ('16', (365.0, 98)),\n",
       " ('17', (442.0, 105)),\n",
       " ('19', (1833.0, 703)),\n",
       " ('20', (869.0, 242)),\n",
       " ('21', (1444.5, 443)),\n",
       " ('22', (306.0, 119)),\n",
       " ('24', (401.5, 110)),\n",
       " ('26', (68.0, 21)),\n",
       " ('29', (335.5, 81)),\n",
       " ('33', (591.0, 156)),\n",
       " ('34', (294.0, 86)),\n",
       " ('40', (388.0, 103)),\n",
       " ('44', (161.0, 48)),\n",
       " ('45', (1546.5, 399)),\n",
       " ('48', (133.0, 33)),\n",
       " ('50', (862.0, 310)),\n",
       " ('53', (100.0, 20)),\n",
       " ('54', (100.0, 33)),\n",
       " ('56', (175.0, 46)),\n",
       " ('57', (1615.0, 476)),\n",
       " ('60', (82.0, 22)),\n",
       " ('63', (984.0, 271)),\n",
       " ('64', (1948.5, 517)),\n",
       " ('66', (1387.0, 345)),\n",
       " ('68', (4074.5, 1260)),\n",
       " ('69', (201.0, 46)),\n",
       " ('70', (268.0, 62)),\n",
       " ('73', (779.5, 210)),\n",
       " ('74', (756.0, 177)),\n",
       " ('77', (116.0, 29)),\n",
       " ('82', (767.5, 227)),\n",
       " ('83', (390.5, 118)),\n",
       " ('84', (1081.0, 293)),\n",
       " ('86', (275.0, 70)),\n",
       " ('88', (226.0, 56)),\n",
       " ('91', (1952.5, 575)),\n",
       " ('93', (416.0, 97)),\n",
       " ('96', (303.0, 78)),\n",
       " ('98', (360.0, 92)),\n",
       " ('100', (584.0, 148)),\n",
       " ('102', (188.0, 56)),\n",
       " ('106', (146.5, 33)),\n",
       " ('107', (133.0, 34)),\n",
       " ('108', (303.0, 76)),\n",
       " ('110', (190.0, 51)),\n",
       " ('111', (2157.5, 646)),\n",
       " ('112', (233.5, 65)),\n",
       " ('113', (547.0, 150)),\n",
       " ('115', (422.0, 112)),\n",
       " ('116', (299.0, 87)),\n",
       " ('119', (898.0, 215)),\n",
       " ('121', (191.0, 58)),\n",
       " ('122', (1327.5, 292)),\n",
       " ('128', (144.0, 33)),\n",
       " ('130', (99.0, 28)),\n",
       " ('132', (1054.5, 347)),\n",
       " ('134', (125.0, 35)),\n",
       " ('138', (77.5, 22)),\n",
       " ('139', (416.0, 194)),\n",
       " ('140', (2127.5, 608)),\n",
       " ('141', (594.5, 168)),\n",
       " ('143', (236.0, 71)),\n",
       " ('144', (464.5, 128)),\n",
       " ('145', (77.0, 23)),\n",
       " ('146', (100.5, 32)),\n",
       " ('147', (67.5, 20)),\n",
       " ('150', (93.0, 26)),\n",
       " ('153', (397.0, 179)),\n",
       " ('154', (149.0, 34)),\n",
       " ('157', (73.0, 21)),\n",
       " ('158', (89.0, 26)),\n",
       " ('160', (1183.5, 437)),\n",
       " ('161', (149.5, 39)),\n",
       " ('162', (161.0, 38)),\n",
       " ('163', (69.0, 23)),\n",
       " ('164', (153.0, 36)),\n",
       " ('167', (595.0, 173)),\n",
       " ('173', (87.0, 25)),\n",
       " ('174', (245.0, 67)),\n",
       " ('175', (85.0, 24)),\n",
       " ('179', (261.0, 69)),\n",
       " ('180', (85.5, 24)),\n",
       " ('184', (496.5, 134)),\n",
       " ('185', (166.0, 47)),\n",
       " ('188', (211.0, 48)),\n",
       " ('189', (82.0, 20)),\n",
       " ('190', (258.0, 66)),\n",
       " ('192', (89.0, 22)),\n",
       " ('198', (803.0, 230)),\n",
       " ('202', (1539.0, 403)),\n",
       " ('204', (328.5, 83)),\n",
       " ('207', (57.5, 20)),\n",
       " ('208', (86.0, 26)),\n",
       " ('209', (148.5, 35)),\n",
       " ('213', (321.5, 84)),\n",
       " ('214', (63.0, 22)),\n",
       " ('215', (383.0, 98)),\n",
       " ('216', (601.0, 164)),\n",
       " ('217', (1693.0, 613)),\n",
       " ('219', (1671.5, 528)),\n",
       " ('221', (1366.0, 331)),\n",
       " ('222', (791.5, 250)),\n",
       " ('223', (245.5, 75)),\n",
       " ('226', (1762.5, 507)),\n",
       " ('227', (395.0, 94)),\n",
       " ('229', (243.0, 65)),\n",
       " ('230', (397.5, 139)),\n",
       " ('231', (92.5, 24)),\n",
       " ('234', (708.0, 202)),\n",
       " ('237', (168.0, 50)),\n",
       " ('240', (501.0, 128)),\n",
       " ('241', (302.5, 76)),\n",
       " ('243', (149.0, 36)),\n",
       " ('244', (351.0, 93)),\n",
       " ('246', (867.5, 204)),\n",
       " ('248', (191.0, 51)),\n",
       " ('249', (3866.5, 1046)),\n",
       " ('252', (159.5, 38)),\n",
       " ('255', (113.0, 44)),\n",
       " ('256', (686.5, 174)),\n",
       " ('257', (64.0, 20)),\n",
       " ('258', (105.0, 25)),\n",
       " ('259', (90.5, 29)),\n",
       " ('263', (780.5, 210)),\n",
       " ('264', (199.5, 56)),\n",
       " ('265', (546.0, 163)),\n",
       " ('270', (128.0, 40)),\n",
       " ('272', (112.5, 31)),\n",
       " ('274', (4355.5, 1346)),\n",
       " ('277', (100.0, 28)),\n",
       " ('278', (77.5, 20)),\n",
       " ('279', (642.0, 176)),\n",
       " ('280', (764.5, 196)),\n",
       " ('283', (116.0, 35)),\n",
       " ('284', (327.0, 88)),\n",
       " ('285', (142.5, 36)),\n",
       " ('286', (401.5, 106)),\n",
       " ('290', (1106.0, 267)),\n",
       " ('296', (112.5, 27)),\n",
       " ('299', (84.0, 23)),\n",
       " ('301', (378.5, 114)),\n",
       " ('303', (207.0, 53)),\n",
       " ('304', (836.0, 216)),\n",
       " ('305', (2657.0, 677)),\n",
       " ('307', (2599.0, 975)),\n",
       " ('315', (111.0, 33)),\n",
       " ('316', (159.0, 53)),\n",
       " ('317', (705.0, 189)),\n",
       " ('319', (155.0, 35)),\n",
       " ('325', (957.0, 270)),\n",
       " ('326', (610.5, 152)),\n",
       " ('328', (822.5, 255)),\n",
       " ('330', (911.5, 247)),\n",
       " ('331', (609.5, 168)),\n",
       " ('333', (66.0, 25)),\n",
       " ('334', (526.5, 154)),\n",
       " ('335', (103.0, 28)),\n",
       " ('336', (242.0, 56)),\n",
       " ('338', (114.5, 39)),\n",
       " ('341', (197.5, 52)),\n",
       " ('342', (194.0, 66)),\n",
       " ('344', (260.0, 69)),\n",
       " ('345', (242.0, 62)),\n",
       " ('346', (604.0, 164)),\n",
       " ('347', (160.0, 45)),\n",
       " ('348', (257.0, 55)),\n",
       " ('351', (517.0, 141)),\n",
       " ('353', (314.0, 90)),\n",
       " ('354', (844.0, 226)),\n",
       " ('356', (1162.0, 289)),\n",
       " ('359', (253.0, 74)),\n",
       " ('361', (308.5, 97)),\n",
       " ('365', (762.0, 277)),\n",
       " ('370', (330.0, 93)),\n",
       " ('372', (792.0, 236)),\n",
       " ('375', (129.0, 33)),\n",
       " ('376', (540.5, 133)),\n",
       " ('378', (192.0, 48)),\n",
       " ('380', (4474.0, 1218)),\n",
       " ('383', (129.0, 34)),\n",
       " ('385', (684.0, 201)),\n",
       " ('386', (187.0, 68)),\n",
       " ('387', (3346.5, 1027)),\n",
       " ('389', (140.0, 34)),\n",
       " ('390', (311.0, 81)),\n",
       " ('408', (577.0, 141)),\n",
       " ('410', (678.0, 167)),\n",
       " ('411', (414.0, 127)),\n",
       " ('412', (397.0, 102)),\n",
       " ('413', (247.0, 56)),\n",
       " ('414', (9151.5, 2698)),\n",
       " ('417', (299.0, 67)),\n",
       " ('419', (589.5, 155)),\n",
       " ('422', (309.0, 93)),\n",
       " ('426', (324.0, 88)),\n",
       " ('429', (231.0, 58)),\n",
       " ('433', (83.0, 22)),\n",
       " ('435', (181.5, 42)),\n",
       " ('440', (128.5, 33)),\n",
       " ('441', (203.5, 45)),\n",
       " ('442', (25.5, 20)),\n",
       " ('445', (297.0, 77)),\n",
       " ('446', (270.0, 84)),\n",
       " ('447', (302.0, 78)),\n",
       " ('449', (125.0, 38)),\n",
       " ('451', (129.0, 34)),\n",
       " ('452', (920.5, 202)),\n",
       " ('453', (1226.0, 311)),\n",
       " ('456', (164.0, 43)),\n",
       " ('457', (173.0, 50)),\n",
       " ('458', (245.0, 59)),\n",
       " ('461', (79.5, 27)),\n",
       " ('464', (518.0, 138)),\n",
       " ('465', (478.0, 115)),\n",
       " ('467', (75.0, 22)),\n",
       " ('468', (112.0, 33)),\n",
       " ('469', (1708.0, 465)),\n",
       " ('470', (281.0, 80)),\n",
       " ('473', (126.5, 37)),\n",
       " ('474', (7165.0, 2108)),\n",
       " ('477', (2242.0, 600)),\n",
       " ('478', (62.0, 22)),\n",
       " ('481', (87.0, 31)),\n",
       " ('483', (2634.5, 728)),\n",
       " ('485', (89.0, 23)),\n",
       " ('486', (225.0, 56)),\n",
       " ('488', (431.0, 111)),\n",
       " ('490', (357.0, 113)),\n",
       " ('492', (468.0, 121)),\n",
       " ('495', (1062.5, 265)),\n",
       " ('496', (99.0, 29)),\n",
       " ('499', (103.5, 27)),\n",
       " ('501', (144.0, 45)),\n",
       " ('502', (120.0, 35)),\n",
       " ('503', (317.5, 95)),\n",
       " ('504', (332.5, 87)),\n",
       " ('505', (129.5, 31)),\n",
       " ('506', (137.0, 42)),\n",
       " ('508', (51.5, 24)),\n",
       " ('509', (1502.0, 467)),\n",
       " ('512', (189.0, 50)),\n",
       " ('513', (124.5, 32)),\n",
       " ('514', (1314.5, 397)),\n",
       " ('515', (126.0, 26)),\n",
       " ('517', (954.5, 400)),\n",
       " ('519', (112.5, 26)),\n",
       " ('520', (722.0, 186)),\n",
       " ('522', (766.0, 200)),\n",
       " ('526', (243.0, 58)),\n",
       " ('530', (102.0, 27)),\n",
       " ('536', (136.0, 40)),\n",
       " ('537', (191.0, 47)),\n",
       " ('538', (165.5, 37)),\n",
       " ('539', (144.5, 38)),\n",
       " ('540', (168.0, 42)),\n",
       " ('541', (295.0, 87)),\n",
       " ('542', (396.5, 113)),\n",
       " ('545', (77.5, 23)),\n",
       " ('548', (106.5, 26)),\n",
       " ('552', (586.5, 188)),\n",
       " ('553', (360.0, 83)),\n",
       " ('557', (104.0, 27)),\n",
       " ('560', (1634.0, 458)),\n",
       " ('562', (945.5, 231)),\n",
       " ('564', (562.0, 157)),\n",
       " ('566', (262.0, 74)),\n",
       " ('570', (652.5, 191)),\n",
       " ('571', (288.0, 112)),\n",
       " ('572', (639.0, 155)),\n",
       " ('579', (290.0, 73)),\n",
       " ('580', (1539.0, 436)),\n",
       " ('581', (175.0, 40)),\n",
       " ('582', (225.5, 56)),\n",
       " ('583', (184.5, 56)),\n",
       " ('584', (341.0, 83)),\n",
       " ('585', (264.5, 61)),\n",
       " ('586', (908.0, 208)),\n",
       " ('588', (182.0, 56)),\n",
       " ('590', (2443.0, 728)),\n",
       " ('595', (84.0, 20)),\n",
       " ('596', (1436.5, 411)),\n",
       " ('598', (80.0, 21)),\n",
       " ('600', (2282.5, 763)),\n",
       " ('602', (458.0, 135)),\n",
       " ('603', (3308.0, 943)),\n",
       " ('608', (2604.5, 831)),\n",
       " ('610', (4802.5, 1302)),\n",
       " ('2', (114.5, 29)),\n",
       " ('3', (95.0, 39)),\n",
       " ('5', (160.0, 44)),\n",
       " ('6', (1097.0, 314)),\n",
       " ('7', (491.0, 152)),\n",
       " ('11', (242.0, 64)),\n",
       " ('13', (113.0, 31)),\n",
       " ('15', (465.5, 135)),\n",
       " ('18', (1873.5, 502)),\n",
       " ('23', (441.5, 121)),\n",
       " ('25', (125.0, 26)),\n",
       " ('27', (479.0, 135)),\n",
       " ('28', (1721.5, 570)),\n",
       " ('30', (161.0, 34)),\n",
       " ('31', (196.0, 50)),\n",
       " ('32', (383.0, 102)),\n",
       " ('35', (94.0, 23)),\n",
       " ('36', (158.0, 60)),\n",
       " ('37', (87.0, 21)),\n",
       " ('38', (251.0, 78)),\n",
       " ('39', (400.0, 100)),\n",
       " ('41', (706.0, 217)),\n",
       " ('42', (1569.0, 440)),\n",
       " ('43', (519.0, 114)),\n",
       " ('46', (168.0, 42)),\n",
       " ('47', (427.5, 140)),\n",
       " ('49', (89.5, 21)),\n",
       " ('51', (1355.5, 359)),\n",
       " ('52', (582.0, 130)),\n",
       " ('55', (71.0, 25)),\n",
       " ('58', (437.0, 112)),\n",
       " ('59', (466.0, 107)),\n",
       " ('61', (158.0, 39)),\n",
       " ('62', (1494.0, 366)),\n",
       " ('65', (137.0, 34)),\n",
       " ('67', (143.0, 36)),\n",
       " ('71', (126.0, 35)),\n",
       " ('72', (187.0, 45)),\n",
       " ('75', (223.0, 69)),\n",
       " ('76', (367.0, 119)),\n",
       " ('78', (193.0, 61)),\n",
       " ('79', (269.0, 64)),\n",
       " ('80', (711.5, 167)),\n",
       " ('81', (72.0, 26)),\n",
       " ('85', (126.0, 34)),\n",
       " ('87', (83.0, 21)),\n",
       " ('89', (1799.0, 518)),\n",
       " ('90', (220.0, 54)),\n",
       " ('92', (94.5, 24)),\n",
       " ('94', (170.0, 56)),\n",
       " ('95', (682.5, 168)),\n",
       " ('97', (151.0, 36)),\n",
       " ('99', (205.0, 53)),\n",
       " ('101', (217.0, 61)),\n",
       " ('103', (1473.0, 377)),\n",
       " ('104', (957.5, 273)),\n",
       " ('105', (2972.0, 722)),\n",
       " ('109', (409.0, 127)),\n",
       " ('114', (106.5, 31)),\n",
       " ('117', (551.0, 165)),\n",
       " ('118', (84.0, 22)),\n",
       " ('120', (75.0, 22)),\n",
       " ('123', (226.0, 56)),\n",
       " ('124', (199.5, 50)),\n",
       " ('125', (1389.5, 360)),\n",
       " ('126', (125.0, 38)),\n",
       " ('127', (68.5, 22)),\n",
       " ('129', (549.0, 140)),\n",
       " ('131', (237.5, 69)),\n",
       " ('133', (105.0, 35)),\n",
       " ('135', (1013.0, 279)),\n",
       " ('136', (368.0, 111)),\n",
       " ('137', (561.0, 141)),\n",
       " ('142', (145.0, 38)),\n",
       " ('148', (179.5, 48)),\n",
       " ('149', (158.0, 58)),\n",
       " ('151', (209.0, 59)),\n",
       " ('152', (253.5, 63)),\n",
       " ('155', (166.0, 46)),\n",
       " ('156', (1469.5, 398)),\n",
       " ('159', (317.5, 97)),\n",
       " ('165', (230.0, 65)),\n",
       " ('166', (774.0, 190)),\n",
       " ('168', (419.5, 94)),\n",
       " ('169', (1143.0, 269)),\n",
       " ('170', (167.0, 50)),\n",
       " ('171', (380.0, 82)),\n",
       " ('172', (99.5, 26)),\n",
       " ('176', (146.0, 36)),\n",
       " ('177', (3051.5, 904)),\n",
       " ('178', (315.0, 77)),\n",
       " ('181', (347.0, 118)),\n",
       " ('182', (3430.5, 977)),\n",
       " ('183', (218.0, 57)),\n",
       " ('186', (922.0, 226)),\n",
       " ('187', (974.0, 258)),\n",
       " ('191', (318.0, 85)),\n",
       " ('193', (133.0, 35)),\n",
       " ('194', (69.5, 20)),\n",
       " ('195', (660.0, 187)),\n",
       " ('196', (126.0, 32)),\n",
       " ('197', (135.0, 35)),\n",
       " ('199', (1232.5, 363)),\n",
       " ('200', (1272.5, 334)),\n",
       " ('201', (451.0, 110)),\n",
       " ('203', (173.0, 45)),\n",
       " ('205', (104.5, 27)),\n",
       " ('206', (101.0, 25)),\n",
       " ('210', (563.0, 138)),\n",
       " ('211', (347.5, 89)),\n",
       " ('212', (890.5, 248)),\n",
       " ('218', (87.5, 26)),\n",
       " ('220', (820.5, 207)),\n",
       " ('224', (230.0, 54)),\n",
       " ('225', (274.0, 75)),\n",
       " ('228', (93.5, 25)),\n",
       " ('232', (2802.0, 862)),\n",
       " ('233', (495.0, 150)),\n",
       " ('235', (237.0, 65)),\n",
       " ('236', (119.0, 30)),\n",
       " ('238', (162.0, 44)),\n",
       " ('239', (1123.5, 279)),\n",
       " ('242', (126.0, 35)),\n",
       " ('245', (57.0, 21)),\n",
       " ('247', (562.0, 150)),\n",
       " ('250', (114.0, 27)),\n",
       " ('251', (112.0, 23)),\n",
       " ('253', (204.5, 47)),\n",
       " ('254', (505.5, 127)),\n",
       " ('260', (571.5, 152)),\n",
       " ('261', (204.5, 53)),\n",
       " ('262', (177.0, 57)),\n",
       " ('266', (630.0, 180)),\n",
       " ('267', (238.0, 57)),\n",
       " ('268', (422.0, 129)),\n",
       " ('269', (105.0, 29)),\n",
       " ('271', (137.0, 43)),\n",
       " ('273', (220.0, 55)),\n",
       " ('275', (1647.0, 403)),\n",
       " ('276', (180.0, 41)),\n",
       " ('281', (67.5, 21)),\n",
       " ('282', (956.0, 237)),\n",
       " ('287', (398.5, 152)),\n",
       " ('288', (3319.0, 1055)),\n",
       " ('289', (87.0, 24)),\n",
       " ('291', (132.0, 31)),\n",
       " ('292', (1472.5, 446)),\n",
       " ('293', (55.0, 21)),\n",
       " ('294', (1141.0, 437)),\n",
       " ('295', (153.5, 41)),\n",
       " ('297', (187.0, 72)),\n",
       " ('298', (2219.5, 939)),\n",
       " ('300', (137.5, 32)),\n",
       " ('302', (128.0, 32)),\n",
       " ('306', (371.5, 112)),\n",
       " ('308', (279.0, 115)),\n",
       " ('309', (395.5, 103)),\n",
       " ('310', (226.0, 64)),\n",
       " ('311', (65.5, 28)),\n",
       " ('312', (827.0, 223)),\n",
       " ('313', (1167.0, 340)),\n",
       " ('314', (390.0, 128)),\n",
       " ('318', (3301.5, 879)),\n",
       " ('320', (70.5, 20)),\n",
       " ('321', (200.0, 56)),\n",
       " ('322', (365.0, 107)),\n",
       " ('323', (311.0, 98)),\n",
       " ('324', (66.0, 21)),\n",
       " ('327', (197.0, 48)),\n",
       " ('329', (66.0, 23)),\n",
       " ('332', (961.0, 267)),\n",
       " ('337', (324.0, 77)),\n",
       " ('339', (1510.0, 371)),\n",
       " ('340', (118.0, 28)),\n",
       " ('343', (239.5, 59)),\n",
       " ('349', (138.0, 37)),\n",
       " ('350', (130.0, 40)),\n",
       " ('352', (1111.5, 294)),\n",
       " ('355', (101.0, 26)),\n",
       " ('357', (1515.5, 383)),\n",
       " ('358', (133.5, 41)),\n",
       " ('360', (84.0, 25)),\n",
       " ('362', (462.5, 109)),\n",
       " ('363', (99.0, 30)),\n",
       " ('364', (88.0, 21)),\n",
       " ('366', (122.5, 31)),\n",
       " ('367', (714.0, 185)),\n",
       " ('368', (1333.0, 469)),\n",
       " ('369', (437.5, 129)),\n",
       " ('371', (186.5, 41)),\n",
       " ('373', (319.0, 100)),\n",
       " ('374', (120.0, 33)),\n",
       " ('377', (512.5, 131)),\n",
       " ('379', (122.0, 36)),\n",
       " ('381', (1679.0, 474)),\n",
       " ('382', (1021.0, 291)),\n",
       " ('384', (216.0, 70)),\n",
       " ('388', (105.0, 29)),\n",
       " ('391', (1434.0, 386)),\n",
       " ('392', (80.0, 25)),\n",
       " ('393', (472.5, 123)),\n",
       " ('394', (68.0, 23)),\n",
       " ('395', (186.0, 61)),\n",
       " ('396', (88.0, 28)),\n",
       " ('397', (91.0, 23)),\n",
       " ('398', (195.5, 46)),\n",
       " ('399', (142.0, 36)),\n",
       " ('400', (194.0, 43)),\n",
       " ('401', (254.0, 72)),\n",
       " ('402', (185.0, 48)),\n",
       " ('403', (128.0, 34)),\n",
       " ('404', (204.0, 60)),\n",
       " ('405', (481.0, 120)),\n",
       " ('406', (65.0, 20)),\n",
       " ('407', (90.5, 22)),\n",
       " ('409', (484.0, 126)),\n",
       " ('415', (384.0, 94)),\n",
       " ('416', (156.5, 51)),\n",
       " ('418', (338.5, 93)),\n",
       " ('420', (539.0, 141)),\n",
       " ('421', (152.0, 37)),\n",
       " ('423', (85.5, 23)),\n",
       " ('424', (507.0, 138)),\n",
       " ('425', (1081.0, 306)),\n",
       " ('427', (260.5, 84)),\n",
       " ('428', (792.0, 300)),\n",
       " ('430', (217.0, 58)),\n",
       " ('431', (54.5, 20)),\n",
       " ('432', (948.0, 260)),\n",
       " ('434', (881.0, 233)),\n",
       " ('436', (337.0, 106)),\n",
       " ('437', (464.0, 122)),\n",
       " ('438', (2130.5, 635)),\n",
       " ('439', (86.5, 21)),\n",
       " ('443', (152.5, 37)),\n",
       " ('444', (160.0, 42)),\n",
       " ('448', (5307.5, 1864)),\n",
       " ('450', (204.0, 51)),\n",
       " ('454', (169.5, 45)),\n",
       " ('455', (197.0, 57)),\n",
       " ('459', (113.0, 26)),\n",
       " ('460', (344.5, 82)),\n",
       " ('462', (1550.0, 455)),\n",
       " ('463', (125.0, 33)),\n",
       " ('466', (444.0, 113)),\n",
       " ('471', (108.5, 28)),\n",
       " ('472', (119.5, 29)),\n",
       " ('475', (683.5, 155)),\n",
       " ('476', (254.0, 69)),\n",
       " ('479', (601.0, 181)),\n",
       " ('480', (2738.0, 836)),\n",
       " ('482', (436.0, 128)),\n",
       " ('484', (1049.0, 275)),\n",
       " ('487', (176.0, 56)),\n",
       " ('489', (1955.5, 648)),\n",
       " ('491', (266.0, 64)),\n",
       " ('493', (225.0, 61)),\n",
       " ('494', (93.0, 22)),\n",
       " ('497', (182.0, 51)),\n",
       " ('498', (142.0, 35)),\n",
       " ('500', (279.0, 86)),\n",
       " ('507', (71.0, 21)),\n",
       " ('510', (313.5, 108)),\n",
       " ('511', (214.5, 52)),\n",
       " ('516', (96.0, 26)),\n",
       " ('518', (85.0, 24)),\n",
       " ('521', (144.0, 40)),\n",
       " ('523', (352.0, 75)),\n",
       " ('524', (453.0, 131)),\n",
       " ('525', (1771.0, 500)),\n",
       " ('527', (688.0, 167)),\n",
       " ('528', (253.5, 73)),\n",
       " ('529', (80.0, 25)),\n",
       " ('531', (83.0, 22)),\n",
       " ('532', (214.0, 50)),\n",
       " ('533', (166.5, 38)),\n",
       " ('534', (1978.5, 520)),\n",
       " ('535', (80.0, 30)),\n",
       " ('543', (338.5, 76)),\n",
       " ('544', (96.0, 22)),\n",
       " ('546', (220.0, 64)),\n",
       " ('547', (87.0, 21)),\n",
       " ('549', (77.0, 21)),\n",
       " ('550', (115.0, 28)),\n",
       " ('551', (457.0, 123)),\n",
       " ('554', (356.0, 89)),\n",
       " ('555', (1997.0, 578)),\n",
       " ('556', (130.5, 32)),\n",
       " ('558', (220.0, 56)),\n",
       " ('559', (460.0, 140)),\n",
       " ('561', (1703.0, 505)),\n",
       " ('563', (703.0, 213)),\n",
       " ('565', (106.0, 29)),\n",
       " ('567', (864.5, 385)),\n",
       " ('568', (95.0, 23)),\n",
       " ('569', (80.0, 20)),\n",
       " ('573', (1259.5, 299)),\n",
       " ('574', (91.0, 23)),\n",
       " ('575', (114.0, 36)),\n",
       " ('576', (62.0, 20)),\n",
       " ('577', (574.0, 161)),\n",
       " ('578', (107.0, 27)),\n",
       " ('587', (656.0, 165)),\n",
       " ('589', (161.0, 40)),\n",
       " ('591', (177.0, 54)),\n",
       " ('592', (337.0, 94)),\n",
       " ('593', (336.5, 103)),\n",
       " ('594', (910.5, 232)),\n",
       " ('597', (1762.0, 443)),\n",
       " ('599', (6547.0, 2478)),\n",
       " ('601', (447.0, 101)),\n",
       " ('604', (348.0, 100)),\n",
       " ('605', (709.5, 221)),\n",
       " ('606', (4078.0, 1115)),\n",
       " ('607', (708.0, 187)),\n",
       " ('609', (121.0, 37))]"
      ]
     },
     "execution_count": 13,
     "metadata": {},
     "output_type": "execute_result"
    }
   ],
   "source": [
    "# aggregateByKey \n",
    "# c = (c[0],c[1]) = (sum of rating,count of rating)\n",
    "# zero value -> c= (0.0,1)\n",
    "# seq func : (C,V) -> C\n",
    "# comb_func: (C,C) -> C \n",
    "sum_count = ratings.aggregateByKey((0.0,0),(lambda c,v:(c[0]+v,c[1]+1)),\n",
    "                (lambda x,y: (x[0]+y[0],x[1]+y[1])))\n",
    "\n",
    "sum_count.collect()"
   ]
  },
  {
   "cell_type": "code",
   "execution_count": 19,
   "metadata": {},
   "outputs": [],
   "source": [
    "average_rating = sum_count.mapValues(lambda x: round((x[0]/x[1]),2))"
   ]
  },
  {
   "cell_type": "code",
   "execution_count": 20,
   "metadata": {},
   "outputs": [
    {
     "data": {
      "text/plain": [
       "[('1', 4.37),\n",
       " ('4', 3.56),\n",
       " ('8', 3.57),\n",
       " ('9', 3.26),\n",
       " ('10', 3.28),\n",
       " ('12', 4.39),\n",
       " ('14', 3.4),\n",
       " ('16', 3.72),\n",
       " ('17', 4.21),\n",
       " ('19', 2.61),\n",
       " ('20', 3.59),\n",
       " ('21', 3.26),\n",
       " ('22', 2.57),\n",
       " ('24', 3.65),\n",
       " ('26', 3.24),\n",
       " ('29', 4.14),\n",
       " ('33', 3.79),\n",
       " ('34', 3.42),\n",
       " ('40', 3.77),\n",
       " ('44', 3.35),\n",
       " ('45', 3.88),\n",
       " ('48', 4.03),\n",
       " ('50', 2.78),\n",
       " ('53', 5.0),\n",
       " ('54', 3.03),\n",
       " ('56', 3.8),\n",
       " ('57', 3.39),\n",
       " ('60', 3.73),\n",
       " ('63', 3.63),\n",
       " ('64', 3.77),\n",
       " ('66', 4.02),\n",
       " ('68', 3.23),\n",
       " ('69', 4.37),\n",
       " ('70', 4.32),\n",
       " ('73', 3.71),\n",
       " ('74', 4.27),\n",
       " ('77', 4.0),\n",
       " ('82', 3.38),\n",
       " ('83', 3.31),\n",
       " ('84', 3.69),\n",
       " ('86', 3.93),\n",
       " ('88', 4.04),\n",
       " ('91', 3.4),\n",
       " ('93', 4.29),\n",
       " ('96', 3.88),\n",
       " ('98', 3.91),\n",
       " ('100', 3.95),\n",
       " ('102', 3.36),\n",
       " ('106', 4.44),\n",
       " ('107', 3.91),\n",
       " ('108', 3.99),\n",
       " ('110', 3.73),\n",
       " ('111', 3.34),\n",
       " ('112', 3.59),\n",
       " ('113', 3.65),\n",
       " ('115', 3.77),\n",
       " ('116', 3.44),\n",
       " ('119', 4.18),\n",
       " ('121', 3.29),\n",
       " ('122', 4.55),\n",
       " ('128', 4.36),\n",
       " ('130', 3.54),\n",
       " ('132', 3.04),\n",
       " ('134', 3.57),\n",
       " ('138', 3.52),\n",
       " ('139', 2.14),\n",
       " ('140', 3.5),\n",
       " ('141', 3.54),\n",
       " ('143', 3.32),\n",
       " ('144', 3.63),\n",
       " ('145', 3.35),\n",
       " ('146', 3.14),\n",
       " ('147', 3.38),\n",
       " ('150', 3.58),\n",
       " ('153', 2.22),\n",
       " ('154', 4.38),\n",
       " ('157', 3.48),\n",
       " ('158', 3.42),\n",
       " ('160', 2.71),\n",
       " ('161', 3.83),\n",
       " ('162', 4.24),\n",
       " ('163', 3.0),\n",
       " ('164', 4.25),\n",
       " ('167', 3.44),\n",
       " ('173', 3.48),\n",
       " ('174', 3.66),\n",
       " ('175', 3.54),\n",
       " ('179', 3.78),\n",
       " ('180', 3.56),\n",
       " ('184', 3.71),\n",
       " ('185', 3.53),\n",
       " ('188', 4.4),\n",
       " ('189', 4.1),\n",
       " ('190', 3.91),\n",
       " ('192', 4.05),\n",
       " ('198', 3.49),\n",
       " ('202', 3.82),\n",
       " ('204', 3.96),\n",
       " ('207', 2.88),\n",
       " ('208', 3.31),\n",
       " ('209', 4.24),\n",
       " ('213', 3.83),\n",
       " ('214', 2.86),\n",
       " ('215', 3.91),\n",
       " ('216', 3.66),\n",
       " ('217', 2.76),\n",
       " ('219', 3.17),\n",
       " ('221', 4.13),\n",
       " ('222', 3.17),\n",
       " ('223', 3.27),\n",
       " ('226', 3.48),\n",
       " ('227', 4.2),\n",
       " ('229', 3.74),\n",
       " ('230', 2.86),\n",
       " ('231', 3.85),\n",
       " ('234', 3.5),\n",
       " ('237', 3.36),\n",
       " ('240', 3.91),\n",
       " ('241', 3.98),\n",
       " ('243', 4.14),\n",
       " ('244', 3.77),\n",
       " ('246', 4.25),\n",
       " ('248', 3.75),\n",
       " ('249', 3.7),\n",
       " ('252', 4.2),\n",
       " ('255', 2.57),\n",
       " ('256', 3.95),\n",
       " ('257', 3.2),\n",
       " ('258', 4.2),\n",
       " ('259', 3.12),\n",
       " ('263', 3.72),\n",
       " ('264', 3.56),\n",
       " ('265', 3.35),\n",
       " ('270', 3.2),\n",
       " ('272', 3.63),\n",
       " ('274', 3.24),\n",
       " ('277', 3.57),\n",
       " ('278', 3.88),\n",
       " ('279', 3.65),\n",
       " ('280', 3.9),\n",
       " ('283', 3.31),\n",
       " ('284', 3.72),\n",
       " ('285', 3.96),\n",
       " ('286', 3.79),\n",
       " ('290', 4.14),\n",
       " ('296', 4.17),\n",
       " ('299', 3.65),\n",
       " ('301', 3.32),\n",
       " ('303', 3.91),\n",
       " ('304', 3.87),\n",
       " ('305', 3.92),\n",
       " ('307', 2.67),\n",
       " ('315', 3.36),\n",
       " ('316', 3.0),\n",
       " ('317', 3.73),\n",
       " ('319', 4.43),\n",
       " ('325', 3.54),\n",
       " ('326', 4.02),\n",
       " ('328', 3.23),\n",
       " ('330', 3.69),\n",
       " ('331', 3.63),\n",
       " ('333', 2.64),\n",
       " ('334', 3.42),\n",
       " ('335', 3.68),\n",
       " ('336', 4.32),\n",
       " ('338', 2.94),\n",
       " ('341', 3.8),\n",
       " ('342', 2.94),\n",
       " ('344', 3.77),\n",
       " ('345', 3.9),\n",
       " ('346', 3.68),\n",
       " ('347', 3.56),\n",
       " ('348', 4.67),\n",
       " ('351', 3.67),\n",
       " ('353', 3.49),\n",
       " ('354', 3.73),\n",
       " ('356', 4.02),\n",
       " ('359', 3.42),\n",
       " ('361', 3.18),\n",
       " ('365', 2.75),\n",
       " ('370', 3.55),\n",
       " ('372', 3.36),\n",
       " ('375', 3.91),\n",
       " ('376', 4.06),\n",
       " ('378', 4.0),\n",
       " ('380', 3.67),\n",
       " ('383', 3.79),\n",
       " ('385', 3.4),\n",
       " ('386', 2.75),\n",
       " ('387', 3.26),\n",
       " ('389', 4.12),\n",
       " ('390', 3.84),\n",
       " ('408', 4.09),\n",
       " ('410', 4.06),\n",
       " ('411', 3.26),\n",
       " ('412', 3.89),\n",
       " ('413', 4.41),\n",
       " ('414', 3.39),\n",
       " ('417', 4.46),\n",
       " ('419', 3.8),\n",
       " ('422', 3.32),\n",
       " ('426', 3.68),\n",
       " ('429', 3.98),\n",
       " ('433', 3.77),\n",
       " ('435', 4.32),\n",
       " ('440', 3.89),\n",
       " ('441', 4.52),\n",
       " ('442', 1.27),\n",
       " ('445', 3.86),\n",
       " ('446', 3.21),\n",
       " ('447', 3.87),\n",
       " ('449', 3.29),\n",
       " ('451', 3.79),\n",
       " ('452', 4.56),\n",
       " ('453', 3.94),\n",
       " ('456', 3.81),\n",
       " ('457', 3.46),\n",
       " ('458', 4.15),\n",
       " ('461', 2.94),\n",
       " ('464', 3.75),\n",
       " ('465', 4.16),\n",
       " ('467', 3.41),\n",
       " ('468', 3.39),\n",
       " ('469', 3.67),\n",
       " ('470', 3.51),\n",
       " ('473', 3.42),\n",
       " ('474', 3.4),\n",
       " ('477', 3.74),\n",
       " ('478', 2.82),\n",
       " ('481', 2.81),\n",
       " ('483', 3.62),\n",
       " ('485', 3.87),\n",
       " ('486', 4.02),\n",
       " ('488', 3.88),\n",
       " ('490', 3.16),\n",
       " ('492', 3.87),\n",
       " ('495', 4.01),\n",
       " ('496', 3.41),\n",
       " ('499', 3.83),\n",
       " ('501', 3.2),\n",
       " ('502', 3.43),\n",
       " ('503', 3.34),\n",
       " ('504', 3.82),\n",
       " ('505', 4.18),\n",
       " ('506', 3.26),\n",
       " ('508', 2.15),\n",
       " ('509', 3.22),\n",
       " ('512', 3.78),\n",
       " ('513', 3.89),\n",
       " ('514', 3.31),\n",
       " ('515', 4.85),\n",
       " ('517', 2.39),\n",
       " ('519', 4.33),\n",
       " ('520', 3.88),\n",
       " ('522', 3.83),\n",
       " ('526', 4.19),\n",
       " ('530', 3.78),\n",
       " ('536', 3.4),\n",
       " ('537', 4.06),\n",
       " ('538', 4.47),\n",
       " ('539', 3.8),\n",
       " ('540', 4.0),\n",
       " ('541', 3.39),\n",
       " ('542', 3.51),\n",
       " ('545', 3.37),\n",
       " ('548', 4.1),\n",
       " ('552', 3.12),\n",
       " ('553', 4.34),\n",
       " ('557', 3.85),\n",
       " ('560', 3.57),\n",
       " ('562', 4.09),\n",
       " ('564', 3.58),\n",
       " ('566', 3.54),\n",
       " ('570', 3.42),\n",
       " ('571', 2.57),\n",
       " ('572', 4.12),\n",
       " ('579', 3.97),\n",
       " ('580', 3.53),\n",
       " ('581', 4.38),\n",
       " ('582', 4.03),\n",
       " ('583', 3.29),\n",
       " ('584', 4.11),\n",
       " ('585', 4.34),\n",
       " ('586', 4.37),\n",
       " ('588', 3.25),\n",
       " ('590', 3.36),\n",
       " ('595', 4.2),\n",
       " ('596', 3.5),\n",
       " ('598', 3.81),\n",
       " ('600', 2.99),\n",
       " ('602', 3.39),\n",
       " ('603', 3.51),\n",
       " ('608', 3.13),\n",
       " ('610', 3.69),\n",
       " ('2', 3.95),\n",
       " ('3', 2.44),\n",
       " ('5', 3.64),\n",
       " ('6', 3.49),\n",
       " ('7', 3.23),\n",
       " ('11', 3.78),\n",
       " ('13', 3.65),\n",
       " ('15', 3.45),\n",
       " ('18', 3.73),\n",
       " ('23', 3.65),\n",
       " ('25', 4.81),\n",
       " ('27', 3.55),\n",
       " ('28', 3.02),\n",
       " ('30', 4.74),\n",
       " ('31', 3.92),\n",
       " ('32', 3.75),\n",
       " ('35', 4.09),\n",
       " ('36', 2.63),\n",
       " ('37', 4.14),\n",
       " ('38', 3.22),\n",
       " ('39', 4.0),\n",
       " ('41', 3.25),\n",
       " ('42', 3.57),\n",
       " ('43', 4.55),\n",
       " ('46', 4.0),\n",
       " ('47', 3.05),\n",
       " ('49', 4.26),\n",
       " ('51', 3.78),\n",
       " ('52', 4.48),\n",
       " ('55', 2.84),\n",
       " ('58', 3.9),\n",
       " ('59', 4.36),\n",
       " ('61', 4.05),\n",
       " ('62', 4.08),\n",
       " ('65', 4.03),\n",
       " ('67', 3.97),\n",
       " ('71', 3.6),\n",
       " ('72', 4.16),\n",
       " ('75', 3.23),\n",
       " ('76', 3.08),\n",
       " ('78', 3.16),\n",
       " ('79', 4.2),\n",
       " ('80', 4.26),\n",
       " ('81', 2.77),\n",
       " ('85', 3.71),\n",
       " ('87', 3.95),\n",
       " ('89', 3.47),\n",
       " ('90', 4.07),\n",
       " ('92', 3.94),\n",
       " ('94', 3.04),\n",
       " ('95', 4.06),\n",
       " ('97', 4.19),\n",
       " ('99', 3.87),\n",
       " ('101', 3.56),\n",
       " ('103', 3.91),\n",
       " ('104', 3.51),\n",
       " ('105', 4.12),\n",
       " ('109', 3.22),\n",
       " ('114', 3.44),\n",
       " ('117', 3.34),\n",
       " ('118', 3.82),\n",
       " ('120', 3.41),\n",
       " ('123', 4.04),\n",
       " ('124', 3.99),\n",
       " ('125', 3.86),\n",
       " ('126', 3.29),\n",
       " ('127', 3.11),\n",
       " ('129', 3.92),\n",
       " ('131', 3.44),\n",
       " ('133', 3.0),\n",
       " ('135', 3.63),\n",
       " ('136', 3.32),\n",
       " ('137', 3.98),\n",
       " ('142', 3.82),\n",
       " ('148', 3.74),\n",
       " ('149', 2.72),\n",
       " ('151', 3.54),\n",
       " ('152', 4.02),\n",
       " ('155', 3.61),\n",
       " ('156', 3.69),\n",
       " ('159', 3.27),\n",
       " ('165', 3.54),\n",
       " ('166', 4.07),\n",
       " ('168', 4.46),\n",
       " ('169', 4.25),\n",
       " ('170', 3.34),\n",
       " ('171', 4.63),\n",
       " ('172', 3.83),\n",
       " ('176', 4.06),\n",
       " ('177', 3.38),\n",
       " ('178', 4.09),\n",
       " ('181', 2.94),\n",
       " ('182', 3.51),\n",
       " ('183', 3.82),\n",
       " ('186', 4.08),\n",
       " ('187', 3.78),\n",
       " ('191', 3.74),\n",
       " ('193', 3.8),\n",
       " ('194', 3.48),\n",
       " ('195', 3.53),\n",
       " ('196', 3.94),\n",
       " ('197', 3.86),\n",
       " ('199', 3.4),\n",
       " ('200', 3.81),\n",
       " ('201', 4.1),\n",
       " ('203', 3.84),\n",
       " ('205', 3.87),\n",
       " ('206', 4.04),\n",
       " ('210', 4.08),\n",
       " ('211', 3.9),\n",
       " ('212', 3.59),\n",
       " ('218', 3.37),\n",
       " ('220', 3.96),\n",
       " ('224', 4.26),\n",
       " ('225', 3.65),\n",
       " ('228', 3.74),\n",
       " ('232', 3.25),\n",
       " ('233', 3.3),\n",
       " ('235', 3.65),\n",
       " ('236', 3.97),\n",
       " ('238', 3.68),\n",
       " ('239', 4.03),\n",
       " ('242', 3.6),\n",
       " ('245', 2.71),\n",
       " ('247', 3.75),\n",
       " ('250', 4.22),\n",
       " ('251', 4.87),\n",
       " ('253', 4.35),\n",
       " ('254', 3.98),\n",
       " ('260', 3.76),\n",
       " ('261', 3.86),\n",
       " ('262', 3.11),\n",
       " ('266', 3.5),\n",
       " ('267', 4.18),\n",
       " ('268', 3.27),\n",
       " ('269', 3.62),\n",
       " ('271', 3.19),\n",
       " ('273', 4.0),\n",
       " ('275', 4.09),\n",
       " ('276', 4.39),\n",
       " ('281', 3.21),\n",
       " ('282', 4.03),\n",
       " ('287', 2.62),\n",
       " ('288', 3.15),\n",
       " ('289', 3.62),\n",
       " ('291', 4.26),\n",
       " ('292', 3.3),\n",
       " ('293', 2.62),\n",
       " ('294', 2.61),\n",
       " ('295', 3.74),\n",
       " ('297', 2.6),\n",
       " ('298', 2.36),\n",
       " ('300', 4.3),\n",
       " ('302', 4.0),\n",
       " ('306', 3.32),\n",
       " ('308', 2.43),\n",
       " ('309', 3.84),\n",
       " ('310', 3.53),\n",
       " ('311', 2.34),\n",
       " ('312', 3.71),\n",
       " ('313', 3.43),\n",
       " ('314', 3.05),\n",
       " ('318', 3.76),\n",
       " ('320', 3.52),\n",
       " ('321', 3.57),\n",
       " ('322', 3.41),\n",
       " ('323', 3.17),\n",
       " ('324', 3.14),\n",
       " ('327', 4.1),\n",
       " ('329', 2.87),\n",
       " ('332', 3.6),\n",
       " ('337', 4.21),\n",
       " ('339', 4.07),\n",
       " ('340', 4.21),\n",
       " ('343', 4.06),\n",
       " ('349', 3.73),\n",
       " ('350', 3.25),\n",
       " ('352', 3.78),\n",
       " ('355', 3.88),\n",
       " ('357', 3.96),\n",
       " ('358', 3.26),\n",
       " ('360', 3.36),\n",
       " ('362', 4.24),\n",
       " ('363', 3.3),\n",
       " ('364', 4.19),\n",
       " ('366', 3.95),\n",
       " ('367', 3.86),\n",
       " ('368', 2.84),\n",
       " ('369', 3.39),\n",
       " ('371', 4.55),\n",
       " ('373', 3.19),\n",
       " ('374', 3.64),\n",
       " ('377', 3.91),\n",
       " ('379', 3.39),\n",
       " ('381', 3.54),\n",
       " ('382', 3.51),\n",
       " ('384', 3.09),\n",
       " ('388', 3.62),\n",
       " ('391', 3.72),\n",
       " ('392', 3.2),\n",
       " ('393', 3.84),\n",
       " ('394', 2.96),\n",
       " ('395', 3.05),\n",
       " ('396', 3.14),\n",
       " ('397', 3.96),\n",
       " ('398', 4.25),\n",
       " ('399', 3.94),\n",
       " ('400', 4.51),\n",
       " ('401', 3.53),\n",
       " ('402', 3.85),\n",
       " ('403', 3.76),\n",
       " ('404', 3.4),\n",
       " ('405', 4.01),\n",
       " ('406', 3.25),\n",
       " ('407', 4.11),\n",
       " ('409', 3.84),\n",
       " ('415', 4.09),\n",
       " ('416', 3.07),\n",
       " ('418', 3.64),\n",
       " ('420', 3.82),\n",
       " ('421', 4.11),\n",
       " ('423', 3.72),\n",
       " ('424', 3.67),\n",
       " ('425', 3.53),\n",
       " ('427', 3.1),\n",
       " ('428', 2.64),\n",
       " ('430', 3.74),\n",
       " ('431', 2.73),\n",
       " ('432', 3.65),\n",
       " ('434', 3.78),\n",
       " ('436', 3.18),\n",
       " ('437', 3.8),\n",
       " ('438', 3.36),\n",
       " ('439', 4.12),\n",
       " ('443', 4.12),\n",
       " ('444', 3.81),\n",
       " ('448', 2.85),\n",
       " ('450', 4.0),\n",
       " ('454', 3.77),\n",
       " ('455', 3.46),\n",
       " ('459', 4.35),\n",
       " ('460', 4.2),\n",
       " ('462', 3.41),\n",
       " ('463', 3.79),\n",
       " ('466', 3.93),\n",
       " ('471', 3.88),\n",
       " ('472', 4.12),\n",
       " ('475', 4.41),\n",
       " ('476', 3.68),\n",
       " ('479', 3.32),\n",
       " ('480', 3.28),\n",
       " ('482', 3.41),\n",
       " ('484', 3.81),\n",
       " ('487', 3.14),\n",
       " ('489', 3.02),\n",
       " ('491', 4.16),\n",
       " ('493', 3.69),\n",
       " ('494', 4.23),\n",
       " ('497', 3.57),\n",
       " ('498', 4.06),\n",
       " ('500', 3.24),\n",
       " ('507', 3.38),\n",
       " ('510', 2.9),\n",
       " ('511', 4.12),\n",
       " ('516', 3.69),\n",
       " ('518', 3.54),\n",
       " ('521', 3.6),\n",
       " ('523', 4.69),\n",
       " ('524', 3.46),\n",
       " ('525', 3.54),\n",
       " ('527', 4.12),\n",
       " ('528', 3.47),\n",
       " ('529', 3.2),\n",
       " ('531', 3.77),\n",
       " ('532', 4.28),\n",
       " ('533', 4.38),\n",
       " ('534', 3.8),\n",
       " ('535', 2.67),\n",
       " ('543', 4.45),\n",
       " ('544', 4.36),\n",
       " ('546', 3.44),\n",
       " ('547', 4.14),\n",
       " ('549', 3.67),\n",
       " ('550', 4.11),\n",
       " ('551', 3.72),\n",
       " ('554', 4.0),\n",
       " ('555', 3.46),\n",
       " ('556', 4.08),\n",
       " ('558', 3.93),\n",
       " ('559', 3.29),\n",
       " ('561', 3.37),\n",
       " ('563', 3.3),\n",
       " ('565', 3.66),\n",
       " ('567', 2.25),\n",
       " ('568', 4.13),\n",
       " ('569', 4.0),\n",
       " ('573', 4.21),\n",
       " ('574', 3.96),\n",
       " ('575', 3.17),\n",
       " ('576', 3.1),\n",
       " ('577', 3.57),\n",
       " ('578', 3.96),\n",
       " ('587', 3.98),\n",
       " ('589', 4.03),\n",
       " ('591', 3.28),\n",
       " ('592', 3.59),\n",
       " ('593', 3.27),\n",
       " ('594', 3.92),\n",
       " ('597', 3.98),\n",
       " ('599', 2.64),\n",
       " ('601', 4.43),\n",
       " ('604', 3.48),\n",
       " ('605', 3.21),\n",
       " ('606', 3.66),\n",
       " ('607', 3.79),\n",
       " ('609', 3.27)]"
      ]
     },
     "execution_count": 20,
     "metadata": {},
     "output_type": "execute_result"
    }
   ],
   "source": [
    "average_rating.collect()"
   ]
  },
  {
   "cell_type": "code",
   "execution_count": 38,
   "metadata": {},
   "outputs": [
    {
     "data": {
      "text/plain": [
       "610"
      ]
     },
     "execution_count": 38,
     "metadata": {},
     "output_type": "execute_result"
    }
   ],
   "source": [
    "# groupby key\n",
    "rating_grouped = ratings.groupByKey()\n",
    "rating_grouped.count()"
   ]
  },
  {
   "cell_type": "code",
   "execution_count": 40,
   "metadata": {},
   "outputs": [
    {
     "data": {
      "text/plain": [
       "[('1', 4.366379310344827), ('4', 3.5555555555555554)]"
      ]
     },
     "execution_count": 40,
     "metadata": {},
     "output_type": "execute_result"
    }
   ],
   "source": [
    "# average ratign\n",
    "average_rating = rating_grouped.mapValues(lambda x: sum(x)/len(x))\n",
    "average_rating.take(2)"
   ]
  },
  {
   "cell_type": "code",
   "execution_count": 42,
   "metadata": {},
   "outputs": [
    {
     "data": {
      "text/plain": [
       "[('1', (4.0, 1)), ('1', (4.0, 1))]"
      ]
     },
     "execution_count": 42,
     "metadata": {},
     "output_type": "execute_result"
    }
   ],
   "source": [
    "# for reduce by key datatype should be same\n",
    "def create_pair(rating_record):\n",
    "    record = rating_record.split(\",\")\n",
    "    return (record[0],(float(record[2]),1))\n",
    "\n",
    "ratings = rating.map(create_pair)\n",
    "ratings.take(2)"
   ]
  },
  {
   "cell_type": "code",
   "execution_count": 43,
   "metadata": {},
   "outputs": [
    {
     "data": {
      "text/plain": [
       "610"
      ]
     },
     "execution_count": 43,
     "metadata": {},
     "output_type": "execute_result"
    }
   ],
   "source": [
    "# reduce by key\n",
    "sum_count = ratings.reduceByKey(lambda x,y:(x[0]+y[0],x[1]+y[1]))\n",
    "sum_count.count()"
   ]
  },
  {
   "cell_type": "code",
   "execution_count": 45,
   "metadata": {},
   "outputs": [
    {
     "data": {
      "text/plain": [
       "[('1', (1013.0, 232)), ('4', (768.0, 216)), ('8', (168.0, 47))]"
      ]
     },
     "execution_count": 45,
     "metadata": {},
     "output_type": "execute_result"
    }
   ],
   "source": [
    "sum_count.take(3)"
   ]
  },
  {
   "cell_type": "code",
   "execution_count": 44,
   "metadata": {},
   "outputs": [
    {
     "data": {
      "text/plain": [
       "[('1', 4.366379310344827), ('4', 3.5555555555555554), ('8', 3.574468085106383)]"
      ]
     },
     "execution_count": 44,
     "metadata": {},
     "output_type": "execute_result"
    }
   ],
   "source": [
    "average_rating = sum_count.mapValues(lambda x: x[0]/x[1])\n",
    "average_rating.take(3)"
   ]
  },
  {
   "cell_type": "code",
   "execution_count": 6,
   "metadata": {},
   "outputs": [
    {
     "data": {
      "text/plain": [
       "[('1', 4.0), ('1', 4.0), ('1', 4.0)]"
      ]
     },
     "execution_count": 6,
     "metadata": {},
     "output_type": "execute_result"
    }
   ],
   "source": [
    "# combine by key\n",
    "ratings.take(3)"
   ]
  },
  {
   "cell_type": "code",
   "execution_count": 7,
   "metadata": {},
   "outputs": [
    {
     "data": {
      "text/plain": [
       "610"
      ]
     },
     "execution_count": 7,
     "metadata": {},
     "output_type": "execute_result"
    }
   ],
   "source": [
    "sum_count = ratings.combineByKey((lambda x: (x,1)),\n",
    "                    (lambda x,y:(x[0]+y,x[1]+1)),\n",
    "                    (lambda x,y:(x[0]+y[0],x[1]+y[1])))\n",
    "\n",
    "sum_count.count()"
   ]
  },
  {
   "cell_type": "code",
   "execution_count": 8,
   "metadata": {},
   "outputs": [
    {
     "data": {
      "text/plain": [
       "[('1', (1013.0, 232)), ('4', (768.0, 216)), ('8', (168.0, 47))]"
      ]
     },
     "execution_count": 8,
     "metadata": {},
     "output_type": "execute_result"
    }
   ],
   "source": [
    "sum_count.take(3)"
   ]
  },
  {
   "cell_type": "code",
   "execution_count": 9,
   "metadata": {},
   "outputs": [
    {
     "data": {
      "text/plain": [
       "[('1', 4.366379310344827), ('4', 3.5555555555555554), ('8', 3.574468085106383)]"
      ]
     },
     "execution_count": 9,
     "metadata": {},
     "output_type": "execute_result"
    }
   ],
   "source": [
    "average_rating = sum_count.mapValues(lambda x: x[0]/x[1])\n",
    "average_rating.take(3)"
   ]
  },
  {
   "cell_type": "code",
   "execution_count": 10,
   "metadata": {},
   "outputs": [],
   "source": [
    "spark.stop()"
   ]
  },
  {
   "cell_type": "code",
   "execution_count": null,
   "metadata": {},
   "outputs": [],
   "source": []
  }
 ],
 "metadata": {
  "kernelspec": {
   "display_name": "Python 3.8.5 ('base')",
   "language": "python",
   "name": "python3"
  },
  "language_info": {
   "codemirror_mode": {
    "name": "ipython",
    "version": 3
   },
   "file_extension": ".py",
   "mimetype": "text/x-python",
   "name": "python",
   "nbconvert_exporter": "python",
   "pygments_lexer": "ipython3",
   "version": "3.8.5"
  },
  "orig_nbformat": 4,
  "vscode": {
   "interpreter": {
    "hash": "ad2bdc8ecc057115af97d19610ffacc2b4e99fae6737bb82f5d7fb13d2f2c186"
   }
  }
 },
 "nbformat": 4,
 "nbformat_minor": 2
}
