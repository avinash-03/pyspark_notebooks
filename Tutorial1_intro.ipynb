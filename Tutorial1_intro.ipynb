{
 "cells": [
  {
   "cell_type": "code",
   "execution_count": 2,
   "metadata": {
    "ExecuteTime": {
     "end_time": "2022-12-21T07:23:25.606090Z",
     "start_time": "2022-12-21T07:23:24.412487Z"
    }
   },
   "outputs": [],
   "source": [
    "#!pip install pyspark\n",
    "\n",
    "import pyspark\n",
    "import pandas as pd \n",
    "from pyspark.sql import SparkSession"
   ]
  },
  {
   "cell_type": "code",
   "execution_count": 3,
   "metadata": {
    "ExecuteTime": {
     "end_time": "2022-02-28T02:37:45.222307Z",
     "start_time": "2022-02-28T02:37:31.251523Z"
    }
   },
   "outputs": [],
   "source": [
    "spark = SparkSession.builder.appName(\"Practice\").getOrCreate()"
   ]
  },
  {
   "cell_type": "code",
   "execution_count": 4,
   "metadata": {
    "ExecuteTime": {
     "end_time": "2022-02-28T02:38:14.372167Z",
     "start_time": "2022-02-28T02:38:14.338187Z"
    }
   },
   "outputs": [
    {
     "data": {
      "text/html": [
       "\n",
       "            <div>\n",
       "                <p><b>SparkSession - in-memory</b></p>\n",
       "                \n",
       "        <div>\n",
       "            <p><b>SparkContext</b></p>\n",
       "\n",
       "            <p><a href=\"http://avinash:4041\">Spark UI</a></p>\n",
       "\n",
       "            <dl>\n",
       "              <dt>Version</dt>\n",
       "                <dd><code>v3.0.3</code></dd>\n",
       "              <dt>Master</dt>\n",
       "                <dd><code>local[*]</code></dd>\n",
       "              <dt>AppName</dt>\n",
       "                <dd><code>Practice</code></dd>\n",
       "            </dl>\n",
       "        </div>\n",
       "        \n",
       "            </div>\n",
       "        "
      ],
      "text/plain": [
       "<pyspark.sql.session.SparkSession at 0x2a961f333a0>"
      ]
     },
     "execution_count": 4,
     "metadata": {},
     "output_type": "execute_result"
    }
   ],
   "source": [
    "spark"
   ]
  },
  {
   "cell_type": "code",
   "execution_count": 18,
   "metadata": {
    "ExecuteTime": {
     "end_time": "2022-02-28T02:38:49.673588Z",
     "start_time": "2022-02-28T02:38:42.112415Z"
    }
   },
   "outputs": [
    {
     "name": "stdout",
     "output_type": "stream",
     "text": [
      "root\n",
      " |-- _c0: string (nullable = true)\n",
      " |-- _c1: string (nullable = true)\n",
      " |-- _c2: string (nullable = true)\n",
      "\n",
      "+---+-------+---+\n",
      "|_c0|_c1    |_c2|\n",
      "+---+-------+---+\n",
      "|id |Name   |Age|\n",
      "|0  |avi    |31 |\n",
      "|1  |rahul  |32 |\n",
      "|2  |shubam |33 |\n",
      "+---+-------+---+\n",
      "\n"
     ]
    }
   ],
   "source": [
    "# without option header and inferSchema\n",
    "test_df = spark.read.csv('test1.csv')\n",
    "test_df.printSchema()\n",
    "test_df.show(truncate=False)"
   ]
  },
  {
   "cell_type": "code",
   "execution_count": 10,
   "metadata": {
    "ExecuteTime": {
     "end_time": "2022-02-28T02:43:40.846887Z",
     "start_time": "2022-02-28T02:43:40.587775Z"
    }
   },
   "outputs": [
    {
     "name": "stdout",
     "output_type": "stream",
     "text": [
      "+---+-------+---+\n",
      "| id|   Name|Age|\n",
      "+---+-------+---+\n",
      "|  0|    avi| 31|\n",
      "|  1|  rahul| 32|\n",
      "|  2|shubam | 33|\n",
      "+---+-------+---+\n",
      "\n"
     ]
    }
   ],
   "source": [
    "# use header\n",
    "spark_df=spark.read.option('header','true')\\\n",
    "    .option(\"inferSchema\",\"true\").csv('test1.csv')\n",
    "spark_df.show()"
   ]
  },
  {
   "cell_type": "code",
   "execution_count": 11,
   "metadata": {
    "ExecuteTime": {
     "end_time": "2022-02-28T02:44:24.051255Z",
     "start_time": "2022-02-28T02:44:23.807914Z"
    }
   },
   "outputs": [
    {
     "data": {
      "text/plain": [
       "Row(id=0, Name='avi', Age=31)"
      ]
     },
     "execution_count": 11,
     "metadata": {},
     "output_type": "execute_result"
    }
   ],
   "source": [
    "spark_df.head()"
   ]
  },
  {
   "cell_type": "code",
   "execution_count": 12,
   "metadata": {
    "ExecuteTime": {
     "end_time": "2022-02-28T02:45:06.234609Z",
     "start_time": "2022-02-28T02:45:06.220622Z"
    }
   },
   "outputs": [
    {
     "name": "stdout",
     "output_type": "stream",
     "text": [
      "root\n",
      " |-- id: integer (nullable = true)\n",
      " |-- Name: string (nullable = true)\n",
      " |-- Age: integer (nullable = true)\n",
      "\n"
     ]
    }
   ],
   "source": [
    "# detail about schema\n",
    "spark_df.printSchema()"
   ]
  },
  {
   "cell_type": "code",
   "execution_count": 11,
   "metadata": {},
   "outputs": [],
   "source": [
    "spark.stop()"
   ]
  },
  {
   "cell_type": "code",
   "execution_count": 13,
   "metadata": {},
   "outputs": [],
   "source": [
    "country_df = spark.read.csv(r\"C:\\workspace\\data\\all_country.csv\",inferSchema=True)"
   ]
  },
  {
   "cell_type": "code",
   "execution_count": 15,
   "metadata": {},
   "outputs": [
    {
     "name": "stdout",
     "output_type": "stream",
     "text": [
      "+---+----------+-------+------+----------------------+---------------------------------+--------------+--------------+------+---+----+\n",
      "|_c0|_c1       |_c2    |_c3   |_c4                   |_c5                              |_c6           |_c7           |_c8   |_c9|_c10|\n",
      "+---+----------+-------+------+----------------------+---------------------------------+--------------+--------------+------+---+----+\n",
      "|0  |6/26/2011 |4007024|40.33 |Exercise & Fitness    |Cardio Machine Accessories       |Clarksville   |Tennessee     |credit|I  |IND |\n",
      "|1  |5/26/2011 |4006742|198.44|Exercise & Fitness    |Weightlifting Gloves             |Long Beach    |California    |credit|I  |IND |\n",
      "|2  |6/1/2011  |4009775|5.58  |Exercise & Fitness    |Weightlifting Machine Accessories|Anaheim       |California    |credit|I  |IND |\n",
      "|3  |6/5/2011  |4002199|198.19|Gymnastics            |Gymnastics Rings                 |Milwaukee     |Wisconsin     |credit|I  |IND |\n",
      "|4  |12/17/2011|4002613|98.81 |Team Sports           |Field Hockey                     |Nashville     |Tennessee     |credit|I  |IND |\n",
      "|5  |2/14/2011 |4007591|193.63|Outdoor Recreation    |Camping & Backpacking & Hiking   |Chicago       |Illinois      |credit|I  |IND |\n",
      "|6  |10/28/2011|4002190|27.89 |Puzzles               |Jigsaw Puzzles                   |Charleston    |South Carolina|credit|I  |IND |\n",
      "|7  |7/14/2011 |4002964|96.01 |Outdoor Play Equipment|Sandboxes                        |Columbus      |Ohio          |credit|I  |IND |\n",
      "|8  |1/17/2011 |4007361|10.44 |Winter Sports         |Snowmobiling                     |Des Moines    |Iowa          |credit|I  |IND |\n",
      "|9  |5/17/2011 |4004798|152.46|Jumping               |Bungee Jumping                   |St. Petersburg|Florida       |credit|I  |IND |\n",
      "|10 |5/29/2011 |4004646|180.28|Outdoor Recreation    |Archery                          |Reno          |Nevada        |credit|I  |IND |\n",
      "|11 |6/18/2011 |4008071|121.39|Outdoor Play Equipment|Swing Sets                       |Columbus      |Ohio          |credit|I  |IND |\n",
      "|12 |2/8/2011  |4002473|41.52 |Indoor Games          |Bowling                          |San Francisco |California    |credit|I  |IND |\n",
      "|13 |3/13/2011 |4003268|107.8 |Team Sports           |Field Hockey                     |Honolulu      |Hawaii        |credit|I  |IND |\n",
      "|14 |2/25/2011 |4004613|36.81 |Gymnastics            |Vaulting Horses                  |Los Angeles   |California    |credit|I  |IND |\n",
      "|15 |10/20/2011|4003179|137.64|Combat Sports         |Fencing                          |Honolulu      |Hawaii        |credit|I  |IND |\n",
      "|16 |5/28/2011 |4009135|35.56 |Exercise & Fitness    |Free Weight Bars                 |Columbia      |South Carolina|credit|I  |IND |\n",
      "|17 |10/18/2011|4006679|75.55 |Water Sports          |Scuba Diving & Snorkeling        |Omaha         |Nebraska      |credit|I  |IND |\n",
      "|18 |11/18/2011|4002444|88.65 |Team Sports           |Baseball                         |Salt Lake City|Utah          |credit|I  |IND |\n",
      "|19 |8/28/2011 |4008871|51.81 |Water Sports          |Life Jackets                     |Newark        |New Jersey    |credit|I  |IND |\n",
      "+---+----------+-------+------+----------------------+---------------------------------+--------------+--------------+------+---+----+\n",
      "only showing top 20 rows\n",
      "\n"
     ]
    }
   ],
   "source": [
    "country_df.show(truncate=0)"
   ]
  },
  {
   "cell_type": "code",
   "execution_count": 16,
   "metadata": {},
   "outputs": [
    {
     "data": {
      "text/plain": [
       "DataFrame[summary: string, _c0: string, _c1: string, _c2: string, _c3: string, _c4: string, _c5: string, _c6: string, _c7: string, _c8: string, _c9: string, _c10: string]"
      ]
     },
     "execution_count": 16,
     "metadata": {},
     "output_type": "execute_result"
    }
   ],
   "source": [
    "country_df.describe()"
   ]
  },
  {
   "cell_type": "code",
   "execution_count": 17,
   "metadata": {},
   "outputs": [
    {
     "data": {
      "text/plain": [
       "287712"
      ]
     },
     "execution_count": 17,
     "metadata": {},
     "output_type": "execute_result"
    }
   ],
   "source": [
    "country_df.count()"
   ]
  },
  {
   "cell_type": "code",
   "execution_count": 20,
   "metadata": {},
   "outputs": [],
   "source": [
    "spark.stop()"
   ]
  },
  {
   "cell_type": "code",
   "execution_count": null,
   "metadata": {},
   "outputs": [],
   "source": []
  }
 ],
 "metadata": {
  "kernelspec": {
   "display_name": "Python 3 (ipykernel)",
   "language": "python",
   "name": "python3"
  },
  "language_info": {
   "codemirror_mode": {
    "name": "ipython",
    "version": 3
   },
   "file_extension": ".py",
   "mimetype": "text/x-python",
   "name": "python",
   "nbconvert_exporter": "python",
   "pygments_lexer": "ipython3",
   "version": "3.8.5"
  },
  "toc": {
   "base_numbering": 1,
   "nav_menu": {},
   "number_sections": true,
   "sideBar": true,
   "skip_h1_title": false,
   "title_cell": "Table of Contents",
   "title_sidebar": "Contents",
   "toc_cell": false,
   "toc_position": {},
   "toc_section_display": true,
   "toc_window_display": false
  },
  "vscode": {
   "interpreter": {
    "hash": "ad2bdc8ecc057115af97d19610ffacc2b4e99fae6737bb82f5d7fb13d2f2c186"
   }
  }
 },
 "nbformat": 4,
 "nbformat_minor": 4
}
