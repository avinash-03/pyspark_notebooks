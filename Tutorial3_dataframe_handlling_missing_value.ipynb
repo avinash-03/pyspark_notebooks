{
 "cells": [
  {
   "cell_type": "markdown",
   "metadata": {},
   "source": [
    "# PYspark Handlling Missing Values\n",
    "- dropping Columns\n",
    "- Dropping Rows\n",
    "- Various Paramter in Dropping functionalities\n",
    "- Handlling missing valeus by mean,median , mode"
   ]
  },
  {
   "cell_type": "code",
   "execution_count": 1,
   "metadata": {
    "ExecuteTime": {
     "end_time": "2022-02-28T03:20:01.513244Z",
     "start_time": "2022-02-28T03:20:01.497621Z"
    }
   },
   "outputs": [],
   "source": [
    "from pyspark.sql import SparkSession\n",
    "spark = SparkSession.builder.appName(\"Practice\").getOrCreate()"
   ]
  },
  {
   "cell_type": "code",
   "execution_count": 12,
   "metadata": {},
   "outputs": [],
   "source": [
    "list = [1,2,3,4,5,6,7,8,9,10,11,12]\n",
    "rdd=spark.sparkContext.parallelize(list)"
   ]
  },
  {
   "cell_type": "code",
   "execution_count": 17,
   "metadata": {},
   "outputs": [
    {
     "data": {
      "text/plain": [
       "PythonRDD[3] at RDD at PythonRDD.scala:53"
      ]
     },
     "execution_count": 17,
     "metadata": {},
     "output_type": "execute_result"
    }
   ],
   "source": [
    "rdd.map(lambda x: 3*x)"
   ]
  },
  {
   "cell_type": "code",
   "execution_count": 20,
   "metadata": {
    "ExecuteTime": {
     "end_time": "2022-02-28T03:20:03.237326Z",
     "start_time": "2022-02-28T03:20:02.983418Z"
    }
   },
   "outputs": [],
   "source": [
    "df_pyspark = spark.read.csv('exp.csv',header=True,inferSchema=True)"
   ]
  },
  {
   "cell_type": "code",
   "execution_count": 21,
   "metadata": {
    "ExecuteTime": {
     "end_time": "2022-02-28T03:20:05.722455Z",
     "start_time": "2022-02-28T03:20:05.621463Z"
    }
   },
   "outputs": [
    {
     "name": "stdout",
     "output_type": "stream",
     "text": [
      "+-------+----+----------+------+\n",
      "|   Name| Age|Experience|Salary|\n",
      "+-------+----+----------+------+\n",
      "|    avi|  31|       4.3|  null|\n",
      "|  rahul|  32|       3.0| 40000|\n",
      "|shubham|  33|       2.0| 50000|\n",
      "| ganesh|  27|       3.0| 24000|\n",
      "|sandesh|  26|       2.0| 20000|\n",
      "| Harsha|  30|       4.0| 43000|\n",
      "| mahesh|null|      null| 35000|\n",
      "|   null|  34|      10.0| 38000|\n",
      "|   null|  36|      null|  null|\n",
      "+-------+----+----------+------+\n",
      "\n"
     ]
    }
   ],
   "source": [
    "df_pyspark.show()"
   ]
  },
  {
   "cell_type": "code",
   "execution_count": 22,
   "metadata": {
    "ExecuteTime": {
     "end_time": "2022-02-28T03:20:08.687511Z",
     "start_time": "2022-02-28T03:20:08.594514Z"
    }
   },
   "outputs": [
    {
     "name": "stdout",
     "output_type": "stream",
     "text": [
      "+----+----------+------+\n",
      "| Age|Experience|Salary|\n",
      "+----+----------+------+\n",
      "|  31|       4.3|  null|\n",
      "|  32|       3.0| 40000|\n",
      "|  33|       2.0| 50000|\n",
      "|  27|       3.0| 24000|\n",
      "|  26|       2.0| 20000|\n",
      "|  30|       4.0| 43000|\n",
      "|null|      null| 35000|\n",
      "|  34|      10.0| 38000|\n",
      "|  36|      null|  null|\n",
      "+----+----------+------+\n",
      "\n"
     ]
    }
   ],
   "source": [
    "# drop the columns\n",
    "df_pyspark.drop('Name').show()"
   ]
  },
  {
   "cell_type": "code",
   "execution_count": 23,
   "metadata": {
    "ExecuteTime": {
     "end_time": "2022-02-28T03:20:13.232020Z",
     "start_time": "2022-02-28T03:20:13.096099Z"
    }
   },
   "outputs": [
    {
     "name": "stdout",
     "output_type": "stream",
     "text": [
      "+-------+---+----------+------+\n",
      "|   Name|Age|Experience|Salary|\n",
      "+-------+---+----------+------+\n",
      "|  rahul| 32|       3.0| 40000|\n",
      "|shubham| 33|       2.0| 50000|\n",
      "| ganesh| 27|       3.0| 24000|\n",
      "|sandesh| 26|       2.0| 20000|\n",
      "| Harsha| 30|       4.0| 43000|\n",
      "+-------+---+----------+------+\n",
      "\n"
     ]
    }
   ],
   "source": [
    "df_pyspark.na.drop().show()"
   ]
  },
  {
   "cell_type": "code",
   "execution_count": 25,
   "metadata": {
    "ExecuteTime": {
     "end_time": "2022-02-28T03:23:12.885906Z",
     "start_time": "2022-02-28T03:23:12.733259Z"
    }
   },
   "outputs": [
    {
     "name": "stdout",
     "output_type": "stream",
     "text": [
      "+-------+----+----------+------+\n",
      "|   Name| Age|Experience|Salary|\n",
      "+-------+----+----------+------+\n",
      "|    avi|  31|       4.3|  null|\n",
      "|  rahul|  32|       3.0| 40000|\n",
      "|shubham|  33|       2.0| 50000|\n",
      "| ganesh|  27|       3.0| 24000|\n",
      "|sandesh|  26|       2.0| 20000|\n",
      "| Harsha|  30|       4.0| 43000|\n",
      "| mahesh|null|      null| 35000|\n",
      "|   null|  34|      10.0| 38000|\n",
      "|   null|  36|      null|  null|\n",
      "+-------+----+----------+------+\n",
      "\n"
     ]
    }
   ],
   "source": [
    "## any == how\n",
    "df_pyspark.na.drop(how=\"all\").show()"
   ]
  },
  {
   "cell_type": "code",
   "execution_count": 26,
   "metadata": {
    "ExecuteTime": {
     "end_time": "2022-02-28T03:23:45.912242Z",
     "start_time": "2022-02-28T03:23:45.746413Z"
    }
   },
   "outputs": [
    {
     "name": "stdout",
     "output_type": "stream",
     "text": [
      "+-------+---+----------+------+\n",
      "|   Name|Age|Experience|Salary|\n",
      "+-------+---+----------+------+\n",
      "|  rahul| 32|       3.0| 40000|\n",
      "|shubham| 33|       2.0| 50000|\n",
      "| ganesh| 27|       3.0| 24000|\n",
      "|sandesh| 26|       2.0| 20000|\n",
      "| Harsha| 30|       4.0| 43000|\n",
      "+-------+---+----------+------+\n",
      "\n"
     ]
    }
   ],
   "source": [
    "## how ==any\n",
    "df_pyspark.na.drop(how='any').show()"
   ]
  },
  {
   "cell_type": "code",
   "execution_count": 31,
   "metadata": {
    "ExecuteTime": {
     "end_time": "2022-02-28T04:25:56.177303Z",
     "start_time": "2022-02-28T04:25:55.760177Z"
    }
   },
   "outputs": [
    {
     "name": "stdout",
     "output_type": "stream",
     "text": [
      "+-------+---+----------+------+\n",
      "|   Name|Age|Experience|Salary|\n",
      "+-------+---+----------+------+\n",
      "|  rahul| 32|       3.0| 40000|\n",
      "|shubham| 33|       2.0| 50000|\n",
      "| ganesh| 27|       3.0| 24000|\n",
      "|sandesh| 26|       2.0| 20000|\n",
      "| Harsha| 30|       4.0| 43000|\n",
      "+-------+---+----------+------+\n",
      "\n"
     ]
    }
   ],
   "source": [
    "# threshold\n",
    "df_pyspark.na.drop(thresh=4).show()"
   ]
  },
  {
   "cell_type": "code",
   "execution_count": 32,
   "metadata": {
    "ExecuteTime": {
     "end_time": "2022-02-28T03:26:27.516711Z",
     "start_time": "2022-02-28T03:26:27.365543Z"
    }
   },
   "outputs": [
    {
     "name": "stdout",
     "output_type": "stream",
     "text": [
      "+-------+----+----------+------+\n",
      "|   Name| Age|Experience|Salary|\n",
      "+-------+----+----------+------+\n",
      "|  rahul|  32|       3.0| 40000|\n",
      "|shubham|  33|       2.0| 50000|\n",
      "| ganesh|  27|       3.0| 24000|\n",
      "|sandesh|  26|       2.0| 20000|\n",
      "| Harsha|  30|       4.0| 43000|\n",
      "| mahesh|null|      null| 35000|\n",
      "|   null|  34|      10.0| 38000|\n",
      "+-------+----+----------+------+\n",
      "\n"
     ]
    }
   ],
   "source": [
    "# Subset\n",
    "df_pyspark.na.drop(how='any',subset=['Salary']).show()"
   ]
  },
  {
   "cell_type": "code",
   "execution_count": 33,
   "metadata": {
    "ExecuteTime": {
     "end_time": "2022-02-28T03:28:22.329124Z",
     "start_time": "2022-02-28T03:28:22.208028Z"
    }
   },
   "outputs": [
    {
     "name": "stdout",
     "output_type": "stream",
     "text": [
      "+--------------+----+----------+------+\n",
      "|          Name| Age|Experience|Salary|\n",
      "+--------------+----+----------+------+\n",
      "|           avi|  31|       4.3|  null|\n",
      "|         rahul|  32|       3.0| 40000|\n",
      "|       shubham|  33|       2.0| 50000|\n",
      "|        ganesh|  27|       3.0| 24000|\n",
      "|       sandesh|  26|       2.0| 20000|\n",
      "|        Harsha|  30|       4.0| 43000|\n",
      "|        mahesh|null|      null| 35000|\n",
      "|Missing values|  34|      10.0| 38000|\n",
      "|Missing values|  36|      null|  null|\n",
      "+--------------+----+----------+------+\n",
      "\n"
     ]
    }
   ],
   "source": [
    "### Filling the missing valeu\n",
    "df_pyspark.na.fill('Missing values',['Age','Name']).show()"
   ]
  },
  {
   "cell_type": "code",
   "execution_count": 34,
   "metadata": {
    "ExecuteTime": {
     "end_time": "2022-02-28T03:28:43.332790Z",
     "start_time": "2022-02-28T03:28:43.204222Z"
    }
   },
   "outputs": [
    {
     "name": "stdout",
     "output_type": "stream",
     "text": [
      "+-------+----+----------+------+\n",
      "|   Name| Age|Experience|Salary|\n",
      "+-------+----+----------+------+\n",
      "|    avi|  31|       4.3|  null|\n",
      "|  rahul|  32|       3.0| 40000|\n",
      "|shubham|  33|       2.0| 50000|\n",
      "| ganesh|  27|       3.0| 24000|\n",
      "|sandesh|  26|       2.0| 20000|\n",
      "| Harsha|  30|       4.0| 43000|\n",
      "| mahesh|null|      null| 35000|\n",
      "|   null|  34|      10.0| 38000|\n",
      "|   null|  36|      null|  null|\n",
      "+-------+----+----------+------+\n",
      "\n"
     ]
    }
   ],
   "source": [
    "df_pyspark.show()"
   ]
  },
  {
   "cell_type": "code",
   "execution_count": 35,
   "metadata": {
    "ExecuteTime": {
     "end_time": "2022-02-28T03:33:19.553720Z",
     "start_time": "2022-02-28T03:33:19.538092Z"
    }
   },
   "outputs": [],
   "source": [
    "# filling the null values\n",
    "from pyspark.ml.feature import Imputer \n",
    " \n",
    "imputer = Imputer(\n",
    "    inputCols=['Age','Experience','Salary'],\n",
    "    outputCols=['{}_imputed'.format(c) for c in ['Age','Experience','Salary']]\n",
    ").setStrategy('mean')"
   ]
  },
  {
   "cell_type": "code",
   "execution_count": 37,
   "metadata": {
    "ExecuteTime": {
     "end_time": "2022-02-28T03:33:33.534791Z",
     "start_time": "2022-02-28T03:33:33.431491Z"
    }
   },
   "outputs": [
    {
     "name": "stdout",
     "output_type": "stream",
     "text": [
      "+-------+----+----------+------+\n",
      "|   Name| Age|Experience|Salary|\n",
      "+-------+----+----------+------+\n",
      "|    avi|  31|       4.3|  null|\n",
      "|  rahul|  32|       3.0| 40000|\n",
      "|shubham|  33|       2.0| 50000|\n",
      "| ganesh|  27|       3.0| 24000|\n",
      "|sandesh|  26|       2.0| 20000|\n",
      "| Harsha|  30|       4.0| 43000|\n",
      "| mahesh|null|      null| 35000|\n",
      "|   null|  34|      10.0| 38000|\n",
      "|   null|  36|      null|  null|\n",
      "+-------+----+----------+------+\n",
      "\n"
     ]
    }
   ],
   "source": [
    "df_pyspark.show()"
   ]
  },
  {
   "cell_type": "code",
   "execution_count": 38,
   "metadata": {
    "ExecuteTime": {
     "end_time": "2022-02-28T03:34:15.620668Z",
     "start_time": "2022-02-28T03:34:14.803779Z"
    }
   },
   "outputs": [
    {
     "name": "stdout",
     "output_type": "stream",
     "text": [
      "+-------+----+----------+------+-----------+------------------+--------------+\n",
      "|   Name| Age|Experience|Salary|Age_imputed|Experience_imputed|Salary_imputed|\n",
      "+-------+----+----------+------+-----------+------------------+--------------+\n",
      "|    avi|  31|       4.3|  null|         31|               4.3|         35714|\n",
      "|  rahul|  32|       3.0| 40000|         32|               3.0|         40000|\n",
      "|shubham|  33|       2.0| 50000|         33|               2.0|         50000|\n",
      "| ganesh|  27|       3.0| 24000|         27|               3.0|         24000|\n",
      "|sandesh|  26|       2.0| 20000|         26|               2.0|         20000|\n",
      "| Harsha|  30|       4.0| 43000|         30|               4.0|         43000|\n",
      "| mahesh|null|      null| 35000|         31| 4.042857142857143|         35000|\n",
      "|   null|  34|      10.0| 38000|         34|              10.0|         38000|\n",
      "|   null|  36|      null|  null|         36| 4.042857142857143|         35714|\n",
      "+-------+----+----------+------+-----------+------------------+--------------+\n",
      "\n"
     ]
    }
   ],
   "source": [
    "imputer.fit(df_pyspark).transform(df_pyspark).show()"
   ]
  },
  {
   "cell_type": "code",
   "execution_count": 18,
   "metadata": {},
   "outputs": [],
   "source": [
    "spark.stop()"
   ]
  },
  {
   "cell_type": "code",
   "execution_count": 39,
   "metadata": {},
   "outputs": [
    {
     "name": "stdout",
     "output_type": "stream",
     "text": [
      "[0, 3, 6, 9, 12]\n"
     ]
    }
   ],
   "source": [
    "# --serializing.py----\n",
    "#from pyspark.sql import SparkSession\n",
    "#spark = SparkSession.builder.appName(\"rdd\").getOrCreate()\n",
    "#sc = SparkContext()    #Initialize spark context and serializer\n",
    "print(spark.sparkContext.parallelize(list(range(1000))).map(lambda x: 3 * x).take(5))\n",
    "#spark.stop()"
   ]
  },
  {
   "cell_type": "code",
   "execution_count": null,
   "metadata": {},
   "outputs": [],
   "source": []
  },
  {
   "cell_type": "code",
   "execution_count": null,
   "metadata": {},
   "outputs": [],
   "source": []
  },
  {
   "cell_type": "code",
   "execution_count": null,
   "metadata": {},
   "outputs": [],
   "source": []
  },
  {
   "cell_type": "code",
   "execution_count": null,
   "metadata": {},
   "outputs": [],
   "source": []
  },
  {
   "cell_type": "code",
   "execution_count": null,
   "metadata": {},
   "outputs": [],
   "source": []
  },
  {
   "cell_type": "code",
   "execution_count": null,
   "metadata": {},
   "outputs": [],
   "source": []
  },
  {
   "cell_type": "code",
   "execution_count": null,
   "metadata": {},
   "outputs": [],
   "source": []
  },
  {
   "cell_type": "code",
   "execution_count": null,
   "metadata": {},
   "outputs": [],
   "source": []
  },
  {
   "cell_type": "code",
   "execution_count": null,
   "metadata": {},
   "outputs": [],
   "source": []
  }
 ],
 "metadata": {
  "kernelspec": {
   "display_name": "Python 3",
   "language": "python",
   "name": "python3"
  },
  "language_info": {
   "codemirror_mode": {
    "name": "ipython",
    "version": 3
   },
   "file_extension": ".py",
   "mimetype": "text/x-python",
   "name": "python",
   "nbconvert_exporter": "python",
   "pygments_lexer": "ipython3",
   "version": "3.8.5"
  },
  "toc": {
   "base_numbering": 1,
   "nav_menu": {},
   "number_sections": true,
   "sideBar": true,
   "skip_h1_title": false,
   "title_cell": "Table of Contents",
   "title_sidebar": "Contents",
   "toc_cell": false,
   "toc_position": {},
   "toc_section_display": true,
   "toc_window_display": false
  }
 },
 "nbformat": 4,
 "nbformat_minor": 4
}
