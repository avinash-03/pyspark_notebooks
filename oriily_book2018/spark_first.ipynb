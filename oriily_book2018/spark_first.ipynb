{
 "cells": [
  {
   "cell_type": "code",
   "execution_count": 1,
   "metadata": {},
   "outputs": [],
   "source": [
    "from pyspark.sql import SparkSession\n",
    "import pyspark.sql.functions as F\n"
   ]
  },
  {
   "cell_type": "code",
   "execution_count": 2,
   "metadata": {},
   "outputs": [],
   "source": [
    "spark = SparkSession.builder.appName('intro').getOrCreate()"
   ]
  },
  {
   "cell_type": "code",
   "execution_count": 3,
   "metadata": {},
   "outputs": [
    {
     "data": {
      "text/html": [
       "\n",
       "            <div>\n",
       "                <p><b>SparkSession - in-memory</b></p>\n",
       "                \n",
       "        <div>\n",
       "            <p><b>SparkContext</b></p>\n",
       "\n",
       "            <p><a href=\"http://avinash:4040\">Spark UI</a></p>\n",
       "\n",
       "            <dl>\n",
       "              <dt>Version</dt>\n",
       "                <dd><code>v3.0.3</code></dd>\n",
       "              <dt>Master</dt>\n",
       "                <dd><code>local[*]</code></dd>\n",
       "              <dt>AppName</dt>\n",
       "                <dd><code>intro</code></dd>\n",
       "            </dl>\n",
       "        </div>\n",
       "        \n",
       "            </div>\n",
       "        "
      ],
      "text/plain": [
       "<pyspark.sql.session.SparkSession at 0x1407e359970>"
      ]
     },
     "execution_count": 3,
     "metadata": {},
     "output_type": "execute_result"
    }
   ],
   "source": [
    "spark"
   ]
  },
  {
   "cell_type": "markdown",
   "metadata": {},
   "source": [
    "# chapter 2 .intro spark"
   ]
  },
  {
   "cell_type": "code",
   "execution_count": 4,
   "metadata": {},
   "outputs": [],
   "source": [
    "my_range = spark.range(1000).toDF(\"number\")"
   ]
  },
  {
   "cell_type": "code",
   "execution_count": 5,
   "metadata": {},
   "outputs": [
    {
     "data": {
      "text/plain": [
       "[Row(number=0), Row(number=1), Row(number=2)]"
      ]
     },
     "execution_count": 5,
     "metadata": {},
     "output_type": "execute_result"
    }
   ],
   "source": [
    "my_range.take(3)"
   ]
  },
  {
   "cell_type": "code",
   "execution_count": 7,
   "metadata": {},
   "outputs": [
    {
     "name": "stdout",
     "output_type": "stream",
     "text": [
      "+------+\n",
      "|number|\n",
      "+------+\n",
      "|     0|\n",
      "|     1|\n",
      "|     2|\n",
      "|     3|\n",
      "|     4|\n",
      "|     5|\n",
      "|     6|\n",
      "|     7|\n",
      "|     8|\n",
      "|     9|\n",
      "|    10|\n",
      "|    11|\n",
      "|    12|\n",
      "|    13|\n",
      "|    14|\n",
      "|    15|\n",
      "|    16|\n",
      "|    17|\n",
      "|    18|\n",
      "|    19|\n",
      "+------+\n",
      "only showing top 20 rows\n",
      "\n"
     ]
    }
   ],
   "source": [
    "my_range.show()"
   ]
  },
  {
   "cell_type": "code",
   "execution_count": 8,
   "metadata": {},
   "outputs": [],
   "source": [
    "divi_by2 = my_range.where('number %2 =0')"
   ]
  },
  {
   "cell_type": "code",
   "execution_count": 9,
   "metadata": {},
   "outputs": [
    {
     "data": {
      "text/plain": [
       "[Row(number=0),\n",
       " Row(number=2),\n",
       " Row(number=4),\n",
       " Row(number=6),\n",
       " Row(number=8),\n",
       " Row(number=10),\n",
       " Row(number=12),\n",
       " Row(number=14),\n",
       " Row(number=16),\n",
       " Row(number=18),\n",
       " Row(number=20),\n",
       " Row(number=22),\n",
       " Row(number=24),\n",
       " Row(number=26),\n",
       " Row(number=28),\n",
       " Row(number=30),\n",
       " Row(number=32),\n",
       " Row(number=34),\n",
       " Row(number=36),\n",
       " Row(number=38),\n",
       " Row(number=40),\n",
       " Row(number=42),\n",
       " Row(number=44),\n",
       " Row(number=46),\n",
       " Row(number=48),\n",
       " Row(number=50),\n",
       " Row(number=52),\n",
       " Row(number=54),\n",
       " Row(number=56),\n",
       " Row(number=58),\n",
       " Row(number=60),\n",
       " Row(number=62),\n",
       " Row(number=64),\n",
       " Row(number=66),\n",
       " Row(number=68),\n",
       " Row(number=70),\n",
       " Row(number=72),\n",
       " Row(number=74),\n",
       " Row(number=76),\n",
       " Row(number=78),\n",
       " Row(number=80),\n",
       " Row(number=82),\n",
       " Row(number=84),\n",
       " Row(number=86),\n",
       " Row(number=88),\n",
       " Row(number=90),\n",
       " Row(number=92),\n",
       " Row(number=94),\n",
       " Row(number=96),\n",
       " Row(number=98),\n",
       " Row(number=100),\n",
       " Row(number=102),\n",
       " Row(number=104),\n",
       " Row(number=106),\n",
       " Row(number=108),\n",
       " Row(number=110),\n",
       " Row(number=112),\n",
       " Row(number=114),\n",
       " Row(number=116),\n",
       " Row(number=118),\n",
       " Row(number=120),\n",
       " Row(number=122),\n",
       " Row(number=124),\n",
       " Row(number=126),\n",
       " Row(number=128),\n",
       " Row(number=130),\n",
       " Row(number=132),\n",
       " Row(number=134),\n",
       " Row(number=136),\n",
       " Row(number=138),\n",
       " Row(number=140),\n",
       " Row(number=142),\n",
       " Row(number=144),\n",
       " Row(number=146),\n",
       " Row(number=148),\n",
       " Row(number=150),\n",
       " Row(number=152),\n",
       " Row(number=154),\n",
       " Row(number=156),\n",
       " Row(number=158),\n",
       " Row(number=160),\n",
       " Row(number=162),\n",
       " Row(number=164),\n",
       " Row(number=166),\n",
       " Row(number=168),\n",
       " Row(number=170),\n",
       " Row(number=172),\n",
       " Row(number=174),\n",
       " Row(number=176),\n",
       " Row(number=178),\n",
       " Row(number=180),\n",
       " Row(number=182),\n",
       " Row(number=184),\n",
       " Row(number=186),\n",
       " Row(number=188),\n",
       " Row(number=190),\n",
       " Row(number=192),\n",
       " Row(number=194),\n",
       " Row(number=196),\n",
       " Row(number=198),\n",
       " Row(number=200),\n",
       " Row(number=202),\n",
       " Row(number=204),\n",
       " Row(number=206),\n",
       " Row(number=208),\n",
       " Row(number=210),\n",
       " Row(number=212),\n",
       " Row(number=214),\n",
       " Row(number=216),\n",
       " Row(number=218),\n",
       " Row(number=220),\n",
       " Row(number=222),\n",
       " Row(number=224),\n",
       " Row(number=226),\n",
       " Row(number=228),\n",
       " Row(number=230),\n",
       " Row(number=232),\n",
       " Row(number=234),\n",
       " Row(number=236),\n",
       " Row(number=238),\n",
       " Row(number=240),\n",
       " Row(number=242),\n",
       " Row(number=244),\n",
       " Row(number=246),\n",
       " Row(number=248),\n",
       " Row(number=250),\n",
       " Row(number=252),\n",
       " Row(number=254),\n",
       " Row(number=256),\n",
       " Row(number=258),\n",
       " Row(number=260),\n",
       " Row(number=262),\n",
       " Row(number=264),\n",
       " Row(number=266),\n",
       " Row(number=268),\n",
       " Row(number=270),\n",
       " Row(number=272),\n",
       " Row(number=274),\n",
       " Row(number=276),\n",
       " Row(number=278),\n",
       " Row(number=280),\n",
       " Row(number=282),\n",
       " Row(number=284),\n",
       " Row(number=286),\n",
       " Row(number=288),\n",
       " Row(number=290),\n",
       " Row(number=292),\n",
       " Row(number=294),\n",
       " Row(number=296),\n",
       " Row(number=298),\n",
       " Row(number=300),\n",
       " Row(number=302),\n",
       " Row(number=304),\n",
       " Row(number=306),\n",
       " Row(number=308),\n",
       " Row(number=310),\n",
       " Row(number=312),\n",
       " Row(number=314),\n",
       " Row(number=316),\n",
       " Row(number=318),\n",
       " Row(number=320),\n",
       " Row(number=322),\n",
       " Row(number=324),\n",
       " Row(number=326),\n",
       " Row(number=328),\n",
       " Row(number=330),\n",
       " Row(number=332),\n",
       " Row(number=334),\n",
       " Row(number=336),\n",
       " Row(number=338),\n",
       " Row(number=340),\n",
       " Row(number=342),\n",
       " Row(number=344),\n",
       " Row(number=346),\n",
       " Row(number=348),\n",
       " Row(number=350),\n",
       " Row(number=352),\n",
       " Row(number=354),\n",
       " Row(number=356),\n",
       " Row(number=358),\n",
       " Row(number=360),\n",
       " Row(number=362),\n",
       " Row(number=364),\n",
       " Row(number=366),\n",
       " Row(number=368),\n",
       " Row(number=370),\n",
       " Row(number=372),\n",
       " Row(number=374),\n",
       " Row(number=376),\n",
       " Row(number=378),\n",
       " Row(number=380),\n",
       " Row(number=382),\n",
       " Row(number=384),\n",
       " Row(number=386),\n",
       " Row(number=388),\n",
       " Row(number=390),\n",
       " Row(number=392),\n",
       " Row(number=394),\n",
       " Row(number=396),\n",
       " Row(number=398),\n",
       " Row(number=400),\n",
       " Row(number=402),\n",
       " Row(number=404),\n",
       " Row(number=406),\n",
       " Row(number=408),\n",
       " Row(number=410),\n",
       " Row(number=412),\n",
       " Row(number=414),\n",
       " Row(number=416),\n",
       " Row(number=418),\n",
       " Row(number=420),\n",
       " Row(number=422),\n",
       " Row(number=424),\n",
       " Row(number=426),\n",
       " Row(number=428),\n",
       " Row(number=430),\n",
       " Row(number=432),\n",
       " Row(number=434),\n",
       " Row(number=436),\n",
       " Row(number=438),\n",
       " Row(number=440),\n",
       " Row(number=442),\n",
       " Row(number=444),\n",
       " Row(number=446),\n",
       " Row(number=448),\n",
       " Row(number=450),\n",
       " Row(number=452),\n",
       " Row(number=454),\n",
       " Row(number=456),\n",
       " Row(number=458),\n",
       " Row(number=460),\n",
       " Row(number=462),\n",
       " Row(number=464),\n",
       " Row(number=466),\n",
       " Row(number=468),\n",
       " Row(number=470),\n",
       " Row(number=472),\n",
       " Row(number=474),\n",
       " Row(number=476),\n",
       " Row(number=478),\n",
       " Row(number=480),\n",
       " Row(number=482),\n",
       " Row(number=484),\n",
       " Row(number=486),\n",
       " Row(number=488),\n",
       " Row(number=490),\n",
       " Row(number=492),\n",
       " Row(number=494),\n",
       " Row(number=496),\n",
       " Row(number=498),\n",
       " Row(number=500),\n",
       " Row(number=502),\n",
       " Row(number=504),\n",
       " Row(number=506),\n",
       " Row(number=508),\n",
       " Row(number=510),\n",
       " Row(number=512),\n",
       " Row(number=514),\n",
       " Row(number=516),\n",
       " Row(number=518),\n",
       " Row(number=520),\n",
       " Row(number=522),\n",
       " Row(number=524),\n",
       " Row(number=526),\n",
       " Row(number=528),\n",
       " Row(number=530),\n",
       " Row(number=532),\n",
       " Row(number=534),\n",
       " Row(number=536),\n",
       " Row(number=538),\n",
       " Row(number=540),\n",
       " Row(number=542),\n",
       " Row(number=544),\n",
       " Row(number=546),\n",
       " Row(number=548),\n",
       " Row(number=550),\n",
       " Row(number=552),\n",
       " Row(number=554),\n",
       " Row(number=556),\n",
       " Row(number=558),\n",
       " Row(number=560),\n",
       " Row(number=562),\n",
       " Row(number=564),\n",
       " Row(number=566),\n",
       " Row(number=568),\n",
       " Row(number=570),\n",
       " Row(number=572),\n",
       " Row(number=574),\n",
       " Row(number=576),\n",
       " Row(number=578),\n",
       " Row(number=580),\n",
       " Row(number=582),\n",
       " Row(number=584),\n",
       " Row(number=586),\n",
       " Row(number=588),\n",
       " Row(number=590),\n",
       " Row(number=592),\n",
       " Row(number=594),\n",
       " Row(number=596),\n",
       " Row(number=598),\n",
       " Row(number=600),\n",
       " Row(number=602),\n",
       " Row(number=604),\n",
       " Row(number=606),\n",
       " Row(number=608),\n",
       " Row(number=610),\n",
       " Row(number=612),\n",
       " Row(number=614),\n",
       " Row(number=616),\n",
       " Row(number=618),\n",
       " Row(number=620),\n",
       " Row(number=622),\n",
       " Row(number=624),\n",
       " Row(number=626),\n",
       " Row(number=628),\n",
       " Row(number=630),\n",
       " Row(number=632),\n",
       " Row(number=634),\n",
       " Row(number=636),\n",
       " Row(number=638),\n",
       " Row(number=640),\n",
       " Row(number=642),\n",
       " Row(number=644),\n",
       " Row(number=646),\n",
       " Row(number=648),\n",
       " Row(number=650),\n",
       " Row(number=652),\n",
       " Row(number=654),\n",
       " Row(number=656),\n",
       " Row(number=658),\n",
       " Row(number=660),\n",
       " Row(number=662),\n",
       " Row(number=664),\n",
       " Row(number=666),\n",
       " Row(number=668),\n",
       " Row(number=670),\n",
       " Row(number=672),\n",
       " Row(number=674),\n",
       " Row(number=676),\n",
       " Row(number=678),\n",
       " Row(number=680),\n",
       " Row(number=682),\n",
       " Row(number=684),\n",
       " Row(number=686),\n",
       " Row(number=688),\n",
       " Row(number=690),\n",
       " Row(number=692),\n",
       " Row(number=694),\n",
       " Row(number=696),\n",
       " Row(number=698),\n",
       " Row(number=700),\n",
       " Row(number=702),\n",
       " Row(number=704),\n",
       " Row(number=706),\n",
       " Row(number=708),\n",
       " Row(number=710),\n",
       " Row(number=712),\n",
       " Row(number=714),\n",
       " Row(number=716),\n",
       " Row(number=718),\n",
       " Row(number=720),\n",
       " Row(number=722),\n",
       " Row(number=724),\n",
       " Row(number=726),\n",
       " Row(number=728),\n",
       " Row(number=730),\n",
       " Row(number=732),\n",
       " Row(number=734),\n",
       " Row(number=736),\n",
       " Row(number=738),\n",
       " Row(number=740),\n",
       " Row(number=742),\n",
       " Row(number=744),\n",
       " Row(number=746),\n",
       " Row(number=748),\n",
       " Row(number=750),\n",
       " Row(number=752),\n",
       " Row(number=754),\n",
       " Row(number=756),\n",
       " Row(number=758),\n",
       " Row(number=760),\n",
       " Row(number=762),\n",
       " Row(number=764),\n",
       " Row(number=766),\n",
       " Row(number=768),\n",
       " Row(number=770),\n",
       " Row(number=772),\n",
       " Row(number=774),\n",
       " Row(number=776),\n",
       " Row(number=778),\n",
       " Row(number=780),\n",
       " Row(number=782),\n",
       " Row(number=784),\n",
       " Row(number=786),\n",
       " Row(number=788),\n",
       " Row(number=790),\n",
       " Row(number=792),\n",
       " Row(number=794),\n",
       " Row(number=796),\n",
       " Row(number=798),\n",
       " Row(number=800),\n",
       " Row(number=802),\n",
       " Row(number=804),\n",
       " Row(number=806),\n",
       " Row(number=808),\n",
       " Row(number=810),\n",
       " Row(number=812),\n",
       " Row(number=814),\n",
       " Row(number=816),\n",
       " Row(number=818),\n",
       " Row(number=820),\n",
       " Row(number=822),\n",
       " Row(number=824),\n",
       " Row(number=826),\n",
       " Row(number=828),\n",
       " Row(number=830),\n",
       " Row(number=832),\n",
       " Row(number=834),\n",
       " Row(number=836),\n",
       " Row(number=838),\n",
       " Row(number=840),\n",
       " Row(number=842),\n",
       " Row(number=844),\n",
       " Row(number=846),\n",
       " Row(number=848),\n",
       " Row(number=850),\n",
       " Row(number=852),\n",
       " Row(number=854),\n",
       " Row(number=856),\n",
       " Row(number=858),\n",
       " Row(number=860),\n",
       " Row(number=862),\n",
       " Row(number=864),\n",
       " Row(number=866),\n",
       " Row(number=868),\n",
       " Row(number=870),\n",
       " Row(number=872),\n",
       " Row(number=874),\n",
       " Row(number=876),\n",
       " Row(number=878),\n",
       " Row(number=880),\n",
       " Row(number=882),\n",
       " Row(number=884),\n",
       " Row(number=886),\n",
       " Row(number=888),\n",
       " Row(number=890),\n",
       " Row(number=892),\n",
       " Row(number=894),\n",
       " Row(number=896),\n",
       " Row(number=898),\n",
       " Row(number=900),\n",
       " Row(number=902),\n",
       " Row(number=904),\n",
       " Row(number=906),\n",
       " Row(number=908),\n",
       " Row(number=910),\n",
       " Row(number=912),\n",
       " Row(number=914),\n",
       " Row(number=916),\n",
       " Row(number=918),\n",
       " Row(number=920),\n",
       " Row(number=922),\n",
       " Row(number=924),\n",
       " Row(number=926),\n",
       " Row(number=928),\n",
       " Row(number=930),\n",
       " Row(number=932),\n",
       " Row(number=934),\n",
       " Row(number=936),\n",
       " Row(number=938),\n",
       " Row(number=940),\n",
       " Row(number=942),\n",
       " Row(number=944),\n",
       " Row(number=946),\n",
       " Row(number=948),\n",
       " Row(number=950),\n",
       " Row(number=952),\n",
       " Row(number=954),\n",
       " Row(number=956),\n",
       " Row(number=958),\n",
       " Row(number=960),\n",
       " Row(number=962),\n",
       " Row(number=964),\n",
       " Row(number=966),\n",
       " Row(number=968),\n",
       " Row(number=970),\n",
       " Row(number=972),\n",
       " Row(number=974),\n",
       " Row(number=976),\n",
       " Row(number=978),\n",
       " Row(number=980),\n",
       " Row(number=982),\n",
       " Row(number=984),\n",
       " Row(number=986),\n",
       " Row(number=988),\n",
       " Row(number=990),\n",
       " Row(number=992),\n",
       " Row(number=994),\n",
       " Row(number=996),\n",
       " Row(number=998)]"
      ]
     },
     "execution_count": 9,
     "metadata": {},
     "output_type": "execute_result"
    }
   ],
   "source": [
    "divi_by2.collect()"
   ]
  },
  {
   "cell_type": "code",
   "execution_count": 10,
   "metadata": {},
   "outputs": [],
   "source": [
    "## end to end\n",
    "flight_data_path = \"data/flight-data/csv/2015-summary.csv\"\n",
    "flight_data_2015 = spark.read.options(inferschema=True,header=True).csv(flight_data_path)\n",
    "\n"
   ]
  },
  {
   "cell_type": "code",
   "execution_count": 11,
   "metadata": {},
   "outputs": [
    {
     "data": {
      "text/plain": [
       "[Row(DEST_COUNTRY_NAME='United States', ORIGIN_COUNTRY_NAME='Romania', count=15),\n",
       " Row(DEST_COUNTRY_NAME='United States', ORIGIN_COUNTRY_NAME='Croatia', count=1),\n",
       " Row(DEST_COUNTRY_NAME='United States', ORIGIN_COUNTRY_NAME='Ireland', count=344)]"
      ]
     },
     "execution_count": 11,
     "metadata": {},
     "output_type": "execute_result"
    }
   ],
   "source": [
    "flight_data_2015.take(3)"
   ]
  },
  {
   "cell_type": "code",
   "execution_count": 12,
   "metadata": {},
   "outputs": [
    {
     "name": "stdout",
     "output_type": "stream",
     "text": [
      "== Physical Plan ==\n",
      "*(1) Sort [count#27 ASC NULLS FIRST], true, 0\n",
      "+- Exchange rangepartitioning(count#27 ASC NULLS FIRST, 200), true, [id=#80]\n",
      "   +- FileScan csv [DEST_COUNTRY_NAME#25,ORIGIN_COUNTRY_NAME#26,count#27] Batched: false, DataFilters: [], Format: CSV, Location: InMemoryFileIndex[file:/c:/Users/Avinash Godbole/Desktop/Programm File/pyspark/oriily_book2018/da..., PartitionFilters: [], PushedFilters: [], ReadSchema: struct<DEST_COUNTRY_NAME:string,ORIGIN_COUNTRY_NAME:string,count:int>\n",
      "\n",
      "\n"
     ]
    }
   ],
   "source": [
    "flight_data_2015.sort('count').explain()"
   ]
  },
  {
   "cell_type": "code",
   "execution_count": 15,
   "metadata": {},
   "outputs": [],
   "source": [
    "# create view for sql queries\n",
    "flight_data_2015.createOrReplaceTempView('flight_data')"
   ]
  },
  {
   "cell_type": "code",
   "execution_count": 16,
   "metadata": {},
   "outputs": [],
   "source": [
    "dataFrameWay = flight_data_2015.groupBy('DEST_COUNTRY_NAME').count()"
   ]
  },
  {
   "cell_type": "code",
   "execution_count": 17,
   "metadata": {},
   "outputs": [],
   "source": [
    "sqlway = spark.sql(\"select DEST_COUNTRY_NAME,count(1) from flight_data GROUP BY DEST_COUNTRY_NAME\")"
   ]
  },
  {
   "cell_type": "code",
   "execution_count": 18,
   "metadata": {},
   "outputs": [
    {
     "name": "stdout",
     "output_type": "stream",
     "text": [
      "== Physical Plan ==\n",
      "*(2) HashAggregate(keys=[DEST_COUNTRY_NAME#25], functions=[count(1)])\n",
      "+- Exchange hashpartitioning(DEST_COUNTRY_NAME#25, 200), true, [id=#106]\n",
      "   +- *(1) HashAggregate(keys=[DEST_COUNTRY_NAME#25], functions=[partial_count(1)])\n",
      "      +- FileScan csv [DEST_COUNTRY_NAME#25] Batched: false, DataFilters: [], Format: CSV, Location: InMemoryFileIndex[file:/c:/Users/Avinash Godbole/Desktop/Programm File/pyspark/oriily_book2018/da..., PartitionFilters: [], PushedFilters: [], ReadSchema: struct<DEST_COUNTRY_NAME:string>\n",
      "\n",
      "\n"
     ]
    }
   ],
   "source": [
    "sqlway.explain()"
   ]
  },
  {
   "cell_type": "code",
   "execution_count": 19,
   "metadata": {},
   "outputs": [
    {
     "name": "stdout",
     "output_type": "stream",
     "text": [
      "== Physical Plan ==\n",
      "*(2) HashAggregate(keys=[DEST_COUNTRY_NAME#25], functions=[count(1)])\n",
      "+- Exchange hashpartitioning(DEST_COUNTRY_NAME#25, 200), true, [id=#125]\n",
      "   +- *(1) HashAggregate(keys=[DEST_COUNTRY_NAME#25], functions=[partial_count(1)])\n",
      "      +- FileScan csv [DEST_COUNTRY_NAME#25] Batched: false, DataFilters: [], Format: CSV, Location: InMemoryFileIndex[file:/c:/Users/Avinash Godbole/Desktop/Programm File/pyspark/oriily_book2018/da..., PartitionFilters: [], PushedFilters: [], ReadSchema: struct<DEST_COUNTRY_NAME:string>\n",
      "\n",
      "\n"
     ]
    }
   ],
   "source": [
    "dataFrameWay.explain()"
   ]
  },
  {
   "cell_type": "code",
   "execution_count": 20,
   "metadata": {},
   "outputs": [
    {
     "data": {
      "text/plain": [
       "[Row(max(count)=370002)]"
      ]
     },
     "execution_count": 20,
     "metadata": {},
     "output_type": "execute_result"
    }
   ],
   "source": [
    "flight_data_2015.select(F.max(\"count\")).take(1)"
   ]
  },
  {
   "cell_type": "code",
   "execution_count": 21,
   "metadata": {},
   "outputs": [],
   "source": [
    "# top 5 \n",
    "# spark sql\n",
    "max_sql = spark.sql(\"select DEST_COUNTRY_NAME, sum(count) as destination_total \\\n",
    "    from flight_data group by DEST_COUNTRY_NAME order by sum(count) desc limit 5\")"
   ]
  },
  {
   "cell_type": "code",
   "execution_count": 27,
   "metadata": {},
   "outputs": [
    {
     "name": "stdout",
     "output_type": "stream",
     "text": [
      "+-----------------+-----------------+\n",
      "|DEST_COUNTRY_NAME|destination_total|\n",
      "+-----------------+-----------------+\n",
      "|    United States|           411352|\n",
      "|           Canada|             8399|\n",
      "|           Mexico|             7140|\n",
      "|   United Kingdom|             2025|\n",
      "|            Japan|             1548|\n",
      "+-----------------+-----------------+\n",
      "\n"
     ]
    }
   ],
   "source": [
    "max_sql.show()"
   ]
  },
  {
   "cell_type": "code",
   "execution_count": 31,
   "metadata": {},
   "outputs": [
    {
     "name": "stdout",
     "output_type": "stream",
     "text": [
      "+-----------------+-----------------+\n",
      "|DEST_COUNTRY_NAME|destination_total|\n",
      "+-----------------+-----------------+\n",
      "|    United States|           411352|\n",
      "|           Canada|             8399|\n",
      "|           Mexico|             7140|\n",
      "|   United Kingdom|             2025|\n",
      "|            Japan|             1548|\n",
      "+-----------------+-----------------+\n",
      "\n"
     ]
    }
   ],
   "source": [
    "# dataframe\n",
    "flight_data_2015.groupBy(\"DEST_COUNTRY_NAME\")\\\n",
    "    .sum('count')\\\n",
    "    .withColumnRenamed(\"sum(count)\",'destination_total')\\\n",
    "    .sort(F.desc('destination_total'))\\\n",
    "    .limit(5)\\\n",
    "    .show()"
   ]
  },
  {
   "cell_type": "code",
   "execution_count": 32,
   "metadata": {},
   "outputs": [
    {
     "name": "stdout",
     "output_type": "stream",
     "text": [
      "== Physical Plan ==\n",
      "TakeOrderedAndProject(limit=5, orderBy=[destination_total#151L DESC NULLS LAST], output=[DEST_COUNTRY_NAME#20,destination_total#151L])\n",
      "+- *(2) HashAggregate(keys=[DEST_COUNTRY_NAME#20], functions=[sum(cast(count#22 as bigint))])\n",
      "   +- Exchange hashpartitioning(DEST_COUNTRY_NAME#20, 200), true, [id=#252]\n",
      "      +- *(1) HashAggregate(keys=[DEST_COUNTRY_NAME#20], functions=[partial_sum(cast(count#22 as bigint))])\n",
      "         +- FileScan csv [DEST_COUNTRY_NAME#20,count#22] Batched: false, DataFilters: [], Format: CSV, Location: InMemoryFileIndex[file:/c:/Users/Avinash Godbole/Desktop/Programm File/pyspark/oriily_book2018/da..., PartitionFilters: [], PushedFilters: [], ReadSchema: struct<DEST_COUNTRY_NAME:string,count:int>\n",
      "\n",
      "\n"
     ]
    }
   ],
   "source": [
    "flight_data_2015.groupBy(\"DEST_COUNTRY_NAME\")\\\n",
    "    .sum('count')\\\n",
    "    .withColumnRenamed(\"sum(count)\",'destination_total')\\\n",
    "    .sort(F.desc('destination_total'))\\\n",
    "    .limit(5).explain()"
   ]
  },
  {
   "cell_type": "markdown",
   "metadata": {},
   "source": [
    "# chapter 3 A Tour of Sparks Toolset"
   ]
  },
  {
   "cell_type": "code",
   "execution_count": 13,
   "metadata": {},
   "outputs": [],
   "source": [
    "retail_data_path = 'data/retail-data/by-day/*.csv'\n",
    "static_dataframe = spark.read.format(\"csv\")\\\n",
    "    .options(inferschema=True,header=True)\\\n",
    "    .load(retail_data_path)"
   ]
  },
  {
   "cell_type": "code",
   "execution_count": 14,
   "metadata": {},
   "outputs": [
    {
     "name": "stdout",
     "output_type": "stream",
     "text": [
      "root\n",
      " |-- InvoiceNo: string (nullable = true)\n",
      " |-- StockCode: string (nullable = true)\n",
      " |-- Description: string (nullable = true)\n",
      " |-- Quantity: integer (nullable = true)\n",
      " |-- InvoiceDate: string (nullable = true)\n",
      " |-- UnitPrice: double (nullable = true)\n",
      " |-- CustomerID: double (nullable = true)\n",
      " |-- Country: string (nullable = true)\n",
      "\n"
     ]
    }
   ],
   "source": [
    "static_dataframe.printSchema()"
   ]
  },
  {
   "cell_type": "code",
   "execution_count": 15,
   "metadata": {},
   "outputs": [
    {
     "name": "stdout",
     "output_type": "stream",
     "text": [
      "+----------+--------------------+------------------+\n",
      "|CustomerID|              window|   sum(total_cost)|\n",
      "+----------+--------------------+------------------+\n",
      "|   16057.0|[2011-12-05 05:30...|             -37.6|\n",
      "|   14126.0|[2011-11-29 05:30...| 643.6300000000001|\n",
      "|   13500.0|[2011-11-16 05:30...| 497.9700000000001|\n",
      "|   17160.0|[2011-11-08 05:30...| 516.8499999999999|\n",
      "|   15608.0|[2011-11-11 05:30...|             122.4|\n",
      "|   15253.0|[2011-11-23 05:30...|             277.6|\n",
      "|   15124.0|[2011-11-17 05:30...|             93.44|\n",
      "|   12539.0|[2011-11-17 05:30...|           1050.66|\n",
      "|   13658.0|[2011-11-30 05:30...| 542.4000000000001|\n",
      "|   17396.0|[2011-10-31 05:30...|             495.0|\n",
      "|   13576.0|[2011-11-10 05:30...| 543.3600000000001|\n",
      "|   15111.0|[2011-11-10 05:30...|329.67999999999995|\n",
      "|   17419.0|[2011-10-06 05:30...|465.54999999999995|\n",
      "|   15749.0|[2011-04-18 05:30...|-1462.500000000001|\n",
      "|   15769.0|[2011-04-18 05:30...|122.03999999999999|\n",
      "|   18219.0|[2011-04-18 05:30...|            200.32|\n",
      "|   13408.0|[2010-12-01 05:30...|1024.6800000000003|\n",
      "|   17460.0|[2010-12-01 05:30...|              19.9|\n",
      "|   17731.0|[2011-09-21 05:30...|            276.37|\n",
      "|   16813.0|[2011-12-01 05:30...|148.54000000000002|\n",
      "+----------+--------------------+------------------+\n",
      "only showing top 20 rows\n",
      "\n"
     ]
    }
   ],
   "source": [
    "static_dataframe.selectExpr(\n",
    "    \"CustomerID\",\n",
    "    \"(UnitPrice * Quantity) as total_cost\",\n",
    "    \"InvoiceDate\")\\\n",
    "    .groupBy(F.col(\"CustomerID\"),F.window(F.col(\"InvoiceDate\"),\"1 day\"))\\\n",
    "    .sum('total_cost')\\\n",
    "    .show()"
   ]
  },
  {
   "cell_type": "code",
   "execution_count": null,
   "metadata": {},
   "outputs": [],
   "source": []
  },
  {
   "cell_type": "code",
   "execution_count": 5,
   "metadata": {},
   "outputs": [],
   "source": [
    "# in Python\n",
    "df1 = spark.range(2, 10000000, 2)\n",
    "df2 = spark.range(2, 10000000, 4)\n",
    "step1 = df1.repartition(5)\n",
    "step12 = df2.repartition(6)\n",
    "step2 = step1.selectExpr(\"id * 5 as id\")\n",
    "step3 = step2.join(step12, [\"id\"])\n",
    "step4 = step3.selectExpr(\"sum(id)\")"
   ]
  },
  {
   "cell_type": "code",
   "execution_count": 6,
   "metadata": {},
   "outputs": [
    {
     "data": {
      "text/plain": [
       "[Row(sum(id)=2500000000000)]"
      ]
     },
     "execution_count": 6,
     "metadata": {},
     "output_type": "execute_result"
    }
   ],
   "source": [
    "step4.collect()"
   ]
  },
  {
   "cell_type": "code",
   "execution_count": 7,
   "metadata": {},
   "outputs": [
    {
     "name": "stdout",
     "output_type": "stream",
     "text": [
      "== Physical Plan ==\n",
      "*(7) HashAggregate(keys=[], functions=[sum(id#8L)])\n",
      "+- Exchange SinglePartition, true, [id=#66]\n",
      "   +- *(6) HashAggregate(keys=[], functions=[partial_sum(id#8L)])\n",
      "      +- *(6) Project [id#8L]\n",
      "         +- *(6) SortMergeJoin [id#8L], [id#2L], Inner\n",
      "            :- *(3) Sort [id#8L ASC NULLS FIRST], false, 0\n",
      "            :  +- Exchange hashpartitioning(id#8L, 200), true, [id=#50]\n",
      "            :     +- *(2) Project [(id#0L * 5) AS id#8L]\n",
      "            :        +- Exchange RoundRobinPartitioning(5), false, [id=#46]\n",
      "            :           +- *(1) Range (2, 10000000, step=2, splits=8)\n",
      "            +- *(5) Sort [id#2L ASC NULLS FIRST], false, 0\n",
      "               +- Exchange hashpartitioning(id#2L, 200), true, [id=#57]\n",
      "                  +- Exchange RoundRobinPartitioning(6), false, [id=#56]\n",
      "                     +- *(4) Range (2, 10000000, step=4, splits=8)\n",
      "\n",
      "\n"
     ]
    }
   ],
   "source": [
    "step4.explain()"
   ]
  },
  {
   "cell_type": "markdown",
   "metadata": {},
   "source": [
    "# 4. Structured API \n",
    "    - DataFrame\n",
    "    - Dataset \n",
    "    - sql"
   ]
  },
  {
   "cell_type": "code",
   "execution_count": 22,
   "metadata": {},
   "outputs": [
    {
     "data": {
      "text/html": [
       "\n",
       "            <div>\n",
       "                <p><b>SparkSession - in-memory</b></p>\n",
       "                \n",
       "        <div>\n",
       "            <p><b>SparkContext</b></p>\n",
       "\n",
       "            <p><a href=\"http://avinash:4040\">Spark UI</a></p>\n",
       "\n",
       "            <dl>\n",
       "              <dt>Version</dt>\n",
       "                <dd><code>v3.0.3</code></dd>\n",
       "              <dt>Master</dt>\n",
       "                <dd><code>local[*]</code></dd>\n",
       "              <dt>AppName</dt>\n",
       "                <dd><code>intro</code></dd>\n",
       "            </dl>\n",
       "        </div>\n",
       "        \n",
       "            </div>\n",
       "        "
      ],
      "text/plain": [
       "<pyspark.sql.session.SparkSession at 0x1407e359970>"
      ]
     },
     "execution_count": 22,
     "metadata": {},
     "output_type": "execute_result"
    }
   ],
   "source": [
    "spark"
   ]
  },
  {
   "cell_type": "code",
   "execution_count": 26,
   "metadata": {},
   "outputs": [
    {
     "name": "stdout",
     "output_type": "stream",
     "text": [
      "+------+--------+\n",
      "|number|addition|\n",
      "+------+--------+\n",
      "|     0|      10|\n",
      "|     1|      11|\n",
      "|     2|      12|\n",
      "|     3|      13|\n",
      "|     4|      14|\n",
      "|     5|      15|\n",
      "|     6|      16|\n",
      "|     7|      17|\n",
      "|     8|      18|\n",
      "|     9|      19|\n",
      "|    10|      20|\n",
      "|    11|      21|\n",
      "|    12|      22|\n",
      "|    13|      23|\n",
      "|    14|      24|\n",
      "|    15|      25|\n",
      "|    16|      26|\n",
      "|    17|      27|\n",
      "|    18|      28|\n",
      "|    19|      29|\n",
      "+------+--------+\n",
      "only showing top 20 rows\n",
      "\n"
     ]
    }
   ],
   "source": [
    "df = spark.range(50).toDF(\"number\")\n",
    "df.withColumn(\"addition\",df.number+10).show()"
   ]
  },
  {
   "cell_type": "code",
   "execution_count": 27,
   "metadata": {},
   "outputs": [
    {
     "data": {
      "text/plain": [
       "[Row(number=0),\n",
       " Row(number=1),\n",
       " Row(number=2),\n",
       " Row(number=3),\n",
       " Row(number=4),\n",
       " Row(number=5),\n",
       " Row(number=6),\n",
       " Row(number=7),\n",
       " Row(number=8),\n",
       " Row(number=9),\n",
       " Row(number=10),\n",
       " Row(number=11),\n",
       " Row(number=12),\n",
       " Row(number=13),\n",
       " Row(number=14),\n",
       " Row(number=15),\n",
       " Row(number=16),\n",
       " Row(number=17),\n",
       " Row(number=18),\n",
       " Row(number=19),\n",
       " Row(number=20),\n",
       " Row(number=21),\n",
       " Row(number=22),\n",
       " Row(number=23),\n",
       " Row(number=24),\n",
       " Row(number=25),\n",
       " Row(number=26),\n",
       " Row(number=27),\n",
       " Row(number=28),\n",
       " Row(number=29),\n",
       " Row(number=30),\n",
       " Row(number=31),\n",
       " Row(number=32),\n",
       " Row(number=33),\n",
       " Row(number=34),\n",
       " Row(number=35),\n",
       " Row(number=36),\n",
       " Row(number=37),\n",
       " Row(number=38),\n",
       " Row(number=39),\n",
       " Row(number=40),\n",
       " Row(number=41),\n",
       " Row(number=42),\n",
       " Row(number=43),\n",
       " Row(number=44),\n",
       " Row(number=45),\n",
       " Row(number=46),\n",
       " Row(number=47),\n",
       " Row(number=48),\n",
       " Row(number=49)]"
      ]
     },
     "execution_count": 27,
     "metadata": {},
     "output_type": "execute_result"
    }
   ],
   "source": [
    "# rows \n",
    "df.collect()\n"
   ]
  },
  {
   "cell_type": "code",
   "execution_count": null,
   "metadata": {},
   "outputs": [],
   "source": [
    "# datatype"
   ]
  },
  {
   "cell_type": "code",
   "execution_count": null,
   "metadata": {},
   "outputs": [],
   "source": [
    "# execution of plan page no 63 "
   ]
  },
  {
   "cell_type": "code",
   "execution_count": null,
   "metadata": {},
   "outputs": [],
   "source": []
  },
  {
   "cell_type": "code",
   "execution_count": null,
   "metadata": {},
   "outputs": [],
   "source": []
  },
  {
   "cell_type": "code",
   "execution_count": null,
   "metadata": {},
   "outputs": [],
   "source": []
  },
  {
   "cell_type": "code",
   "execution_count": null,
   "metadata": {},
   "outputs": [],
   "source": [
    "spark.stop()"
   ]
  }
 ],
 "metadata": {
  "kernelspec": {
   "display_name": "Python 3.8.5 ('base')",
   "language": "python",
   "name": "python3"
  },
  "language_info": {
   "codemirror_mode": {
    "name": "ipython",
    "version": 3
   },
   "file_extension": ".py",
   "mimetype": "text/x-python",
   "name": "python",
   "nbconvert_exporter": "python",
   "pygments_lexer": "ipython3",
   "version": "3.8.5"
  },
  "orig_nbformat": 4,
  "vscode": {
   "interpreter": {
    "hash": "ad2bdc8ecc057115af97d19610ffacc2b4e99fae6737bb82f5d7fb13d2f2c186"
   }
  }
 },
 "nbformat": 4,
 "nbformat_minor": 2
}
