{
 "cells": [
  {
   "cell_type": "markdown",
   "metadata": {},
   "source": [
    "# Fuctions\n",
    "- Pyspark Dataframe\n",
    "- Reading the dataset\n",
    "- Checking the Datatypes of teh columns(schema)\n",
    "- selecting columns and indexing\n",
    "- check Describe option similar to Pandas\n",
    "- Addding Columns\n",
    "- Dropping columns"
   ]
  },
  {
   "cell_type": "code",
   "execution_count": 1,
   "metadata": {
    "ExecuteTime": {
     "end_time": "2022-02-28T02:50:12.659085Z",
     "start_time": "2022-02-28T02:50:12.652446Z"
    }
   },
   "outputs": [],
   "source": [
    "from pyspark.sql import SparkSession"
   ]
  },
  {
   "cell_type": "code",
   "execution_count": 2,
   "metadata": {
    "ExecuteTime": {
     "end_time": "2022-02-28T02:51:23.052362Z",
     "start_time": "2022-02-28T02:51:09.596905Z"
    }
   },
   "outputs": [],
   "source": [
    "spark = SparkSession.builder.appName(\"Dataframe\").getOrCreate()"
   ]
  },
  {
   "cell_type": "code",
   "execution_count": 4,
   "metadata": {},
   "outputs": [
    {
     "data": {
      "text/html": [
       "\n",
       "            <div>\n",
       "                <p><b>SparkSession - in-memory</b></p>\n",
       "                \n",
       "        <div>\n",
       "            <p><b>SparkContext</b></p>\n",
       "\n",
       "            <p><a href=\"http://avinash:4040\">Spark UI</a></p>\n",
       "\n",
       "            <dl>\n",
       "              <dt>Version</dt>\n",
       "                <dd><code>v3.0.3</code></dd>\n",
       "              <dt>Master</dt>\n",
       "                <dd><code>local[*]</code></dd>\n",
       "              <dt>AppName</dt>\n",
       "                <dd><code>Dataframe</code></dd>\n",
       "            </dl>\n",
       "        </div>\n",
       "        \n",
       "            </div>\n",
       "        "
      ],
      "text/plain": [
       "<pyspark.sql.session.SparkSession at 0x25459747a30>"
      ]
     },
     "execution_count": 4,
     "metadata": {},
     "output_type": "execute_result"
    }
   ],
   "source": [
    "spark"
   ]
  },
  {
   "cell_type": "code",
   "execution_count": 3,
   "metadata": {
    "ExecuteTime": {
     "end_time": "2022-02-28T03:05:55.281490Z",
     "start_time": "2022-02-28T03:05:55.098295Z"
    }
   },
   "outputs": [],
   "source": [
    "## read the dataset\n",
    "df_pyspark=spark.read.option('header','true').csv('test1.csv',inferSchema=True)"
   ]
  },
  {
   "cell_type": "code",
   "execution_count": 32,
   "metadata": {
    "ExecuteTime": {
     "end_time": "2022-02-28T03:05:57.369893Z",
     "start_time": "2022-02-28T03:05:57.354354Z"
    }
   },
   "outputs": [
    {
     "name": "stdout",
     "output_type": "stream",
     "text": [
      "root\n",
      " |-- _c0: integer (nullable = true)\n",
      " |-- Name: string (nullable = true)\n",
      " |-- Age: integer (nullable = true)\n",
      " |-- Experience: integer (nullable = true)\n",
      "\n"
     ]
    }
   ],
   "source": [
    "# chek the schema\n",
    "df_pyspark.printSchema()"
   ]
  },
  {
   "cell_type": "code",
   "execution_count": 26,
   "metadata": {
    "ExecuteTime": {
     "end_time": "2022-02-28T03:05:08.288893Z",
     "start_time": "2022-02-28T03:05:08.124828Z"
    }
   },
   "outputs": [],
   "source": [
    "df_pyspark = spark.read.csv('test1.csv',header=True,inferSchema=True)"
   ]
  },
  {
   "cell_type": "code",
   "execution_count": 9,
   "metadata": {
    "ExecuteTime": {
     "end_time": "2022-02-28T02:55:01.312169Z",
     "start_time": "2022-02-28T02:55:01.294168Z"
    }
   },
   "outputs": [
    {
     "name": "stdout",
     "output_type": "stream",
     "text": [
      "root\n",
      " |-- _c0: integer (nullable = true)\n",
      " |-- Name: string (nullable = true)\n",
      " |-- Age: integer (nullable = true)\n",
      " |-- Experience: integer (nullable = true)\n",
      "\n"
     ]
    }
   ],
   "source": [
    "df_pyspark.printSchema()"
   ]
  },
  {
   "cell_type": "code",
   "execution_count": 10,
   "metadata": {
    "ExecuteTime": {
     "end_time": "2022-02-28T02:55:12.137684Z",
     "start_time": "2022-02-28T02:55:12.121688Z"
    }
   },
   "outputs": [
    {
     "data": {
      "text/plain": [
       "pyspark.sql.dataframe.DataFrame"
      ]
     },
     "execution_count": 10,
     "metadata": {},
     "output_type": "execute_result"
    }
   ],
   "source": [
    "type(df_pyspark)"
   ]
  },
  {
   "cell_type": "code",
   "execution_count": 11,
   "metadata": {
    "ExecuteTime": {
     "end_time": "2022-02-28T02:56:00.798879Z",
     "start_time": "2022-02-28T02:56:00.776877Z"
    }
   },
   "outputs": [
    {
     "data": {
      "text/plain": [
       "['_c0', 'Name', 'Age', 'Experience']"
      ]
     },
     "execution_count": 11,
     "metadata": {},
     "output_type": "execute_result"
    }
   ],
   "source": [
    "# get columns\n",
    "df_pyspark.columns"
   ]
  },
  {
   "cell_type": "code",
   "execution_count": 12,
   "metadata": {
    "ExecuteTime": {
     "end_time": "2022-02-28T02:56:24.491335Z",
     "start_time": "2022-02-28T02:56:24.273692Z"
    }
   },
   "outputs": [
    {
     "data": {
      "text/plain": [
       "[Row(_c0=0, Name='avi', Age=31, Experience=4),\n",
       " Row(_c0=1, Name='rahul', Age=32, Experience=3),\n",
       " Row(_c0=2, Name='shubham', Age=33, Experience=2)]"
      ]
     },
     "execution_count": 12,
     "metadata": {},
     "output_type": "execute_result"
    }
   ],
   "source": [
    "df_pyspark.head(3)"
   ]
  },
  {
   "cell_type": "code",
   "execution_count": 13,
   "metadata": {
    "ExecuteTime": {
     "end_time": "2022-02-28T02:56:51.508793Z",
     "start_time": "2022-02-28T02:56:51.273775Z"
    }
   },
   "outputs": [
    {
     "name": "stdout",
     "output_type": "stream",
     "text": [
      "+---+-------+---+----------+\n",
      "|_c0|   Name|Age|Experience|\n",
      "+---+-------+---+----------+\n",
      "|  0|    avi| 31|         4|\n",
      "|  1|  rahul| 32|         3|\n",
      "|  2|shubham| 33|         2|\n",
      "+---+-------+---+----------+\n",
      "\n"
     ]
    }
   ],
   "source": [
    "df_pyspark.show()"
   ]
  },
  {
   "cell_type": "code",
   "execution_count": 14,
   "metadata": {
    "ExecuteTime": {
     "end_time": "2022-02-28T02:57:06.808374Z",
     "start_time": "2022-02-28T02:57:06.755239Z"
    }
   },
   "outputs": [
    {
     "data": {
      "text/plain": [
       "DataFrame[Name: string]"
      ]
     },
     "execution_count": 14,
     "metadata": {},
     "output_type": "execute_result"
    }
   ],
   "source": [
    "# selectiong perticular columns\n",
    "df_pyspark.select('Name')"
   ]
  },
  {
   "cell_type": "code",
   "execution_count": 15,
   "metadata": {
    "ExecuteTime": {
     "end_time": "2022-02-28T02:58:20.547824Z",
     "start_time": "2022-02-28T02:58:20.329692Z"
    }
   },
   "outputs": [
    {
     "name": "stdout",
     "output_type": "stream",
     "text": [
      "+-------+----------+\n",
      "|   Name|Experience|\n",
      "+-------+----------+\n",
      "|    avi|         4|\n",
      "|  rahul|         3|\n",
      "|shubham|         2|\n",
      "+-------+----------+\n",
      "\n"
     ]
    }
   ],
   "source": [
    "# selectiong mulitple columns\n",
    "df_pyspark.select(['Name','Experience']).show()"
   ]
  },
  {
   "cell_type": "code",
   "execution_count": 16,
   "metadata": {
    "ExecuteTime": {
     "end_time": "2022-02-28T02:58:46.476784Z",
     "start_time": "2022-02-28T02:58:46.342954Z"
    }
   },
   "outputs": [
    {
     "data": {
      "text/plain": [
       "Column<'Name'>"
      ]
     },
     "execution_count": 16,
     "metadata": {},
     "output_type": "execute_result"
    }
   ],
   "source": [
    "df_pyspark['Name'] # see the type of data # not shows the "
   ]
  },
  {
   "cell_type": "code",
   "execution_count": 17,
   "metadata": {
    "ExecuteTime": {
     "end_time": "2022-02-28T02:59:29.778009Z",
     "start_time": "2022-02-28T02:59:29.766029Z"
    }
   },
   "outputs": [
    {
     "data": {
      "text/plain": [
       "[('_c0', 'int'), ('Name', 'string'), ('Age', 'int'), ('Experience', 'int')]"
      ]
     },
     "execution_count": 17,
     "metadata": {},
     "output_type": "execute_result"
    }
   ],
   "source": [
    "df_pyspark.dtypes"
   ]
  },
  {
   "cell_type": "code",
   "execution_count": 19,
   "metadata": {
    "ExecuteTime": {
     "end_time": "2022-02-28T03:00:08.233546Z",
     "start_time": "2022-02-28T03:00:07.716362Z"
    }
   },
   "outputs": [
    {
     "name": "stdout",
     "output_type": "stream",
     "text": [
      "+-------+---+-------+----+----------+\n",
      "|summary|_c0|   Name| Age|Experience|\n",
      "+-------+---+-------+----+----------+\n",
      "|  count|  3|      3|   3|         3|\n",
      "|   mean|1.0|   null|32.0|       3.0|\n",
      "| stddev|1.0|   null| 1.0|       1.0|\n",
      "|    min|  0|    avi|  31|         2|\n",
      "|    max|  2|shubham|  33|         4|\n",
      "+-------+---+-------+----+----------+\n",
      "\n"
     ]
    }
   ],
   "source": [
    "# describe\n",
    "df_pyspark.describe().show()"
   ]
  },
  {
   "cell_type": "code",
   "execution_count": 34,
   "metadata": {
    "ExecuteTime": {
     "end_time": "2022-02-28T03:06:04.646569Z",
     "start_time": "2022-02-28T03:06:04.627349Z"
    }
   },
   "outputs": [],
   "source": [
    "df_pyspark=df_pyspark.withColumn(\"Experience after 2 yeaer\",df_pyspark['Experience']+2)"
   ]
  },
  {
   "cell_type": "code",
   "execution_count": 37,
   "metadata": {
    "ExecuteTime": {
     "end_time": "2022-02-28T03:06:39.320279Z",
     "start_time": "2022-02-28T03:06:39.230209Z"
    }
   },
   "outputs": [
    {
     "name": "stdout",
     "output_type": "stream",
     "text": [
      "+---+-------+---+----------+\n",
      "|_c0|   Name|Age|Experience|\n",
      "+---+-------+---+----------+\n",
      "|  0|    avi| 31|         4|\n",
      "|  1|  rahul| 32|         3|\n",
      "|  2|shubham| 33|         2|\n",
      "+---+-------+---+----------+\n",
      "\n"
     ]
    }
   ],
   "source": [
    "## drop teh columns \n",
    "df_pyspark.drop(\"Experience after 2 yeaer\").show()"
   ]
  },
  {
   "cell_type": "code",
   "execution_count": 38,
   "metadata": {
    "ExecuteTime": {
     "end_time": "2022-02-28T03:06:43.805311Z",
     "start_time": "2022-02-28T03:06:43.730338Z"
    }
   },
   "outputs": [
    {
     "name": "stdout",
     "output_type": "stream",
     "text": [
      "+---+-------+---+----------+------------------------+\n",
      "|_c0|   Name|Age|Experience|Experience after 2 yeaer|\n",
      "+---+-------+---+----------+------------------------+\n",
      "|  0|    avi| 31|         4|                       6|\n",
      "|  1|  rahul| 32|         3|                       5|\n",
      "|  2|shubham| 33|         2|                       4|\n",
      "+---+-------+---+----------+------------------------+\n",
      "\n"
     ]
    }
   ],
   "source": [
    "df_pyspark.show()"
   ]
  },
  {
   "cell_type": "code",
   "execution_count": 39,
   "metadata": {
    "ExecuteTime": {
     "end_time": "2022-02-28T03:08:13.838629Z",
     "start_time": "2022-02-28T03:08:13.708891Z"
    }
   },
   "outputs": [
    {
     "name": "stdout",
     "output_type": "stream",
     "text": [
      "+---+--------+---+----------+------------------------+\n",
      "|_c0|New Name|Age|Experience|Experience after 2 yeaer|\n",
      "+---+--------+---+----------+------------------------+\n",
      "|  0|     avi| 31|         4|                       6|\n",
      "|  1|   rahul| 32|         3|                       5|\n",
      "|  2| shubham| 33|         2|                       4|\n",
      "+---+--------+---+----------+------------------------+\n",
      "\n"
     ]
    }
   ],
   "source": [
    "### Rename the columns\n",
    "df_pyspark.withColumnRenamed(\"Name\",\"New Name\").show()"
   ]
  },
  {
   "cell_type": "code",
   "execution_count": 5,
   "metadata": {},
   "outputs": [],
   "source": [
    "spark.stop()"
   ]
  },
  {
   "cell_type": "code",
   "execution_count": null,
   "metadata": {},
   "outputs": [],
   "source": []
  }
 ],
 "metadata": {
  "kernelspec": {
   "display_name": "base",
   "language": "python",
   "name": "python3"
  },
  "language_info": {
   "codemirror_mode": {
    "name": "ipython",
    "version": 3
   },
   "file_extension": ".py",
   "mimetype": "text/x-python",
   "name": "python",
   "nbconvert_exporter": "python",
   "pygments_lexer": "ipython3",
   "version": "3.8.5"
  },
  "toc": {
   "base_numbering": 1,
   "nav_menu": {},
   "number_sections": true,
   "sideBar": true,
   "skip_h1_title": false,
   "title_cell": "Table of Contents",
   "title_sidebar": "Contents",
   "toc_cell": false,
   "toc_position": {},
   "toc_section_display": true,
   "toc_window_display": false
  },
  "vscode": {
   "interpreter": {
    "hash": "ad2bdc8ecc057115af97d19610ffacc2b4e99fae6737bb82f5d7fb13d2f2c186"
   }
  }
 },
 "nbformat": 4,
 "nbformat_minor": 4
}
